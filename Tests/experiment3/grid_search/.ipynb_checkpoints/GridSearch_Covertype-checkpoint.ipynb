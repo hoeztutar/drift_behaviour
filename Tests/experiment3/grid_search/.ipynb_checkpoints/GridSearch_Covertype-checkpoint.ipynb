{
 "cells": [
  {
   "cell_type": "code",
   "execution_count": 1,
   "metadata": {
    "ExecuteTime": {
     "end_time": "2019-06-12T20:58:55.252452Z",
     "start_time": "2019-06-12T20:58:53.529675Z"
    },
    "collapsed": true
   },
   "outputs": [],
   "source": [
    "import pandas as pd\n",
    "pd.set_option('display.max_column', 250)\n",
    "import numpy as np\n",
    "\n",
    "import matplotlib.pyplot as plt\n",
    "import seaborn as sns\n",
    "plt.style.use('seaborn-notebook')\n",
    "from matplotlib import rcParams\n",
    "rcParams['figure.figsize'] = (6, 4)\n",
    "rcParams['figure.dpi'] = 150\n",
    "\n",
    "from sklearn.preprocessing import LabelEncoder, StandardScaler\n",
    "from sklearn.model_selection import RandomizedSearchCV\n",
    "\n",
    "from sklearn.ensemble import RandomForestClassifier\n",
    "from sklearn.ensemble import GradientBoostingClassifier\n",
    "from sklearn.svm import SVC\n",
    "from xgboost import XGBClassifier\n",
    "\n",
    "from read_data import read_sample_data, random_gridsearch"
   ]
  },
  {
   "cell_type": "code",
   "execution_count": 2,
   "metadata": {
    "ExecuteTime": {
     "end_time": "2019-06-12T20:59:20.785096Z",
     "start_time": "2019-06-12T20:58:55.255132Z"
    }
   },
   "outputs": [
    {
     "name": "stderr",
     "output_type": "stream",
     "text": [
      "/Users/Feranor/anaconda3/envs/env_CD/lib/python3.7/site-packages/sklearn/model_selection/_split.py:2179: FutureWarning: From version 0.21, test_size will always complement train_size unless both are specified.\n",
      "  FutureWarning)\n"
     ]
    }
   ],
   "source": [
    "#split data\n",
    "X_train, X_test, y_train, y_test = read_sample_data('../data/covtypeNorm.arff')"
   ]
  },
  {
   "cell_type": "markdown",
   "metadata": {
    "ExecuteTime": {
     "end_time": "2019-06-11T15:21:27.598036Z",
     "start_time": "2019-06-11T15:21:27.390935Z"
    }
   },
   "source": [
    "standard scaler\n",
    "sc = StandardScaler()\n",
    "X = sc.fit_transform(X)"
   ]
  },
  {
   "cell_type": "code",
   "execution_count": 3,
   "metadata": {
    "ExecuteTime": {
     "end_time": "2019-06-12T20:59:20.960680Z",
     "start_time": "2019-06-12T20:59:20.792456Z"
    },
    "collapsed": true
   },
   "outputs": [],
   "source": [
    "#label encoder\n",
    "le = LabelEncoder()\n",
    "y_train = le.fit_transform(y_train)\n",
    "y_test = le.transform(y_test)"
   ]
  },
  {
   "cell_type": "markdown",
   "metadata": {},
   "source": [
    "## Random Forest"
   ]
  },
  {
   "cell_type": "code",
   "execution_count": 4,
   "metadata": {
    "ExecuteTime": {
     "end_time": "2019-06-12T20:59:21.003909Z",
     "start_time": "2019-06-12T20:59:20.969966Z"
    },
    "collapsed": true
   },
   "outputs": [],
   "source": [
    "#random grid for random forests\n",
    "rf_grid = {'bootstrap': [True, False],\n",
    "               'max_depth': [10, 20, 30, 40, 50, 60, 70, 80, 90, 100, None],\n",
    "               'max_features': ['auto', 'sqrt'],\n",
    "               'min_samples_leaf': [1, 2, 4],\n",
    "               'min_samples_split': [2, 5, 10],\n",
    "               'n_estimators': [200, 400, 600, 800, 1000, 1200, 1400, 1600, 1800, 2000]\n",
    "              }"
   ]
  },
  {
   "cell_type": "code",
   "execution_count": 5,
   "metadata": {
    "ExecuteTime": {
     "end_time": "2019-06-12T21:40:40.203461Z",
     "start_time": "2019-06-12T20:59:21.019005Z"
    }
   },
   "outputs": [
    {
     "name": "stdout",
     "output_type": "stream",
     "text": [
      "Fitting 3 folds for each of 300 candidates, totalling 900 fits\n"
     ]
    },
    {
     "name": "stderr",
     "output_type": "stream",
     "text": [
      "[Parallel(n_jobs=-1)]: Using backend LokyBackend with 4 concurrent workers.\n",
      "[Parallel(n_jobs=-1)]: Done  10 tasks      | elapsed:   30.1s\n",
      "[Parallel(n_jobs=-1)]: Done  64 tasks      | elapsed:  3.4min\n",
      "[Parallel(n_jobs=-1)]: Done 154 tasks      | elapsed:  6.9min\n",
      "[Parallel(n_jobs=-1)]: Done 280 tasks      | elapsed: 13.8min\n",
      "[Parallel(n_jobs=-1)]: Done 442 tasks      | elapsed: 21.0min\n",
      "[Parallel(n_jobs=-1)]: Done 640 tasks      | elapsed: 30.0min\n",
      "[Parallel(n_jobs=-1)]: Done 874 tasks      | elapsed: 40.3min\n",
      "[Parallel(n_jobs=-1)]: Done 900 out of 900 | elapsed: 41.1min finished\n"
     ]
    },
    {
     "data": {
      "text/plain": [
       "RandomizedSearchCV(cv=3, error_score='raise-deprecating',\n",
       "          estimator=RandomForestClassifier(bootstrap=True, class_weight=None, criterion='gini',\n",
       "            max_depth=None, max_features='auto', max_leaf_nodes=None,\n",
       "            min_impurity_decrease=0.0, min_impurity_split=None,\n",
       "            min_samples_leaf=1, min_samples_split=2,\n",
       "            min_weight_fraction_leaf=0.0, n_estimators='warn', n_jobs=None,\n",
       "            oob_score=False, random_state=None, verbose=0,\n",
       "            warm_start=False),\n",
       "          fit_params=None, iid='warn', n_iter=300, n_jobs=-1,\n",
       "          param_distributions={'bootstrap': [True, False], 'max_depth': [10, 20, 30, 40, 50, 60, 70, 80, 90, 100, None], 'max_features': ['auto', 'sqrt'], 'min_samples_leaf': [1, 2, 4], 'min_samples_split': [2, 5, 10], 'n_estimators': [200, 400, 600, 800, 1000, 1200, 1400, 1600, 1800, 2000]},\n",
       "          pre_dispatch='2*n_jobs', random_state=42, refit=True,\n",
       "          return_train_score='warn', scoring=None, verbose=5)"
      ]
     },
     "execution_count": 5,
     "metadata": {},
     "output_type": "execute_result"
    }
   ],
   "source": [
    "from read_data import random_gridsearch\n",
    "\n",
    "rf_search = random_gridsearch(RandomForestClassifier(), rf_grid)\n",
    "rf_search.fit(X_train, y_train)"
   ]
  },
  {
   "cell_type": "code",
   "execution_count": 6,
   "metadata": {
    "ExecuteTime": {
     "end_time": "2019-06-12T21:45:23.041823Z",
     "start_time": "2019-06-12T21:40:40.206866Z"
    }
   },
   "outputs": [
    {
     "name": "stdout",
     "output_type": "stream",
     "text": [
      "Score in test set: 0.7960632764595182\n",
      "Score in test set: 0.7960632764595182\n",
      "{'n_estimators': 1200, 'min_samples_split': 2, 'min_samples_leaf': 1, 'max_features': 'sqrt', 'max_depth': 40, 'bootstrap': False}\n"
     ]
    }
   ],
   "source": [
    "print(\"Score in test set:\", rf_search.score(X_test, y_test))\n",
    "print(\"Score in test set:\", rf_search.score(X_test, y_test))\n",
    "print(rf_search.best_params_)"
   ]
  },
  {
   "cell_type": "markdown",
   "metadata": {},
   "source": [
    "## Gradient Boosting Machine"
   ]
  },
  {
   "cell_type": "code",
   "execution_count": 7,
   "metadata": {
    "ExecuteTime": {
     "end_time": "2019-06-12T21:45:23.051961Z",
     "start_time": "2019-06-12T21:45:23.044609Z"
    },
    "collapsed": true
   },
   "outputs": [],
   "source": [
    "gbm_grid = {'learning_rate': [0.001, 0.005, 0.01, 0.05, 0.1, 0.5],\n",
    "            'max_depth': [10, 20, 30, 40, 50, 60, 70, 80, 90, 100, None],\n",
    "            'n_estimators': [200, 400, 600, 800, 1000, 1200, 1400, 1600, 1800, 2000]\n",
    "           }"
   ]
  },
  {
   "cell_type": "code",
   "execution_count": 8,
   "metadata": {
    "ExecuteTime": {
     "end_time": "2019-06-13T10:04:15.659264Z",
     "start_time": "2019-06-12T21:45:23.059235Z"
    }
   },
   "outputs": [
    {
     "name": "stdout",
     "output_type": "stream",
     "text": [
      "Fitting 3 folds for each of 300 candidates, totalling 900 fits\n"
     ]
    },
    {
     "name": "stderr",
     "output_type": "stream",
     "text": [
      "[Parallel(n_jobs=-1)]: Using backend LokyBackend with 4 concurrent workers.\n",
      "[Parallel(n_jobs=-1)]: Done  10 tasks      | elapsed:  3.3min\n",
      "[Parallel(n_jobs=-1)]: Done  64 tasks      | elapsed: 40.1min\n",
      "[Parallel(n_jobs=-1)]: Done 154 tasks      | elapsed: 115.2min\n",
      "[Parallel(n_jobs=-1)]: Done 280 tasks      | elapsed: 228.2min\n",
      "[Parallel(n_jobs=-1)]: Done 442 tasks      | elapsed: 362.6min\n",
      "[Parallel(n_jobs=-1)]: Done 640 tasks      | elapsed: 532.9min\n",
      "[Parallel(n_jobs=-1)]: Done 874 tasks      | elapsed: 728.5min\n",
      "[Parallel(n_jobs=-1)]: Done 900 out of 900 | elapsed: 737.5min finished\n"
     ]
    },
    {
     "data": {
      "text/plain": [
       "RandomizedSearchCV(cv=3, error_score='raise-deprecating',\n",
       "          estimator=GradientBoostingClassifier(criterion='friedman_mse', init=None,\n",
       "              learning_rate=0.1, loss='deviance', max_depth=3,\n",
       "              max_features=None, max_leaf_nodes=None,\n",
       "              min_impurity_decrease=0.0, min_impurity_split=None,\n",
       "              min_samples_leaf=1, min_sampl...      subsample=1.0, tol=0.0001, validation_fraction=0.1,\n",
       "              verbose=0, warm_start=False),\n",
       "          fit_params=None, iid='warn', n_iter=300, n_jobs=-1,\n",
       "          param_distributions={'learning_rate': [0.001, 0.005, 0.01, 0.05, 0.1, 0.5], 'max_depth': [10, 20, 30, 40, 50, 60, 70, 80, 90, 100, None], 'n_estimators': [200, 400, 600, 800, 1000, 1200, 1400, 1600, 1800, 2000]},\n",
       "          pre_dispatch='2*n_jobs', random_state=42, refit=True,\n",
       "          return_train_score='warn', scoring=None, verbose=5)"
      ]
     },
     "execution_count": 8,
     "metadata": {},
     "output_type": "execute_result"
    }
   ],
   "source": [
    "gbm_search = random_gridsearch(GradientBoostingClassifier(), gbm_grid)\n",
    "gbm_search.fit(X_train, y_train)"
   ]
  },
  {
   "cell_type": "code",
   "execution_count": 9,
   "metadata": {
    "ExecuteTime": {
     "end_time": "2019-06-13T10:05:28.522652Z",
     "start_time": "2019-06-13T10:04:15.667721Z"
    }
   },
   "outputs": [
    {
     "name": "stdout",
     "output_type": "stream",
     "text": [
      "Score in train set: 1.0\n",
      "Score in test set: 0.7911171989472442\n",
      "{'n_estimators': 1000, 'max_depth': 10, 'learning_rate': 0.05}\n"
     ]
    }
   ],
   "source": [
    "print(\"Score in train set:\", gbm_search.score(X_train, y_train))\n",
    "print(\"Score in test set:\", gbm_search.score(X_test, y_test))\n",
    "print(gbm_search.best_params_)"
   ]
  },
  {
   "cell_type": "markdown",
   "metadata": {},
   "source": [
    "## Support Vector Machine"
   ]
  },
  {
   "cell_type": "code",
   "execution_count": 10,
   "metadata": {
    "ExecuteTime": {
     "end_time": "2019-06-13T10:05:28.536419Z",
     "start_time": "2019-06-13T10:05:28.525779Z"
    },
    "collapsed": true
   },
   "outputs": [],
   "source": [
    "svm_grid = {\n",
    "    'kernel': ['linear', 'rbf', 'poly', 'sigmoid'],\n",
    "    'C': [0.001, 0.005, 0.01, 0.05, 0.1, 0.5, 10, 50, 100],\n",
    "    'gamma': [0.001, 0.01, 0.1, 1]}"
   ]
  },
  {
   "cell_type": "code",
   "execution_count": 11,
   "metadata": {
    "ExecuteTime": {
     "end_time": "2019-06-13T10:11:19.706462Z",
     "start_time": "2019-06-13T10:05:28.543535Z"
    }
   },
   "outputs": [
    {
     "name": "stdout",
     "output_type": "stream",
     "text": [
      "Fitting 3 folds for each of 144 candidates, totalling 432 fits\n"
     ]
    },
    {
     "name": "stderr",
     "output_type": "stream",
     "text": [
      "/Users/Feranor/anaconda3/envs/env_CD/lib/python3.7/site-packages/sklearn/model_selection/_search.py:271: UserWarning: The total space of parameters 144 is smaller than n_iter=300. Running 144 iterations. For exhaustive searches, use GridSearchCV.\n",
      "  % (grid_size, self.n_iter, grid_size), UserWarning)\n",
      "[Parallel(n_jobs=-1)]: Using backend LokyBackend with 4 concurrent workers.\n",
      "[Parallel(n_jobs=-1)]: Done  10 tasks      | elapsed:   10.1s\n",
      "[Parallel(n_jobs=-1)]: Done  64 tasks      | elapsed:   54.3s\n",
      "[Parallel(n_jobs=-1)]: Done 154 tasks      | elapsed:  2.1min\n",
      "[Parallel(n_jobs=-1)]: Done 280 tasks      | elapsed:  3.8min\n",
      "[Parallel(n_jobs=-1)]: Done 432 out of 432 | elapsed:  5.8min finished\n"
     ]
    },
    {
     "data": {
      "text/plain": [
       "RandomizedSearchCV(cv=3, error_score='raise-deprecating',\n",
       "          estimator=SVC(C=1.0, cache_size=200, class_weight=None, coef0=0.0,\n",
       "  decision_function_shape='ovr', degree=3, gamma='auto_deprecated',\n",
       "  kernel='rbf', max_iter=-1, probability=False, random_state=None,\n",
       "  shrinking=True, tol=0.001, verbose=False),\n",
       "          fit_params=None, iid='warn', n_iter=300, n_jobs=-1,\n",
       "          param_distributions={'kernel': ['linear', 'rbf', 'poly', 'sigmoid'], 'C': [0.001, 0.005, 0.01, 0.05, 0.1, 0.5, 10, 50, 100], 'gamma': [0.001, 0.01, 0.1, 1]},\n",
       "          pre_dispatch='2*n_jobs', random_state=42, refit=True,\n",
       "          return_train_score='warn', scoring=None, verbose=5)"
      ]
     },
     "execution_count": 11,
     "metadata": {},
     "output_type": "execute_result"
    }
   ],
   "source": [
    "svm_search = random_gridsearch(SVC(), svm_grid)\n",
    "svm_search.fit(X_train, y_train)"
   ]
  },
  {
   "cell_type": "code",
   "execution_count": 12,
   "metadata": {
    "ExecuteTime": {
     "end_time": "2019-06-13T10:12:46.300315Z",
     "start_time": "2019-06-13T10:11:19.709624Z"
    }
   },
   "outputs": [
    {
     "name": "stdout",
     "output_type": "stream",
     "text": [
      "Score in train set: 0.796\n",
      "Score in test set: 0.754367964556294\n",
      "{'kernel': 'poly', 'gamma': 1, 'C': 0.5}\n"
     ]
    }
   ],
   "source": [
    "print(\"Score in train set:\", svm_search.score(X_train, y_train))\n",
    "print(\"Score in test set:\", svm_search.score(X_test, y_test))\n",
    "print(svm_search.best_params_)"
   ]
  },
  {
   "cell_type": "markdown",
   "metadata": {},
   "source": [
    "## XG Boost"
   ]
  },
  {
   "cell_type": "code",
   "execution_count": 13,
   "metadata": {
    "ExecuteTime": {
     "end_time": "2019-06-13T10:12:46.310800Z",
     "start_time": "2019-06-13T10:12:46.302986Z"
    },
    "collapsed": true
   },
   "outputs": [],
   "source": [
    "xgb_grid = {\"learning_rate\": [0.05, 0.10, 0.15, 0.20, 0.25, 0.30],\n",
    "              \"max_depth\": [ 3, 4, 5, 6, 8, 10, 12, 15],\n",
    "              \"min_child_weight\": [ 1, 3, 5, 7],\n",
    "              \"gamma\": [ 0.0, 0.1, 0.2 , 0.3, 0.4 ],\n",
    "              \"colsample_bytree\": [ 0.3, 0.4, 0.5 , 0.7]\n",
    "             }"
   ]
  },
  {
   "cell_type": "code",
   "execution_count": 33,
   "metadata": {
    "ExecuteTime": {
     "end_time": "2019-06-13T12:19:03.643136Z",
     "start_time": "2019-06-13T12:01:12.420070Z"
    },
    "scrolled": false
   },
   "outputs": [
    {
     "name": "stdout",
     "output_type": "stream",
     "text": [
      "Fitting 3 folds for each of 300 candidates, totalling 900 fits\n"
     ]
    },
    {
     "name": "stderr",
     "output_type": "stream",
     "text": [
      "[Parallel(n_jobs=-1)]: Using backend LokyBackend with 4 concurrent workers.\n",
      "[Parallel(n_jobs=-1)]: Done  10 tasks      | elapsed:   21.0s\n",
      "[Parallel(n_jobs=-1)]: Done  64 tasks      | elapsed:  1.6min\n",
      "[Parallel(n_jobs=-1)]: Done 154 tasks      | elapsed:  3.4min\n",
      "[Parallel(n_jobs=-1)]: Done 280 tasks      | elapsed:  5.8min\n",
      "[Parallel(n_jobs=-1)]: Done 442 tasks      | elapsed:  8.9min\n",
      "[Parallel(n_jobs=-1)]: Done 640 tasks      | elapsed: 12.6min\n",
      "[Parallel(n_jobs=-1)]: Done 874 tasks      | elapsed: 17.3min\n",
      "[Parallel(n_jobs=-1)]: Done 900 out of 900 | elapsed: 17.7min finished\n"
     ]
    },
    {
     "data": {
      "text/plain": [
       "RandomizedSearchCV(cv=3, error_score='raise-deprecating',\n",
       "          estimator=XGBClassifier(base_score=0.5, booster='gbtree', colsample_bylevel=1,\n",
       "       colsample_bynode=1, colsample_bytree=1, gamma=0, learning_rate=0.1,\n",
       "       max_delta_step=0, max_depth=3, min_child_weight=1, missing=None,\n",
       "       n_estimators=100, n_jobs=1, nthread=None,\n",
       "       objective='binary:logistic', random_state=0, reg_alpha=0,\n",
       "       reg_lambda=1, scale_pos_weight=1, seed=None, silent=None,\n",
       "       subsample=1, verbosity=1),\n",
       "          fit_params=None, iid='warn', n_iter=300, n_jobs=-1,\n",
       "          param_distributions={'learning_rate': [0.05, 0.1, 0.15, 0.2, 0.25, 0.3], 'max_depth': [3, 4, 5, 6, 8, 10, 12, 15], 'min_child_weight': [1, 3, 5, 7], 'gamma': [0.0, 0.1, 0.2, 0.3, 0.4], 'colsample_bytree': [0.3, 0.4, 0.5, 0.7]},\n",
       "          pre_dispatch='2*n_jobs', random_state=42, refit=True,\n",
       "          return_train_score='warn', scoring=None, verbose=5)"
      ]
     },
     "execution_count": 33,
     "metadata": {},
     "output_type": "execute_result"
    }
   ],
   "source": [
    "xgb_search = random_gridsearch(XGBClassifier(), xgb_grid)\n",
    "xgb_search.fit(X_train, y_train)"
   ]
  },
  {
   "cell_type": "code",
   "execution_count": 34,
   "metadata": {
    "ExecuteTime": {
     "end_time": "2019-06-13T12:19:35.514289Z",
     "start_time": "2019-06-13T12:19:04.075078Z"
    }
   },
   "outputs": [
    {
     "name": "stdout",
     "output_type": "stream",
     "text": [
      "Score in train set: 1.0\n",
      "Score in test set: 0.785964528516767\n",
      "{'min_child_weight': 1, 'max_depth': 10, 'learning_rate': 0.25, 'gamma': 0.0, 'colsample_bytree': 0.7}\n"
     ]
    }
   ],
   "source": [
    "print(\"Score in train set:\", xgb_search.score(X_train, y_train))\n",
    "print(\"Score in test set:\", xgb_search.score(X_test, y_test))\n",
    "print(xgb_search.best_params_)"
   ]
  },
  {
   "cell_type": "code",
   "execution_count": 32,
   "metadata": {
    "ExecuteTime": {
     "end_time": "2019-06-13T12:01:04.386543Z",
     "start_time": "2019-06-13T12:00:49.130913Z"
    },
    "scrolled": true
   },
   "outputs": [],
   "source": [
    "for i in X_train.columns:\n",
    "    X_train[i] = X_train[i].astype(float)\n",
    "    X_test[i] = X_test[i].astype(float)"
   ]
  }
 ],
 "metadata": {
  "kernelspec": {
   "display_name": "Concept Drift",
   "language": "python",
   "name": "env_cd"
  },
  "language_info": {
   "codemirror_mode": {
    "name": "ipython",
    "version": 3
   },
   "file_extension": ".py",
   "mimetype": "text/x-python",
   "name": "python",
   "nbconvert_exporter": "python",
   "pygments_lexer": "ipython3",
   "version": "3.7.3"
  },
  "varInspector": {
   "cols": {
    "lenName": 16,
    "lenType": 16,
    "lenVar": 40
   },
   "kernels_config": {
    "python": {
     "delete_cmd_postfix": "",
     "delete_cmd_prefix": "del ",
     "library": "var_list.py",
     "varRefreshCmd": "print(var_dic_list())"
    },
    "r": {
     "delete_cmd_postfix": ") ",
     "delete_cmd_prefix": "rm(",
     "library": "var_list.r",
     "varRefreshCmd": "cat(var_dic_list()) "
    }
   },
   "types_to_exclude": [
    "module",
    "function",
    "builtin_function_or_method",
    "instance",
    "_Feature"
   ],
   "window_display": false
  }
 },
 "nbformat": 4,
 "nbformat_minor": 2
}
