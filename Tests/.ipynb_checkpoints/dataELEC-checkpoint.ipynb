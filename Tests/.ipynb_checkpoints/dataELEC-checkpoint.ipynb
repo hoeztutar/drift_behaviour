{
 "cells": [
  {
   "cell_type": "markdown",
   "metadata": {},
   "source": [
    "### Import Libraries"
   ]
  },
  {
   "cell_type": "code",
   "execution_count": 1,
   "metadata": {
    "ExecuteTime": {
     "end_time": "2019-05-25T13:32:10.157588Z",
     "start_time": "2019-05-25T13:32:08.368606Z"
    },
    "collapsed": true
   },
   "outputs": [],
   "source": [
    "import pandas as pd\n",
    "pd.set_option('display.max_column', 250)\n",
    "import numpy as np\n",
    "\n",
    "import matplotlib.pyplot as plt\n",
    "import seaborn as sns\n",
    "plt.style.use('seaborn-notebook')\n",
    "from matplotlib import rcParams\n",
    "rcParams['figure.figsize'] = (5, 3)\n",
    "rcParams['figure.dpi'] = 150\n",
    "%matplotlib inline\n",
    "\n",
    "from sklearn.naive_bayes import GaussianNB\n",
    "from sklearn.svm import SVC\n",
    "from sklearn.linear_model import LogisticRegression\n",
    "from sklearn.naive_bayes import GaussianNB\n",
    "from sklearn.neighbors import KNeighborsClassifier\n",
    "from sklearn.ensemble import RandomForestClassifier\n",
    "#import xgboost as xgb\n",
    "from sklearn.ensemble import GradientBoostingClassifier\n",
    "\n",
    "import arff\n",
    "\n",
    "from sklearn.preprocessing import LabelEncoder\n",
    "from sklearn.model_selection import GridSearchCV, cross_val_score, train_test_split"
   ]
  },
  {
   "cell_type": "markdown",
   "metadata": {},
   "source": [
    "### Read Data"
   ]
  },
  {
   "cell_type": "code",
   "execution_count": 3,
   "metadata": {
    "ExecuteTime": {
     "end_time": "2019-05-25T13:32:19.583526Z",
     "start_time": "2019-05-25T13:32:19.083889Z"
    },
    "scrolled": true
   },
   "outputs": [
    {
     "data": {
      "text/html": [
       "<div>\n",
       "<style scoped>\n",
       "    .dataframe tbody tr th:only-of-type {\n",
       "        vertical-align: middle;\n",
       "    }\n",
       "\n",
       "    .dataframe tbody tr th {\n",
       "        vertical-align: top;\n",
       "    }\n",
       "\n",
       "    .dataframe thead th {\n",
       "        text-align: right;\n",
       "    }\n",
       "</style>\n",
       "<table border=\"1\" class=\"dataframe\">\n",
       "  <thead>\n",
       "    <tr style=\"text-align: right;\">\n",
       "      <th></th>\n",
       "      <th>date</th>\n",
       "      <th>day</th>\n",
       "      <th>period</th>\n",
       "      <th>nswprice</th>\n",
       "      <th>nswdemand</th>\n",
       "      <th>vicprice</th>\n",
       "      <th>vicdemand</th>\n",
       "      <th>transfer</th>\n",
       "      <th>class</th>\n",
       "    </tr>\n",
       "  </thead>\n",
       "  <tbody>\n",
       "    <tr>\n",
       "      <th>0</th>\n",
       "      <td>0.0</td>\n",
       "      <td>2</td>\n",
       "      <td>0.000000</td>\n",
       "      <td>0.056443</td>\n",
       "      <td>0.439155</td>\n",
       "      <td>0.003467</td>\n",
       "      <td>0.422915</td>\n",
       "      <td>0.414912</td>\n",
       "      <td>UP</td>\n",
       "    </tr>\n",
       "    <tr>\n",
       "      <th>1</th>\n",
       "      <td>0.0</td>\n",
       "      <td>2</td>\n",
       "      <td>0.021277</td>\n",
       "      <td>0.051699</td>\n",
       "      <td>0.415055</td>\n",
       "      <td>0.003467</td>\n",
       "      <td>0.422915</td>\n",
       "      <td>0.414912</td>\n",
       "      <td>UP</td>\n",
       "    </tr>\n",
       "    <tr>\n",
       "      <th>2</th>\n",
       "      <td>0.0</td>\n",
       "      <td>2</td>\n",
       "      <td>0.042553</td>\n",
       "      <td>0.051489</td>\n",
       "      <td>0.385004</td>\n",
       "      <td>0.003467</td>\n",
       "      <td>0.422915</td>\n",
       "      <td>0.414912</td>\n",
       "      <td>UP</td>\n",
       "    </tr>\n",
       "    <tr>\n",
       "      <th>3</th>\n",
       "      <td>0.0</td>\n",
       "      <td>2</td>\n",
       "      <td>0.063830</td>\n",
       "      <td>0.045485</td>\n",
       "      <td>0.314639</td>\n",
       "      <td>0.003467</td>\n",
       "      <td>0.422915</td>\n",
       "      <td>0.414912</td>\n",
       "      <td>UP</td>\n",
       "    </tr>\n",
       "    <tr>\n",
       "      <th>4</th>\n",
       "      <td>0.0</td>\n",
       "      <td>2</td>\n",
       "      <td>0.085106</td>\n",
       "      <td>0.042482</td>\n",
       "      <td>0.251116</td>\n",
       "      <td>0.003467</td>\n",
       "      <td>0.422915</td>\n",
       "      <td>0.414912</td>\n",
       "      <td>DOWN</td>\n",
       "    </tr>\n",
       "  </tbody>\n",
       "</table>\n",
       "</div>"
      ],
      "text/plain": [
       "   date day    period  nswprice  nswdemand  vicprice  vicdemand  transfer  \\\n",
       "0   0.0   2  0.000000  0.056443   0.439155  0.003467   0.422915  0.414912   \n",
       "1   0.0   2  0.021277  0.051699   0.415055  0.003467   0.422915  0.414912   \n",
       "2   0.0   2  0.042553  0.051489   0.385004  0.003467   0.422915  0.414912   \n",
       "3   0.0   2  0.063830  0.045485   0.314639  0.003467   0.422915  0.414912   \n",
       "4   0.0   2  0.085106  0.042482   0.251116  0.003467   0.422915  0.414912   \n",
       "\n",
       "  class  \n",
       "0    UP  \n",
       "1    UP  \n",
       "2    UP  \n",
       "3    UP  \n",
       "4  DOWN  "
      ]
     },
     "execution_count": 3,
     "metadata": {},
     "output_type": "execute_result"
    }
   ],
   "source": [
    "data = arff.load(open('../data/elecNormNew.arff'))\n",
    "cnames = [i[0] for i in data['attributes']]\n",
    "df = pd.DataFrame(data['data'], columns=cnames)\n",
    "df.head()"
   ]
  },
  {
   "cell_type": "code",
   "execution_count": 13,
   "metadata": {
    "ExecuteTime": {
     "end_time": "2019-05-06T05:54:43.670496Z",
     "start_time": "2019-05-06T05:54:43.592357Z"
    },
    "scrolled": false
   },
   "outputs": [
    {
     "data": {
      "text/html": [
       "<div>\n",
       "<style scoped>\n",
       "    .dataframe tbody tr th:only-of-type {\n",
       "        vertical-align: middle;\n",
       "    }\n",
       "\n",
       "    .dataframe tbody tr th {\n",
       "        vertical-align: top;\n",
       "    }\n",
       "\n",
       "    .dataframe thead th {\n",
       "        text-align: right;\n",
       "    }\n",
       "</style>\n",
       "<table border=\"1\" class=\"dataframe\">\n",
       "  <thead>\n",
       "    <tr style=\"text-align: right;\">\n",
       "      <th></th>\n",
       "      <th>date</th>\n",
       "      <th>period</th>\n",
       "      <th>nswprice</th>\n",
       "      <th>nswdemand</th>\n",
       "      <th>vicprice</th>\n",
       "      <th>vicdemand</th>\n",
       "      <th>transfer</th>\n",
       "    </tr>\n",
       "  </thead>\n",
       "  <tbody>\n",
       "    <tr>\n",
       "      <th>count</th>\n",
       "      <td>45312.000000</td>\n",
       "      <td>45312.000000</td>\n",
       "      <td>45312.000000</td>\n",
       "      <td>45312.000000</td>\n",
       "      <td>45312.000000</td>\n",
       "      <td>45312.000000</td>\n",
       "      <td>45312.000000</td>\n",
       "    </tr>\n",
       "    <tr>\n",
       "      <th>mean</th>\n",
       "      <td>0.499080</td>\n",
       "      <td>0.500000</td>\n",
       "      <td>0.057868</td>\n",
       "      <td>0.425418</td>\n",
       "      <td>0.003467</td>\n",
       "      <td>0.422915</td>\n",
       "      <td>0.500526</td>\n",
       "    </tr>\n",
       "    <tr>\n",
       "      <th>std</th>\n",
       "      <td>0.340308</td>\n",
       "      <td>0.294756</td>\n",
       "      <td>0.039991</td>\n",
       "      <td>0.163323</td>\n",
       "      <td>0.010213</td>\n",
       "      <td>0.120965</td>\n",
       "      <td>0.153373</td>\n",
       "    </tr>\n",
       "    <tr>\n",
       "      <th>min</th>\n",
       "      <td>0.000000</td>\n",
       "      <td>0.000000</td>\n",
       "      <td>0.000000</td>\n",
       "      <td>0.000000</td>\n",
       "      <td>0.000000</td>\n",
       "      <td>0.000000</td>\n",
       "      <td>0.000000</td>\n",
       "    </tr>\n",
       "    <tr>\n",
       "      <th>25%</th>\n",
       "      <td>0.031934</td>\n",
       "      <td>0.250000</td>\n",
       "      <td>0.035127</td>\n",
       "      <td>0.309134</td>\n",
       "      <td>0.002277</td>\n",
       "      <td>0.372346</td>\n",
       "      <td>0.414912</td>\n",
       "    </tr>\n",
       "    <tr>\n",
       "      <th>50%</th>\n",
       "      <td>0.456329</td>\n",
       "      <td>0.500000</td>\n",
       "      <td>0.048652</td>\n",
       "      <td>0.443693</td>\n",
       "      <td>0.003467</td>\n",
       "      <td>0.422915</td>\n",
       "      <td>0.414912</td>\n",
       "    </tr>\n",
       "    <tr>\n",
       "      <th>75%</th>\n",
       "      <td>0.880547</td>\n",
       "      <td>0.750000</td>\n",
       "      <td>0.074336</td>\n",
       "      <td>0.536001</td>\n",
       "      <td>0.003467</td>\n",
       "      <td>0.469252</td>\n",
       "      <td>0.605702</td>\n",
       "    </tr>\n",
       "    <tr>\n",
       "      <th>max</th>\n",
       "      <td>1.000000</td>\n",
       "      <td>1.000000</td>\n",
       "      <td>1.000000</td>\n",
       "      <td>1.000000</td>\n",
       "      <td>1.000000</td>\n",
       "      <td>1.000000</td>\n",
       "      <td>1.000000</td>\n",
       "    </tr>\n",
       "  </tbody>\n",
       "</table>\n",
       "</div>"
      ],
      "text/plain": [
       "               date        period      nswprice     nswdemand      vicprice  \\\n",
       "count  45312.000000  45312.000000  45312.000000  45312.000000  45312.000000   \n",
       "mean       0.499080      0.500000      0.057868      0.425418      0.003467   \n",
       "std        0.340308      0.294756      0.039991      0.163323      0.010213   \n",
       "min        0.000000      0.000000      0.000000      0.000000      0.000000   \n",
       "25%        0.031934      0.250000      0.035127      0.309134      0.002277   \n",
       "50%        0.456329      0.500000      0.048652      0.443693      0.003467   \n",
       "75%        0.880547      0.750000      0.074336      0.536001      0.003467   \n",
       "max        1.000000      1.000000      1.000000      1.000000      1.000000   \n",
       "\n",
       "          vicdemand      transfer  \n",
       "count  45312.000000  45312.000000  \n",
       "mean       0.422915      0.500526  \n",
       "std        0.120965      0.153373  \n",
       "min        0.000000      0.000000  \n",
       "25%        0.372346      0.414912  \n",
       "50%        0.422915      0.414912  \n",
       "75%        0.469252      0.605702  \n",
       "max        1.000000      1.000000  "
      ]
     },
     "execution_count": 13,
     "metadata": {},
     "output_type": "execute_result"
    }
   ],
   "source": [
    "df.describe()"
   ]
  },
  {
   "cell_type": "code",
   "execution_count": 14,
   "metadata": {
    "ExecuteTime": {
     "end_time": "2019-05-06T05:54:43.683742Z",
     "start_time": "2019-05-06T05:54:43.676465Z"
    },
    "collapsed": true
   },
   "outputs": [],
   "source": [
    "#sns.pairplot(df, hue='class')"
   ]
  },
  {
   "cell_type": "code",
   "execution_count": 5,
   "metadata": {
    "ExecuteTime": {
     "end_time": "2019-05-25T13:33:39.788956Z",
     "start_time": "2019-05-25T13:33:39.102346Z"
    }
   },
   "outputs": [
    {
     "data": {
      "text/plain": [
       "<matplotlib.collections.PathCollection at 0x1a231b2390>"
      ]
     },
     "execution_count": 5,
     "metadata": {},
     "output_type": "execute_result"
    },
    {
     "data": {
      "image/png": "[encoded data removed]",
      "text/plain": [
       "<Figure size 432x288 with 1 Axes>"
      ]
     },
     "metadata": {
      "needs_background": "light"
     },
     "output_type": "display_data"
    }
   ],
   "source": [
    "plt.scatter(df.date, df.transfer)"
   ]
  },
  {
   "cell_type": "markdown",
   "metadata": {},
   "source": [
    "### Preprocess"
   ]
  },
  {
   "cell_type": "code",
   "execution_count": 6,
   "metadata": {
    "ExecuteTime": {
     "end_time": "2019-05-25T13:35:25.524181Z",
     "start_time": "2019-05-25T13:35:25.510054Z"
    },
    "collapsed": true
   },
   "outputs": [],
   "source": [
    "le = LabelEncoder()\n",
    "df['class'] = le.fit_transform(df['class'])"
   ]
  },
  {
   "cell_type": "code",
   "execution_count": 7,
   "metadata": {
    "ExecuteTime": {
     "end_time": "2019-05-25T13:35:26.899833Z",
     "start_time": "2019-05-25T13:35:26.893902Z"
    },
    "collapsed": true
   },
   "outputs": [],
   "source": [
    "X = df.iloc[:,1:-1]\n",
    "y = df['class']"
   ]
  },
  {
   "cell_type": "code",
   "execution_count": 8,
   "metadata": {
    "ExecuteTime": {
     "end_time": "2019-05-25T13:35:28.603079Z",
     "start_time": "2019-05-25T13:35:28.586910Z"
    }
   },
   "outputs": [
    {
     "data": {
      "text/html": [
       "<div>\n",
       "<style scoped>\n",
       "    .dataframe tbody tr th:only-of-type {\n",
       "        vertical-align: middle;\n",
       "    }\n",
       "\n",
       "    .dataframe tbody tr th {\n",
       "        vertical-align: top;\n",
       "    }\n",
       "\n",
       "    .dataframe thead th {\n",
       "        text-align: right;\n",
       "    }\n",
       "</style>\n",
       "<table border=\"1\" class=\"dataframe\">\n",
       "  <thead>\n",
       "    <tr style=\"text-align: right;\">\n",
       "      <th></th>\n",
       "      <th>day</th>\n",
       "      <th>period</th>\n",
       "      <th>nswprice</th>\n",
       "      <th>nswdemand</th>\n",
       "      <th>vicprice</th>\n",
       "      <th>vicdemand</th>\n",
       "      <th>transfer</th>\n",
       "    </tr>\n",
       "  </thead>\n",
       "  <tbody>\n",
       "    <tr>\n",
       "      <th>0</th>\n",
       "      <td>2</td>\n",
       "      <td>0.000000</td>\n",
       "      <td>0.056443</td>\n",
       "      <td>0.439155</td>\n",
       "      <td>0.003467</td>\n",
       "      <td>0.422915</td>\n",
       "      <td>0.414912</td>\n",
       "    </tr>\n",
       "    <tr>\n",
       "      <th>1</th>\n",
       "      <td>2</td>\n",
       "      <td>0.021277</td>\n",
       "      <td>0.051699</td>\n",
       "      <td>0.415055</td>\n",
       "      <td>0.003467</td>\n",
       "      <td>0.422915</td>\n",
       "      <td>0.414912</td>\n",
       "    </tr>\n",
       "    <tr>\n",
       "      <th>2</th>\n",
       "      <td>2</td>\n",
       "      <td>0.042553</td>\n",
       "      <td>0.051489</td>\n",
       "      <td>0.385004</td>\n",
       "      <td>0.003467</td>\n",
       "      <td>0.422915</td>\n",
       "      <td>0.414912</td>\n",
       "    </tr>\n",
       "    <tr>\n",
       "      <th>3</th>\n",
       "      <td>2</td>\n",
       "      <td>0.063830</td>\n",
       "      <td>0.045485</td>\n",
       "      <td>0.314639</td>\n",
       "      <td>0.003467</td>\n",
       "      <td>0.422915</td>\n",
       "      <td>0.414912</td>\n",
       "    </tr>\n",
       "    <tr>\n",
       "      <th>4</th>\n",
       "      <td>2</td>\n",
       "      <td>0.085106</td>\n",
       "      <td>0.042482</td>\n",
       "      <td>0.251116</td>\n",
       "      <td>0.003467</td>\n",
       "      <td>0.422915</td>\n",
       "      <td>0.414912</td>\n",
       "    </tr>\n",
       "  </tbody>\n",
       "</table>\n",
       "</div>"
      ],
      "text/plain": [
       "  day    period  nswprice  nswdemand  vicprice  vicdemand  transfer\n",
       "0   2  0.000000  0.056443   0.439155  0.003467   0.422915  0.414912\n",
       "1   2  0.021277  0.051699   0.415055  0.003467   0.422915  0.414912\n",
       "2   2  0.042553  0.051489   0.385004  0.003467   0.422915  0.414912\n",
       "3   2  0.063830  0.045485   0.314639  0.003467   0.422915  0.414912\n",
       "4   2  0.085106  0.042482   0.251116  0.003467   0.422915  0.414912"
      ]
     },
     "metadata": {},
     "output_type": "display_data"
    },
    {
     "data": {
      "text/plain": [
       "0    1\n",
       "1    1\n",
       "2    1\n",
       "3    1\n",
       "4    0\n",
       "Name: class, dtype: int64"
      ]
     },
     "metadata": {},
     "output_type": "display_data"
    }
   ],
   "source": [
    "display(X.head())\n",
    "display(y.head())"
   ]
  },
  {
   "cell_type": "markdown",
   "metadata": {},
   "source": [
    "### Splitting data"
   ]
  },
  {
   "cell_type": "markdown",
   "metadata": {},
   "source": [
    "Data is thought as batches and when every new batch arrives a new model is trained with the same parameters."
   ]
  },
  {
   "cell_type": "code",
   "execution_count": 10,
   "metadata": {
    "ExecuteTime": {
     "end_time": "2019-05-25T13:43:10.104526Z",
     "start_time": "2019-05-25T13:43:10.093123Z"
    },
    "collapsed": true
   },
   "outputs": [],
   "source": [
    "train_X, val_X, train_y, val_y = train_test_split(X, y, random_state=42, test_size=0.1, shuffle=False)"
   ]
  },
  {
   "cell_type": "markdown",
   "metadata": {},
   "source": [
    "## Naive Bayes"
   ]
  },
  {
   "cell_type": "markdown",
   "metadata": {},
   "source": [
    "### Model Deployment & Evaluation"
   ]
  },
  {
   "cell_type": "code",
   "execution_count": 11,
   "metadata": {
    "ExecuteTime": {
     "end_time": "2019-05-25T13:43:19.602674Z",
     "start_time": "2019-05-25T13:43:19.277450Z"
    }
   },
   "outputs": [
    {
     "name": "stdout",
     "output_type": "stream",
     "text": [
      "Training set score: 0.710\n",
      "Test set score: 0.777\n",
      "Cross-validation scores: [0.80304535 0.76089595 0.66188479 0.61895829 0.82608696]\n"
     ]
    }
   ],
   "source": [
    "NB = GaussianNB()\n",
    "NB.fit(train_X, train_y)\n",
    "\n",
    "print(\"Training set score: {:.3f}\".format(NB.score(train_X, train_y)))\n",
    "print(\"Test set score: {:.3f}\".format(NB.score(val_X, val_y)))\n",
    "\n",
    "scores = cross_val_score(NB, X, y, cv=5)\n",
    "print(\"Cross-validation scores: {}\".format(scores))"
   ]
  },
  {
   "cell_type": "code",
   "execution_count": null,
   "metadata": {
    "collapsed": true
   },
   "outputs": [],
   "source": []
  },
  {
   "cell_type": "markdown",
   "metadata": {
    "heading_collapsed": true
   },
   "source": [
    "## Support Vector Machine"
   ]
  },
  {
   "cell_type": "markdown",
   "metadata": {
    "hidden": true
   },
   "source": [
    "### Grid Search"
   ]
  },
  {
   "cell_type": "raw",
   "metadata": {
    "hidden": true
   },
   "source": []
  },
  {
   "cell_type": "code",
   "execution_count": 20,
   "metadata": {
    "ExecuteTime": {
     "end_time": "2019-05-07T04:07:13.710051Z",
     "start_time": "2019-05-06T05:54:44.380312Z"
    },
    "hidden": true,
    "scrolled": true
   },
   "outputs": [
    {
     "name": "stdout",
     "output_type": "stream",
     "text": [
      "Fitting 5 folds for each of 90 candidates, totalling 450 fits\n",
      "[CV] kernel=rbf, C=0.001, gamma=auto .................................\n"
     ]
    },
    {
     "name": "stderr",
     "output_type": "stream",
     "text": [
      "[Parallel(n_jobs=1)]: Using backend SequentialBackend with 1 concurrent workers.\n"
     ]
    },
    {
     "name": "stdout",
     "output_type": "stream",
     "text": [
      "[CV]  kernel=rbf, C=0.001, gamma=auto, score=0.5756951596292482, total=  27.1s\n",
      "[CV] kernel=rbf, C=0.001, gamma=auto .................................\n"
     ]
    },
    {
     "name": "stderr",
     "output_type": "stream",
     "text": [
      "[Parallel(n_jobs=1)]: Done   1 out of   1 | elapsed:   38.8s remaining:    0.0s\n"
     ]
    },
    {
     "name": "stdout",
     "output_type": "stream",
     "text": [
      "[CV]  kernel=rbf, C=0.001, gamma=auto, score=0.5756951596292482, total=  21.9s\n",
      "[CV] kernel=rbf, C=0.001, gamma=auto .................................\n"
     ]
    },
    {
     "name": "stderr",
     "output_type": "stream",
     "text": [
      "[Parallel(n_jobs=1)]: Done   2 out of   2 | elapsed:  1.2min remaining:    0.0s\n"
     ]
    },
    {
     "name": "stdout",
     "output_type": "stream",
     "text": [
      "[CV]  kernel=rbf, C=0.001, gamma=auto, score=0.5756951596292482, total=  22.0s\n",
      "[CV] kernel=rbf, C=0.001, gamma=auto .................................\n"
     ]
    },
    {
     "name": "stderr",
     "output_type": "stream",
     "text": [
      "[Parallel(n_jobs=1)]: Done   3 out of   3 | elapsed:  1.7min remaining:    0.0s\n"
     ]
    },
    {
     "name": "stdout",
     "output_type": "stream",
     "text": [
      "[CV]  kernel=rbf, C=0.001, gamma=auto, score=0.5756951596292482, total=  22.7s\n",
      "[CV] kernel=rbf, C=0.001, gamma=auto .................................\n"
     ]
    },
    {
     "name": "stderr",
     "output_type": "stream",
     "text": [
      "[Parallel(n_jobs=1)]: Done   4 out of   4 | elapsed:  2.3min remaining:    0.0s\n"
     ]
    },
    {
     "name": "stdout",
     "output_type": "stream",
     "text": [
      "[CV]  kernel=rbf, C=0.001, gamma=auto, score=0.5756327251324308, total=  22.8s\n",
      "[CV] kernel=poly, C=0.001, gamma=auto ................................\n"
     ]
    },
    {
     "name": "stderr",
     "output_type": "stream",
     "text": [
      "[Parallel(n_jobs=1)]: Done   5 out of   5 | elapsed:  2.9min remaining:    0.0s\n"
     ]
    },
    {
     "name": "stdout",
     "output_type": "stream",
     "text": [
      "[CV]  kernel=poly, C=0.001, gamma=auto, score=0.577460644401942, total=  16.8s\n",
      "[CV] kernel=poly, C=0.001, gamma=auto ................................\n"
     ]
    },
    {
     "name": "stderr",
     "output_type": "stream",
     "text": [
      "[Parallel(n_jobs=1)]: Done   6 out of   6 | elapsed:  3.3min remaining:    0.0s\n"
     ]
    },
    {
     "name": "stdout",
     "output_type": "stream",
     "text": [
      "[CV]  kernel=poly, C=0.001, gamma=auto, score=0.5777548918640577, total=  16.7s\n",
      "[CV] kernel=poly, C=0.001, gamma=auto ................................\n"
     ]
    },
    {
     "name": "stderr",
     "output_type": "stream",
     "text": [
      "[Parallel(n_jobs=1)]: Done   7 out of   7 | elapsed:  3.6min remaining:    0.0s\n"
     ]
    },
    {
     "name": "stdout",
     "output_type": "stream",
     "text": [
      "[CV]  kernel=poly, C=0.001, gamma=auto, score=0.5793732529056936, total=  16.9s\n",
      "[CV] kernel=poly, C=0.001, gamma=auto ................................\n"
     ]
    },
    {
     "name": "stderr",
     "output_type": "stream",
     "text": [
      "[Parallel(n_jobs=1)]: Done   8 out of   8 | elapsed:  4.0min remaining:    0.0s\n"
     ]
    },
    {
     "name": "stdout",
     "output_type": "stream",
     "text": [
      "[CV]  kernel=poly, C=0.001, gamma=auto, score=0.577460644401942, total=  17.0s\n",
      "[CV] kernel=poly, C=0.001, gamma=auto ................................\n"
     ]
    },
    {
     "name": "stderr",
     "output_type": "stream",
     "text": [
      "[Parallel(n_jobs=1)]: Done   9 out of   9 | elapsed:  4.4min remaining:    0.0s\n"
     ]
    },
    {
     "name": "stdout",
     "output_type": "stream",
     "text": [
      "[CV]  kernel=poly, C=0.001, gamma=auto, score=0.5772513243084167, total=  17.0s\n",
      "[CV] kernel=sigmoid, C=0.001, gamma=auto .............................\n",
      "[CV]  kernel=sigmoid, C=0.001, gamma=auto, score=0.5756951596292482, total=  30.0s\n",
      "[CV] kernel=sigmoid, C=0.001, gamma=auto .............................\n",
      "[CV]  kernel=sigmoid, C=0.001, gamma=auto, score=0.5756951596292482, total=  31.0s\n",
      "[CV] kernel=sigmoid, C=0.001, gamma=auto .............................\n",
      "[CV]  kernel=sigmoid, C=0.001, gamma=auto, score=0.5756951596292482, total=  30.0s\n",
      "[CV] kernel=sigmoid, C=0.001, gamma=auto .............................\n",
      "[CV]  kernel=sigmoid, C=0.001, gamma=auto, score=0.5756951596292482, total=  29.2s\n",
      "[CV] kernel=sigmoid, C=0.001, gamma=auto .............................\n",
      "[CV]  kernel=sigmoid, C=0.001, gamma=auto, score=0.5756327251324308, total=  29.8s\n",
      "[CV] kernel=rbf, C=0.001, gamma=0.001 ................................\n",
      "[CV]  kernel=rbf, C=0.001, gamma=0.001, score=0.5756951596292482, total=  22.4s\n",
      "[CV] kernel=rbf, C=0.001, gamma=0.001 ................................\n",
      "[CV]  kernel=rbf, C=0.001, gamma=0.001, score=0.5756951596292482, total=  22.1s\n",
      "[CV] kernel=rbf, C=0.001, gamma=0.001 ................................\n",
      "[CV]  kernel=rbf, C=0.001, gamma=0.001, score=0.5756951596292482, total=  22.4s\n",
      "[CV] kernel=rbf, C=0.001, gamma=0.001 ................................\n",
      "[CV]  kernel=rbf, C=0.001, gamma=0.001, score=0.5756951596292482, total=  22.0s\n",
      "[CV] kernel=rbf, C=0.001, gamma=0.001 ................................\n",
      "[CV]  kernel=rbf, C=0.001, gamma=0.001, score=0.5756327251324308, total=  21.4s\n",
      "[CV] kernel=poly, C=0.001, gamma=0.001 ...............................\n",
      "[CV]  kernel=poly, C=0.001, gamma=0.001, score=0.5756951596292482, total=  14.5s\n",
      "[CV] kernel=poly, C=0.001, gamma=0.001 ...............................\n",
      "[CV]  kernel=poly, C=0.001, gamma=0.001, score=0.5756951596292482, total=  13.9s\n",
      "[CV] kernel=poly, C=0.001, gamma=0.001 ...............................\n",
      "[CV]  kernel=poly, C=0.001, gamma=0.001, score=0.5756951596292482, total=  13.9s\n",
      "[CV] kernel=poly, C=0.001, gamma=0.001 ...............................\n",
      "[CV]  kernel=poly, C=0.001, gamma=0.001, score=0.5756951596292482, total=  13.9s\n",
      "[CV] kernel=poly, C=0.001, gamma=0.001 ...............................\n",
      "[CV]  kernel=poly, C=0.001, gamma=0.001, score=0.5756327251324308, total=  14.0s\n",
      "[CV] kernel=sigmoid, C=0.001, gamma=0.001 ............................\n",
      "[CV]  kernel=sigmoid, C=0.001, gamma=0.001, score=0.5756951596292482, total=  17.1s\n",
      "[CV] kernel=sigmoid, C=0.001, gamma=0.001 ............................\n",
      "[CV]  kernel=sigmoid, C=0.001, gamma=0.001, score=0.5756951596292482, total=  17.4s\n",
      "[CV] kernel=sigmoid, C=0.001, gamma=0.001 ............................\n",
      "[CV]  kernel=sigmoid, C=0.001, gamma=0.001, score=0.5756951596292482, total=  17.3s\n",
      "[CV] kernel=sigmoid, C=0.001, gamma=0.001 ............................\n",
      "[CV]  kernel=sigmoid, C=0.001, gamma=0.001, score=0.5756951596292482, total=  17.2s\n",
      "[CV] kernel=sigmoid, C=0.001, gamma=0.001 ............................\n",
      "[CV]  kernel=sigmoid, C=0.001, gamma=0.001, score=0.5756327251324308, total=  17.3s\n",
      "[CV] kernel=rbf, C=0.001, gamma=0.01 .................................\n",
      "[CV]  kernel=rbf, C=0.001, gamma=0.01, score=0.5756951596292482, total=  22.2s\n",
      "[CV] kernel=rbf, C=0.001, gamma=0.01 .................................\n",
      "[CV]  kernel=rbf, C=0.001, gamma=0.01, score=0.5756951596292482, total=  22.2s\n",
      "[CV] kernel=rbf, C=0.001, gamma=0.01 .................................\n",
      "[CV]  kernel=rbf, C=0.001, gamma=0.01, score=0.5756951596292482, total=  22.0s\n",
      "[CV] kernel=rbf, C=0.001, gamma=0.01 .................................\n",
      "[CV]  kernel=rbf, C=0.001, gamma=0.01, score=0.5756951596292482, total=  21.8s\n",
      "[CV] kernel=rbf, C=0.001, gamma=0.01 .................................\n",
      "[CV]  kernel=rbf, C=0.001, gamma=0.01, score=0.5756327251324308, total=  22.2s\n",
      "[CV] kernel=poly, C=0.001, gamma=0.01 ................................\n",
      "[CV]  kernel=poly, C=0.001, gamma=0.01, score=0.5756951596292482, total=  13.9s\n",
      "[CV] kernel=poly, C=0.001, gamma=0.01 ................................\n",
      "[CV]  kernel=poly, C=0.001, gamma=0.01, score=0.5756951596292482, total=  13.8s\n",
      "[CV] kernel=poly, C=0.001, gamma=0.01 ................................\n",
      "[CV]  kernel=poly, C=0.001, gamma=0.01, score=0.5756951596292482, total=  14.1s\n",
      "[CV] kernel=poly, C=0.001, gamma=0.01 ................................\n",
      "[CV]  kernel=poly, C=0.001, gamma=0.01, score=0.5756951596292482, total=  14.0s\n",
      "[CV] kernel=poly, C=0.001, gamma=0.01 ................................\n",
      "[CV]  kernel=poly, C=0.001, gamma=0.01, score=0.5756327251324308, total=  14.2s\n",
      "[CV] kernel=sigmoid, C=0.001, gamma=0.01 .............................\n",
      "[CV]  kernel=sigmoid, C=0.001, gamma=0.01, score=0.5756951596292482, total=  28.6s\n",
      "[CV] kernel=sigmoid, C=0.001, gamma=0.01 .............................\n",
      "[CV]  kernel=sigmoid, C=0.001, gamma=0.01, score=0.5756951596292482, total=  29.3s\n",
      "[CV] kernel=sigmoid, C=0.001, gamma=0.01 .............................\n",
      "[CV]  kernel=sigmoid, C=0.001, gamma=0.01, score=0.5756951596292482, total=  29.1s\n",
      "[CV] kernel=sigmoid, C=0.001, gamma=0.01 .............................\n",
      "[CV]  kernel=sigmoid, C=0.001, gamma=0.01, score=0.5756951596292482, total=  28.9s\n",
      "[CV] kernel=sigmoid, C=0.001, gamma=0.01 .............................\n",
      "[CV]  kernel=sigmoid, C=0.001, gamma=0.01, score=0.5756327251324308, total=  29.7s\n",
      "[CV] kernel=rbf, C=0.001, gamma=0.1 ..................................\n",
      "[CV]  kernel=rbf, C=0.001, gamma=0.1, score=0.5756951596292482, total=  22.1s\n",
      "[CV] kernel=rbf, C=0.001, gamma=0.1 ..................................\n",
      "[CV]  kernel=rbf, C=0.001, gamma=0.1, score=0.5756951596292482, total=  22.0s\n",
      "[CV] kernel=rbf, C=0.001, gamma=0.1 ..................................\n",
      "[CV]  kernel=rbf, C=0.001, gamma=0.1, score=0.5756951596292482, total=  22.4s\n",
      "[CV] kernel=rbf, C=0.001, gamma=0.1 ..................................\n",
      "[CV]  kernel=rbf, C=0.001, gamma=0.1, score=0.5756951596292482, total=  22.1s\n",
      "[CV] kernel=rbf, C=0.001, gamma=0.1 ..................................\n",
      "[CV]  kernel=rbf, C=0.001, gamma=0.1, score=0.5756327251324308, total=  22.3s\n",
      "[CV] kernel=poly, C=0.001, gamma=0.1 .................................\n",
      "[CV]  kernel=poly, C=0.001, gamma=0.1, score=0.5756951596292482, total=  16.1s\n",
      "[CV] kernel=poly, C=0.001, gamma=0.1 .................................\n",
      "[CV]  kernel=poly, C=0.001, gamma=0.1, score=0.5756951596292482, total=  16.4s\n",
      "[CV] kernel=poly, C=0.001, gamma=0.1 .................................\n",
      "[CV]  kernel=poly, C=0.001, gamma=0.1, score=0.5756951596292482, total=  16.3s\n",
      "[CV] kernel=poly, C=0.001, gamma=0.1 .................................\n",
      "[CV]  kernel=poly, C=0.001, gamma=0.1, score=0.575842283360306, total=  15.8s\n",
      "[CV] kernel=poly, C=0.001, gamma=0.1 .................................\n",
      "[CV]  kernel=poly, C=0.001, gamma=0.1, score=0.5756327251324308, total=  16.2s\n",
      "[CV] kernel=sigmoid, C=0.001, gamma=0.1 ..............................\n",
      "[CV]  kernel=sigmoid, C=0.001, gamma=0.1, score=0.5756951596292482, total=  28.5s\n",
      "[CV] kernel=sigmoid, C=0.001, gamma=0.1 ..............................\n",
      "[CV]  kernel=sigmoid, C=0.001, gamma=0.1, score=0.5756951596292482, total=  28.5s\n",
      "[CV] kernel=sigmoid, C=0.001, gamma=0.1 ..............................\n",
      "[CV]  kernel=sigmoid, C=0.001, gamma=0.1, score=0.5756951596292482, total=  28.7s\n",
      "[CV] kernel=sigmoid, C=0.001, gamma=0.1 ..............................\n",
      "[CV]  kernel=sigmoid, C=0.001, gamma=0.1, score=0.5756951596292482, total=  28.1s\n",
      "[CV] kernel=sigmoid, C=0.001, gamma=0.1 ..............................\n",
      "[CV]  kernel=sigmoid, C=0.001, gamma=0.1, score=0.5756327251324308, total=  28.0s\n",
      "[CV] kernel=rbf, C=0.001, gamma=1 ....................................\n",
      "[CV]  kernel=rbf, C=0.001, gamma=1, score=0.5756951596292482, total=  22.2s\n",
      "[CV] kernel=rbf, C=0.001, gamma=1 ....................................\n",
      "[CV]  kernel=rbf, C=0.001, gamma=1, score=0.5756951596292482, total=  22.0s\n",
      "[CV] kernel=rbf, C=0.001, gamma=1 ....................................\n",
      "[CV]  kernel=rbf, C=0.001, gamma=1, score=0.5756951596292482, total=  21.9s\n",
      "[CV] kernel=rbf, C=0.001, gamma=1 ....................................\n",
      "[CV]  kernel=rbf, C=0.001, gamma=1, score=0.5756951596292482, total=  22.0s\n",
      "[CV] kernel=rbf, C=0.001, gamma=1 ....................................\n"
     ]
    },
    {
     "name": "stdout",
     "output_type": "stream",
     "text": [
      "[CV]  kernel=rbf, C=0.001, gamma=1, score=0.5756327251324308, total=  21.8s\n",
      "[CV] kernel=poly, C=0.001, gamma=1 ...................................\n",
      "[CV]  kernel=poly, C=0.001, gamma=1, score=0.729145211122554, total=  17.3s\n",
      "[CV] kernel=poly, C=0.001, gamma=1 ...................................\n",
      "[CV]  kernel=poly, C=0.001, gamma=1, score=0.7304693247020745, total=  17.4s\n",
      "[CV] kernel=poly, C=0.001, gamma=1 ...................................\n",
      "[CV]  kernel=poly, C=0.001, gamma=1, score=0.7281153450051493, total=  16.9s\n",
      "[CV] kernel=poly, C=0.001, gamma=1 ...................................\n",
      "[CV]  kernel=poly, C=0.001, gamma=1, score=0.7250257466529351, total=  17.2s\n",
      "[CV] kernel=poly, C=0.001, gamma=1 ...................................\n",
      "[CV]  kernel=poly, C=0.001, gamma=1, score=0.7238081224249558, total=  17.3s\n",
      "[CV] kernel=sigmoid, C=0.001, gamma=1 ................................\n",
      "[CV]  kernel=sigmoid, C=0.001, gamma=1, score=0.5756951596292482, total=  29.1s\n",
      "[CV] kernel=sigmoid, C=0.001, gamma=1 ................................\n",
      "[CV]  kernel=sigmoid, C=0.001, gamma=1, score=0.5756951596292482, total=  28.1s\n",
      "[CV] kernel=sigmoid, C=0.001, gamma=1 ................................\n",
      "[CV]  kernel=sigmoid, C=0.001, gamma=1, score=0.5756951596292482, total=  29.0s\n",
      "[CV] kernel=sigmoid, C=0.001, gamma=1 ................................\n",
      "[CV]  kernel=sigmoid, C=0.001, gamma=1, score=0.5756951596292482, total=  28.7s\n",
      "[CV] kernel=sigmoid, C=0.001, gamma=1 ................................\n",
      "[CV]  kernel=sigmoid, C=0.001, gamma=1, score=0.5756327251324308, total=  29.3s\n",
      "[CV] kernel=rbf, C=0.01, gamma=auto ..................................\n",
      "[CV]  kernel=rbf, C=0.01, gamma=auto, score=0.5936442548183022, total=  21.9s\n",
      "[CV] kernel=rbf, C=0.01, gamma=auto ..................................\n",
      "[CV]  kernel=rbf, C=0.01, gamma=auto, score=0.5942327497425335, total=  22.4s\n",
      "[CV] kernel=rbf, C=0.01, gamma=auto ..................................\n",
      "[CV]  kernel=rbf, C=0.01, gamma=auto, score=0.5964396057084007, total=  22.3s\n",
      "[CV] kernel=rbf, C=0.01, gamma=auto ..................................\n",
      "[CV]  kernel=rbf, C=0.01, gamma=auto, score=0.5929086361630131, total=  22.5s\n",
      "[CV] kernel=rbf, C=0.01, gamma=auto ..................................\n",
      "[CV]  kernel=rbf, C=0.01, gamma=auto, score=0.590788699234844, total=  23.0s\n",
      "[CV] kernel=poly, C=0.01, gamma=auto .................................\n",
      "[CV]  kernel=poly, C=0.01, gamma=auto, score=0.6348388995144917, total=  18.0s\n",
      "[CV] kernel=poly, C=0.01, gamma=auto .................................\n",
      "[CV]  kernel=poly, C=0.01, gamma=auto, score=0.6336619096660291, total=  16.5s\n",
      "[CV] kernel=poly, C=0.01, gamma=auto .................................\n",
      "[CV]  kernel=poly, C=0.01, gamma=auto, score=0.6336619096660291, total=  16.9s\n",
      "[CV] kernel=poly, C=0.01, gamma=auto .................................\n",
      "[CV]  kernel=poly, C=0.01, gamma=auto, score=0.6323377960865088, total=  17.0s\n",
      "[CV] kernel=poly, C=0.01, gamma=auto .................................\n",
      "[CV]  kernel=poly, C=0.01, gamma=auto, score=0.6325779870512066, total=  16.6s\n",
      "[CV] kernel=sigmoid, C=0.01, gamma=auto ..............................\n",
      "[CV]  kernel=sigmoid, C=0.01, gamma=auto, score=0.5361188759746948, total=  15.9s\n",
      "[CV] kernel=sigmoid, C=0.01, gamma=auto ..............................\n",
      "[CV]  kernel=sigmoid, C=0.01, gamma=auto, score=0.5262615859938208, total=  16.6s\n",
      "[CV] kernel=sigmoid, C=0.01, gamma=auto ..............................\n",
      "[CV]  kernel=sigmoid, C=0.01, gamma=auto, score=0.5331764013535383, total=  16.0s\n",
      "[CV] kernel=sigmoid, C=0.01, gamma=auto ..............................\n",
      "[CV]  kernel=sigmoid, C=0.01, gamma=auto, score=0.5353832573194056, total=  15.8s\n",
      "[CV] kernel=sigmoid, C=0.01, gamma=auto ..............................\n",
      "[CV]  kernel=sigmoid, C=0.01, gamma=auto, score=0.5361977633902295, total=  15.9s\n",
      "[CV] kernel=rbf, C=0.01, gamma=0.001 .................................\n",
      "[CV]  kernel=rbf, C=0.01, gamma=0.001, score=0.5756951596292482, total=  22.0s\n",
      "[CV] kernel=rbf, C=0.01, gamma=0.001 .................................\n",
      "[CV]  kernel=rbf, C=0.01, gamma=0.001, score=0.5756951596292482, total=  22.6s\n",
      "[CV] kernel=rbf, C=0.01, gamma=0.001 .................................\n",
      "[CV]  kernel=rbf, C=0.01, gamma=0.001, score=0.5756951596292482, total=  22.4s\n",
      "[CV] kernel=rbf, C=0.01, gamma=0.001 .................................\n",
      "[CV]  kernel=rbf, C=0.01, gamma=0.001, score=0.5756951596292482, total=  22.6s\n",
      "[CV] kernel=rbf, C=0.01, gamma=0.001 .................................\n",
      "[CV]  kernel=rbf, C=0.01, gamma=0.001, score=0.5756327251324308, total=  22.5s\n",
      "[CV] kernel=poly, C=0.01, gamma=0.001 ................................\n",
      "[CV]  kernel=poly, C=0.01, gamma=0.001, score=0.5756951596292482, total=  14.1s\n",
      "[CV] kernel=poly, C=0.01, gamma=0.001 ................................\n",
      "[CV]  kernel=poly, C=0.01, gamma=0.001, score=0.5756951596292482, total=  13.7s\n",
      "[CV] kernel=poly, C=0.01, gamma=0.001 ................................\n",
      "[CV]  kernel=poly, C=0.01, gamma=0.001, score=0.5756951596292482, total=  13.7s\n",
      "[CV] kernel=poly, C=0.01, gamma=0.001 ................................\n",
      "[CV]  kernel=poly, C=0.01, gamma=0.001, score=0.5756951596292482, total=  14.1s\n",
      "[CV] kernel=poly, C=0.01, gamma=0.001 ................................\n",
      "[CV]  kernel=poly, C=0.01, gamma=0.001, score=0.5756327251324308, total=  13.7s\n",
      "[CV] kernel=sigmoid, C=0.01, gamma=0.001 .............................\n",
      "[CV]  kernel=sigmoid, C=0.01, gamma=0.001, score=0.5756951596292482, total=  17.9s\n",
      "[CV] kernel=sigmoid, C=0.01, gamma=0.001 .............................\n",
      "[CV]  kernel=sigmoid, C=0.01, gamma=0.001, score=0.5756951596292482, total=  18.6s\n",
      "[CV] kernel=sigmoid, C=0.01, gamma=0.001 .............................\n",
      "[CV]  kernel=sigmoid, C=0.01, gamma=0.001, score=0.5756951596292482, total=  18.2s\n",
      "[CV] kernel=sigmoid, C=0.01, gamma=0.001 .............................\n",
      "[CV]  kernel=sigmoid, C=0.01, gamma=0.001, score=0.5756951596292482, total=  18.4s\n",
      "[CV] kernel=sigmoid, C=0.01, gamma=0.001 .............................\n",
      "[CV]  kernel=sigmoid, C=0.01, gamma=0.001, score=0.5756327251324308, total=  18.3s\n",
      "[CV] kernel=rbf, C=0.01, gamma=0.01 ..................................\n",
      "[CV]  kernel=rbf, C=0.01, gamma=0.01, score=0.5756951596292482, total=  22.9s\n",
      "[CV] kernel=rbf, C=0.01, gamma=0.01 ..................................\n",
      "[CV]  kernel=rbf, C=0.01, gamma=0.01, score=0.5756951596292482, total=  22.1s\n",
      "[CV] kernel=rbf, C=0.01, gamma=0.01 ..................................\n",
      "[CV]  kernel=rbf, C=0.01, gamma=0.01, score=0.5756951596292482, total=  22.3s\n",
      "[CV] kernel=rbf, C=0.01, gamma=0.01 ..................................\n",
      "[CV]  kernel=rbf, C=0.01, gamma=0.01, score=0.5756951596292482, total=  22.6s\n",
      "[CV] kernel=rbf, C=0.01, gamma=0.01 ..................................\n",
      "[CV]  kernel=rbf, C=0.01, gamma=0.01, score=0.5756327251324308, total=  22.3s\n",
      "[CV] kernel=poly, C=0.01, gamma=0.01 .................................\n",
      "[CV]  kernel=poly, C=0.01, gamma=0.01, score=0.5756951596292482, total=  14.6s\n",
      "[CV] kernel=poly, C=0.01, gamma=0.01 .................................\n",
      "[CV]  kernel=poly, C=0.01, gamma=0.01, score=0.5756951596292482, total=  14.6s\n",
      "[CV] kernel=poly, C=0.01, gamma=0.01 .................................\n",
      "[CV]  kernel=poly, C=0.01, gamma=0.01, score=0.5756951596292482, total=  14.5s\n",
      "[CV] kernel=poly, C=0.01, gamma=0.01 .................................\n",
      "[CV]  kernel=poly, C=0.01, gamma=0.01, score=0.5756951596292482, total=  14.5s\n",
      "[CV] kernel=poly, C=0.01, gamma=0.01 .................................\n",
      "[CV]  kernel=poly, C=0.01, gamma=0.01, score=0.5756327251324308, total=  15.0s\n",
      "[CV] kernel=sigmoid, C=0.01, gamma=0.01 ..............................\n",
      "[CV]  kernel=sigmoid, C=0.01, gamma=0.01, score=0.5756951596292482, total=  30.9s\n",
      "[CV] kernel=sigmoid, C=0.01, gamma=0.01 ..............................\n",
      "[CV]  kernel=sigmoid, C=0.01, gamma=0.01, score=0.5756951596292482, total=  29.6s\n",
      "[CV] kernel=sigmoid, C=0.01, gamma=0.01 ..............................\n",
      "[CV]  kernel=sigmoid, C=0.01, gamma=0.01, score=0.5756951596292482, total=  29.8s\n",
      "[CV] kernel=sigmoid, C=0.01, gamma=0.01 ..............................\n",
      "[CV]  kernel=sigmoid, C=0.01, gamma=0.01, score=0.5756951596292482, total=  30.9s\n",
      "[CV] kernel=sigmoid, C=0.01, gamma=0.01 ..............................\n"
     ]
    },
    {
     "name": "stdout",
     "output_type": "stream",
     "text": [
      "[CV]  kernel=sigmoid, C=0.01, gamma=0.01, score=0.5756327251324308, total=  29.1s\n",
      "[CV] kernel=rbf, C=0.01, gamma=0.1 ...................................\n",
      "[CV]  kernel=rbf, C=0.01, gamma=0.1, score=0.5761365308224217, total=  23.1s\n",
      "[CV] kernel=rbf, C=0.01, gamma=0.1 ...................................\n",
      "[CV]  kernel=rbf, C=0.01, gamma=0.1, score=0.5779020155951154, total=  22.4s\n",
      "[CV] kernel=rbf, C=0.01, gamma=0.1 ...................................\n",
      "[CV]  kernel=rbf, C=0.01, gamma=0.1, score=0.5759894070913638, total=  22.5s\n",
      "[CV] kernel=rbf, C=0.01, gamma=0.1 ...................................\n",
      "[CV]  kernel=rbf, C=0.01, gamma=0.1, score=0.5765779020155951, total=  22.4s\n",
      "[CV] kernel=rbf, C=0.01, gamma=0.1 ...................................\n",
      "[CV]  kernel=rbf, C=0.01, gamma=0.1, score=0.575927015891701, total=  22.1s\n",
      "[CV] kernel=poly, C=0.01, gamma=0.1 ..................................\n",
      "[CV]  kernel=poly, C=0.01, gamma=0.1, score=0.6098278652346624, total=  16.1s\n",
      "[CV] kernel=poly, C=0.01, gamma=0.1 ..................................\n",
      "[CV]  kernel=poly, C=0.01, gamma=0.1, score=0.6073267618066794, total=  15.9s\n",
      "[CV] kernel=poly, C=0.01, gamma=0.1 ..................................\n",
      "[CV]  kernel=poly, C=0.01, gamma=0.1, score=0.6079152567309107, total=  17.2s\n",
      "[CV] kernel=poly, C=0.01, gamma=0.1 ..................................\n",
      "[CV]  kernel=poly, C=0.01, gamma=0.1, score=0.6105634838899514, total=  17.7s\n",
      "[CV] kernel=poly, C=0.01, gamma=0.1 ..................................\n",
      "[CV]  kernel=poly, C=0.01, gamma=0.1, score=0.6060918187168923, total=  16.5s\n",
      "[CV] kernel=sigmoid, C=0.01, gamma=0.1 ...............................\n",
      "[CV]  kernel=sigmoid, C=0.01, gamma=0.1, score=0.5361188759746948, total=  19.0s\n",
      "[CV] kernel=sigmoid, C=0.01, gamma=0.1 ...............................\n",
      "[CV]  kernel=sigmoid, C=0.01, gamma=0.1, score=0.5262615859938208, total=  18.8s\n",
      "[CV] kernel=sigmoid, C=0.01, gamma=0.1 ...............................\n",
      "[CV]  kernel=sigmoid, C=0.01, gamma=0.1, score=0.5331764013535383, total=  18.7s\n",
      "[CV] kernel=sigmoid, C=0.01, gamma=0.1 ...............................\n",
      "[CV]  kernel=sigmoid, C=0.01, gamma=0.1, score=0.5353832573194056, total=  19.0s\n",
      "[CV] kernel=sigmoid, C=0.01, gamma=0.1 ...............................\n",
      "[CV]  kernel=sigmoid, C=0.01, gamma=0.1, score=0.5361977633902295, total=  19.2s\n",
      "[CV] kernel=rbf, C=0.01, gamma=1 .....................................\n",
      "[CV]  kernel=rbf, C=0.01, gamma=1, score=0.6291010740032367, total=  21.5s\n",
      "[CV] kernel=rbf, C=0.01, gamma=1 .....................................\n",
      "[CV]  kernel=rbf, C=0.01, gamma=1, score=0.6176254229807268, total=  21.4s\n",
      "[CV] kernel=rbf, C=0.01, gamma=1 .....................................\n",
      "[CV]  kernel=rbf, C=0.01, gamma=1, score=0.6335147859349713, total=  21.7s\n",
      "[CV] kernel=rbf, C=0.01, gamma=1 .....................................\n",
      "[CV]  kernel=rbf, C=0.01, gamma=1, score=0.6317493011622775, total=  21.4s\n",
      "[CV] kernel=rbf, C=0.01, gamma=1 .....................................\n",
      "[CV]  kernel=rbf, C=0.01, gamma=1, score=0.6334608593290171, total=  21.5s\n",
      "[CV] kernel=poly, C=0.01, gamma=1 ....................................\n",
      "[CV]  kernel=poly, C=0.01, gamma=1, score=0.7621009268795057, total=  26.3s\n",
      "[CV] kernel=poly, C=0.01, gamma=1 ....................................\n",
      "[CV]  kernel=poly, C=0.01, gamma=1, score=0.7590113285272915, total=  26.0s\n",
      "[CV] kernel=poly, C=0.01, gamma=1 ....................................\n",
      "[CV]  kernel=poly, C=0.01, gamma=1, score=0.7587170810651758, total=  25.5s\n",
      "[CV] kernel=poly, C=0.01, gamma=1 ....................................\n",
      "[CV]  kernel=poly, C=0.01, gamma=1, score=0.760188318375754, total=  25.3s\n",
      "[CV] kernel=poly, C=0.01, gamma=1 ....................................\n",
      "[CV]  kernel=poly, C=0.01, gamma=1, score=0.751765744555621, total=  25.5s\n",
      "[CV] kernel=sigmoid, C=0.01, gamma=1 .................................\n",
      "[CV]  kernel=sigmoid, C=0.01, gamma=1, score=0.5756951596292482, total=  29.0s\n",
      "[CV] kernel=sigmoid, C=0.01, gamma=1 .................................\n",
      "[CV]  kernel=sigmoid, C=0.01, gamma=1, score=0.5756951596292482, total=  28.9s\n",
      "[CV] kernel=sigmoid, C=0.01, gamma=1 .................................\n",
      "[CV]  kernel=sigmoid, C=0.01, gamma=1, score=0.5756951596292482, total=  30.2s\n",
      "[CV] kernel=sigmoid, C=0.01, gamma=1 .................................\n",
      "[CV]  kernel=sigmoid, C=0.01, gamma=1, score=0.5756951596292482, total=  28.6s\n",
      "[CV] kernel=sigmoid, C=0.01, gamma=1 .................................\n",
      "[CV]  kernel=sigmoid, C=0.01, gamma=1, score=0.5756327251324308, total=  28.4s\n",
      "[CV] kernel=rbf, C=0.1, gamma=auto ...................................\n",
      "[CV]  kernel=rbf, C=0.1, gamma=auto, score=0.6708842136236575, total=  21.0s\n",
      "[CV] kernel=rbf, C=0.1, gamma=auto ...................................\n",
      "[CV]  kernel=rbf, C=0.1, gamma=auto, score=0.6670589966161542, total=  21.1s\n",
      "[CV] kernel=rbf, C=0.1, gamma=auto ...................................\n",
      "[CV]  kernel=rbf, C=0.1, gamma=auto, score=0.6733853170516404, total=  21.3s\n",
      "[CV] kernel=rbf, C=0.1, gamma=auto ...................................\n",
      "[CV]  kernel=rbf, C=0.1, gamma=auto, score=0.6700014712373106, total=  21.1s\n",
      "[CV] kernel=rbf, C=0.1, gamma=auto ...................................\n",
      "[CV]  kernel=rbf, C=0.1, gamma=auto, score=0.6736315479693937, total=  21.2s\n",
      "[CV] kernel=poly, C=0.1, gamma=auto ..................................\n",
      "[CV]  kernel=poly, C=0.1, gamma=auto, score=0.7061939090775342, total=  16.3s\n",
      "[CV] kernel=poly, C=0.1, gamma=auto ..................................\n",
      "[CV]  kernel=poly, C=0.1, gamma=auto, score=0.7092835074297484, total=  15.9s\n",
      "[CV] kernel=poly, C=0.1, gamma=auto ..................................\n",
      "[CV]  kernel=poly, C=0.1, gamma=auto, score=0.6988377225246433, total=  16.0s\n",
      "[CV] kernel=poly, C=0.1, gamma=auto ..................................\n",
      "[CV]  kernel=poly, C=0.1, gamma=auto, score=0.6975136089451228, total=  16.4s\n",
      "[CV] kernel=poly, C=0.1, gamma=auto ..................................\n",
      "[CV]  kernel=poly, C=0.1, gamma=auto, score=0.7046792230723955, total=  16.6s\n",
      "[CV] kernel=sigmoid, C=0.1, gamma=auto ...............................\n",
      "[CV]  kernel=sigmoid, C=0.1, gamma=auto, score=0.5356775047815212, total=  16.2s\n",
      "[CV] kernel=sigmoid, C=0.1, gamma=auto ...............................\n",
      "[CV]  kernel=sigmoid, C=0.1, gamma=auto, score=0.5255259673385317, total=  16.1s\n",
      "[CV] kernel=sigmoid, C=0.1, gamma=auto ...............................\n",
      "[CV]  kernel=sigmoid, C=0.1, gamma=auto, score=0.5330292776224805, total=  16.1s\n",
      "[CV] kernel=sigmoid, C=0.1, gamma=auto ...............................\n",
      "[CV]  kernel=sigmoid, C=0.1, gamma=auto, score=0.5347947623951743, total=  16.3s\n",
      "[CV] kernel=sigmoid, C=0.1, gamma=auto ...............................\n",
      "[CV]  kernel=sigmoid, C=0.1, gamma=auto, score=0.5360506180105945, total=  16.1s\n",
      "[CV] kernel=rbf, C=0.1, gamma=0.001 ..................................\n",
      "[CV]  kernel=rbf, C=0.1, gamma=0.001, score=0.5756951596292482, total=  23.0s\n",
      "[CV] kernel=rbf, C=0.1, gamma=0.001 ..................................\n",
      "[CV]  kernel=rbf, C=0.1, gamma=0.001, score=0.5756951596292482, total=  22.5s\n",
      "[CV] kernel=rbf, C=0.1, gamma=0.001 ..................................\n",
      "[CV]  kernel=rbf, C=0.1, gamma=0.001, score=0.5756951596292482, total=  23.3s\n",
      "[CV] kernel=rbf, C=0.1, gamma=0.001 ..................................\n",
      "[CV]  kernel=rbf, C=0.1, gamma=0.001, score=0.5756951596292482, total=  22.4s\n",
      "[CV] kernel=rbf, C=0.1, gamma=0.001 ..................................\n",
      "[CV]  kernel=rbf, C=0.1, gamma=0.001, score=0.5756327251324308, total=  22.7s\n",
      "[CV] kernel=poly, C=0.1, gamma=0.001 .................................\n",
      "[CV]  kernel=poly, C=0.1, gamma=0.001, score=0.5756951596292482, total=  13.8s\n",
      "[CV] kernel=poly, C=0.1, gamma=0.001 .................................\n",
      "[CV]  kernel=poly, C=0.1, gamma=0.001, score=0.5756951596292482, total=  13.9s\n",
      "[CV] kernel=poly, C=0.1, gamma=0.001 .................................\n",
      "[CV]  kernel=poly, C=0.1, gamma=0.001, score=0.5756951596292482, total=  14.0s\n",
      "[CV] kernel=poly, C=0.1, gamma=0.001 .................................\n",
      "[CV]  kernel=poly, C=0.1, gamma=0.001, score=0.5756951596292482, total=  13.8s\n",
      "[CV] kernel=poly, C=0.1, gamma=0.001 .................................\n"
     ]
    },
    {
     "name": "stdout",
     "output_type": "stream",
     "text": [
      "[CV]  kernel=poly, C=0.1, gamma=0.001, score=0.5756327251324308, total=  13.9s\n",
      "[CV] kernel=sigmoid, C=0.1, gamma=0.001 ..............................\n",
      "[CV]  kernel=sigmoid, C=0.1, gamma=0.001, score=0.5756951596292482, total=  18.6s\n",
      "[CV] kernel=sigmoid, C=0.1, gamma=0.001 ..............................\n",
      "[CV]  kernel=sigmoid, C=0.1, gamma=0.001, score=0.5756951596292482, total=  19.2s\n",
      "[CV] kernel=sigmoid, C=0.1, gamma=0.001 ..............................\n",
      "[CV]  kernel=sigmoid, C=0.1, gamma=0.001, score=0.5756951596292482, total=  18.7s\n",
      "[CV] kernel=sigmoid, C=0.1, gamma=0.001 ..............................\n",
      "[CV]  kernel=sigmoid, C=0.1, gamma=0.001, score=0.5756951596292482, total=  19.0s\n",
      "[CV] kernel=sigmoid, C=0.1, gamma=0.001 ..............................\n",
      "[CV]  kernel=sigmoid, C=0.1, gamma=0.001, score=0.5756327251324308, total=  18.7s\n",
      "[CV] kernel=rbf, C=0.1, gamma=0.01 ...................................\n",
      "[CV]  kernel=rbf, C=0.1, gamma=0.01, score=0.5777548918640577, total=  22.6s\n",
      "[CV] kernel=rbf, C=0.1, gamma=0.01 ...................................\n",
      "[CV]  kernel=rbf, C=0.1, gamma=0.01, score=0.578343386788289, total=  22.8s\n",
      "[CV] kernel=rbf, C=0.1, gamma=0.01 ...................................\n",
      "[CV]  kernel=rbf, C=0.1, gamma=0.01, score=0.5781962630572312, total=  22.6s\n",
      "[CV] kernel=rbf, C=0.1, gamma=0.01 ...................................\n",
      "[CV]  kernel=rbf, C=0.1, gamma=0.01, score=0.5779020155951154, total=  22.4s\n",
      "[CV] kernel=rbf, C=0.1, gamma=0.01 ...................................\n",
      "[CV]  kernel=rbf, C=0.1, gamma=0.01, score=0.5771041789287816, total=  22.6s\n",
      "[CV] kernel=poly, C=0.1, gamma=0.01 ..................................\n",
      "[CV]  kernel=poly, C=0.1, gamma=0.01, score=0.5756951596292482, total=  15.9s\n",
      "[CV] kernel=poly, C=0.1, gamma=0.01 ..................................\n",
      "[CV]  kernel=poly, C=0.1, gamma=0.01, score=0.5756951596292482, total=  16.2s\n",
      "[CV] kernel=poly, C=0.1, gamma=0.01 ..................................\n",
      "[CV]  kernel=poly, C=0.1, gamma=0.01, score=0.5756951596292482, total=  15.7s\n",
      "[CV] kernel=poly, C=0.1, gamma=0.01 ..................................\n",
      "[CV]  kernel=poly, C=0.1, gamma=0.01, score=0.5756951596292482, total=  15.9s\n",
      "[CV] kernel=poly, C=0.1, gamma=0.01 ..................................\n",
      "[CV]  kernel=poly, C=0.1, gamma=0.01, score=0.5756327251324308, total=  15.8s\n",
      "[CV] kernel=sigmoid, C=0.1, gamma=0.01 ...............................\n",
      "[CV]  kernel=sigmoid, C=0.1, gamma=0.01, score=0.5867294394585847, total=  32.1s\n",
      "[CV] kernel=sigmoid, C=0.1, gamma=0.01 ...............................\n",
      "[CV]  kernel=sigmoid, C=0.1, gamma=0.01, score=0.5895247903486832, total=  29.8s\n",
      "[CV] kernel=sigmoid, C=0.1, gamma=0.01 ...............................\n",
      "[CV]  kernel=sigmoid, C=0.1, gamma=0.01, score=0.588053553038105, total=  28.9s\n",
      "[CV] kernel=sigmoid, C=0.1, gamma=0.01 ...............................\n",
      "[CV]  kernel=sigmoid, C=0.1, gamma=0.01, score=0.5811387376783875, total=  29.0s\n",
      "[CV] kernel=sigmoid, C=0.1, gamma=0.01 ...............................\n",
      "[CV]  kernel=sigmoid, C=0.1, gamma=0.01, score=0.5875515008828722, total=  29.1s\n",
      "[CV] kernel=rbf, C=0.1, gamma=0.1 ....................................\n",
      "[CV]  kernel=rbf, C=0.1, gamma=0.1, score=0.661468294835957, total=  21.3s\n",
      "[CV] kernel=rbf, C=0.1, gamma=0.1 ....................................\n",
      "[CV]  kernel=rbf, C=0.1, gamma=0.1, score=0.6563189642489333, total=  21.0s\n",
      "[CV] kernel=rbf, C=0.1, gamma=0.1 ....................................\n",
      "[CV]  kernel=rbf, C=0.1, gamma=0.1, score=0.6654406355745182, total=  21.0s\n",
      "[CV] kernel=rbf, C=0.1, gamma=0.1 ....................................\n",
      "[CV]  kernel=rbf, C=0.1, gamma=0.1, score=0.6613211711048992, total=  21.0s\n",
      "[CV] kernel=rbf, C=0.1, gamma=0.1 ....................................\n",
      "[CV]  kernel=rbf, C=0.1, gamma=0.1, score=0.6631842260153031, total=  21.2s\n",
      "[CV] kernel=poly, C=0.1, gamma=0.1 ...................................\n",
      "[CV]  kernel=poly, C=0.1, gamma=0.1, score=0.6766220391349125, total=  16.7s\n",
      "[CV] kernel=poly, C=0.1, gamma=0.1 ...................................\n",
      "[CV]  kernel=poly, C=0.1, gamma=0.1, score=0.675297925555392, total=  17.0s\n",
      "[CV] kernel=poly, C=0.1, gamma=0.1 ...................................\n",
      "[CV]  kernel=poly, C=0.1, gamma=0.1, score=0.665587759305576, total=  16.5s\n",
      "[CV] kernel=poly, C=0.1, gamma=0.1 ...................................\n",
      "[CV]  kernel=poly, C=0.1, gamma=0.1, score=0.6698543475062527, total=  16.2s\n",
      "[CV] kernel=poly, C=0.1, gamma=0.1 ...................................\n",
      "[CV]  kernel=poly, C=0.1, gamma=0.1, score=0.6706886403766922, total=  16.9s\n",
      "[CV] kernel=sigmoid, C=0.1, gamma=0.1 ................................\n",
      "[CV]  kernel=sigmoid, C=0.1, gamma=0.1, score=0.5265558334559365, total=  18.2s\n",
      "[CV] kernel=sigmoid, C=0.1, gamma=0.1 ................................\n",
      "[CV]  kernel=sigmoid, C=0.1, gamma=0.1, score=0.5212593791378549, total=  18.2s\n",
      "[CV] kernel=sigmoid, C=0.1, gamma=0.1 ................................\n",
      "[CV]  kernel=sigmoid, C=0.1, gamma=0.1, score=0.5246432249521847, total=  18.6s\n",
      "[CV] kernel=sigmoid, C=0.1, gamma=0.1 ................................\n",
      "[CV]  kernel=sigmoid, C=0.1, gamma=0.1, score=0.5325879064293071, total=  19.3s\n",
      "[CV] kernel=sigmoid, C=0.1, gamma=0.1 ................................\n",
      "[CV]  kernel=sigmoid, C=0.1, gamma=0.1, score=0.5285462036492055, total=  18.6s\n",
      "[CV] kernel=rbf, C=0.1, gamma=1 ......................................\n",
      "[CV]  kernel=rbf, C=0.1, gamma=1, score=0.717816683831102, total=  20.2s\n",
      "[CV] kernel=rbf, C=0.1, gamma=1 ......................................\n",
      "[CV]  kernel=rbf, C=0.1, gamma=1, score=0.7039870531116669, total=  20.1s\n",
      "[CV] kernel=rbf, C=0.1, gamma=1 ......................................\n",
      "[CV]  kernel=rbf, C=0.1, gamma=1, score=0.7106076210092688, total=  19.5s\n",
      "[CV] kernel=rbf, C=0.1, gamma=1 ......................................\n",
      "[CV]  kernel=rbf, C=0.1, gamma=1, score=0.6967779902898338, total=  19.9s\n",
      "[CV] kernel=rbf, C=0.1, gamma=1 ......................................\n",
      "[CV]  kernel=rbf, C=0.1, gamma=1, score=0.7087992937021778, total=  19.7s\n",
      "[CV] kernel=poly, C=0.1, gamma=1 .....................................\n",
      "[CV]  kernel=poly, C=0.1, gamma=1, score=0.771663969398264, total= 1.6min\n",
      "[CV] kernel=poly, C=0.1, gamma=1 .....................................\n",
      "[CV]  kernel=poly, C=0.1, gamma=1, score=0.7679858761218185, total= 1.6min\n",
      "[CV] kernel=poly, C=0.1, gamma=1 .....................................\n",
      "[CV]  kernel=poly, C=0.1, gamma=1, score=0.7669560100044137, total= 1.6min\n",
      "[CV] kernel=poly, C=0.1, gamma=1 .....................................\n",
      "[CV]  kernel=poly, C=0.1, gamma=1, score=0.7697513608945122, total= 1.7min\n",
      "[CV] kernel=poly, C=0.1, gamma=1 .....................................\n",
      "[CV]  kernel=poly, C=0.1, gamma=1, score=0.7642731018246027, total= 1.7min\n",
      "[CV] kernel=sigmoid, C=0.1, gamma=1 ..................................\n",
      "[CV]  kernel=sigmoid, C=0.1, gamma=1, score=0.5592173017507724, total=  22.9s\n",
      "[CV] kernel=sigmoid, C=0.1, gamma=1 ..................................\n",
      "[CV]  kernel=sigmoid, C=0.1, gamma=1, score=0.5502427541562454, total=  23.1s\n",
      "[CV] kernel=sigmoid, C=0.1, gamma=1 ..................................\n",
      "[CV]  kernel=sigmoid, C=0.1, gamma=1, score=0.559511549212888, total=  23.3s\n",
      "[CV] kernel=sigmoid, C=0.1, gamma=1 ..................................\n",
      "[CV]  kernel=sigmoid, C=0.1, gamma=1, score=0.5575989407091364, total=  23.0s\n",
      "[CV] kernel=sigmoid, C=0.1, gamma=1 ..................................\n",
      "[CV]  kernel=sigmoid, C=0.1, gamma=1, score=0.5607710417892878, total=  23.5s\n",
      "[CV] kernel=rbf, C=1, gamma=auto .....................................\n",
      "[CV]  kernel=rbf, C=1, gamma=auto, score=0.7501839046638222, total=  19.3s\n",
      "[CV] kernel=rbf, C=1, gamma=auto .....................................\n",
      "[CV]  kernel=rbf, C=1, gamma=auto, score=0.7395909960276592, total=  19.2s\n",
      "[CV] kernel=rbf, C=1, gamma=auto .....................................\n",
      "[CV]  kernel=rbf, C=1, gamma=auto, score=0.7395909960276592, total=  19.5s\n",
      "[CV] kernel=rbf, C=1, gamma=auto .....................................\n",
      "[CV]  kernel=rbf, C=1, gamma=auto, score=0.741503604531411, total=  20.0s\n",
      "[CV] kernel=rbf, C=1, gamma=auto .....................................\n",
      "[CV]  kernel=rbf, C=1, gamma=auto, score=0.7464685108887581, total=  19.3s\n",
      "[CV] kernel=poly, C=1, gamma=auto ....................................\n"
     ]
    },
    {
     "name": "stdout",
     "output_type": "stream",
     "text": [
      "[CV]  kernel=poly, C=1, gamma=auto, score=0.7465058113873768, total=  19.5s\n",
      "[CV] kernel=poly, C=1, gamma=auto ....................................\n",
      "[CV]  kernel=poly, C=1, gamma=auto, score=0.7498896572017066, total=  19.2s\n",
      "[CV] kernel=poly, C=1, gamma=auto ....................................\n",
      "[CV]  kernel=poly, C=1, gamma=auto, score=0.743857584228336, total=  18.2s\n",
      "[CV] kernel=poly, C=1, gamma=auto ....................................\n",
      "[CV]  kernel=poly, C=1, gamma=auto, score=0.7468000588494924, total=  19.7s\n",
      "[CV] kernel=poly, C=1, gamma=auto ....................................\n",
      "[CV]  kernel=poly, C=1, gamma=auto, score=0.7401412595644496, total=  18.6s\n",
      "[CV] kernel=sigmoid, C=1, gamma=auto .................................\n",
      "[CV]  kernel=sigmoid, C=1, gamma=auto, score=0.5353832573194056, total=  16.3s\n",
      "[CV] kernel=sigmoid, C=1, gamma=auto .................................\n",
      "[CV]  kernel=sigmoid, C=1, gamma=auto, score=0.5253788436074739, total=  16.2s\n",
      "[CV] kernel=sigmoid, C=1, gamma=auto .................................\n",
      "[CV]  kernel=sigmoid, C=1, gamma=auto, score=0.5328821538914227, total=  16.2s\n",
      "[CV] kernel=sigmoid, C=1, gamma=auto .................................\n",
      "[CV]  kernel=sigmoid, C=1, gamma=auto, score=0.5349418861262322, total=  16.5s\n",
      "[CV] kernel=sigmoid, C=1, gamma=auto .................................\n",
      "[CV]  kernel=sigmoid, C=1, gamma=auto, score=0.5363449087698646, total=  16.6s\n",
      "[CV] kernel=rbf, C=1, gamma=0.001 ....................................\n",
      "[CV]  kernel=rbf, C=1, gamma=0.001, score=0.576725025746653, total=  22.9s\n",
      "[CV] kernel=rbf, C=1, gamma=0.001 ....................................\n",
      "[CV]  kernel=rbf, C=1, gamma=0.001, score=0.5765779020155951, total=  22.2s\n",
      "[CV] kernel=rbf, C=1, gamma=0.001 ....................................\n",
      "[CV]  kernel=rbf, C=1, gamma=0.001, score=0.5765779020155951, total=  22.7s\n",
      "[CV] kernel=rbf, C=1, gamma=0.001 ....................................\n",
      "[CV]  kernel=rbf, C=1, gamma=0.001, score=0.5770192732087686, total=  22.3s\n",
      "[CV] kernel=rbf, C=1, gamma=0.001 ....................................\n",
      "[CV]  kernel=rbf, C=1, gamma=0.001, score=0.5763684520306063, total=  22.7s\n",
      "[CV] kernel=poly, C=1, gamma=0.001 ...................................\n",
      "[CV]  kernel=poly, C=1, gamma=0.001, score=0.5756951596292482, total=  14.0s\n",
      "[CV] kernel=poly, C=1, gamma=0.001 ...................................\n",
      "[CV]  kernel=poly, C=1, gamma=0.001, score=0.5756951596292482, total=  14.1s\n",
      "[CV] kernel=poly, C=1, gamma=0.001 ...................................\n",
      "[CV]  kernel=poly, C=1, gamma=0.001, score=0.5756951596292482, total=  13.9s\n",
      "[CV] kernel=poly, C=1, gamma=0.001 ...................................\n",
      "[CV]  kernel=poly, C=1, gamma=0.001, score=0.5756951596292482, total=  13.9s\n",
      "[CV] kernel=poly, C=1, gamma=0.001 ...................................\n",
      "[CV]  kernel=poly, C=1, gamma=0.001, score=0.5756327251324308, total=  14.0s\n",
      "[CV] kernel=sigmoid, C=1, gamma=0.001 ................................\n",
      "[CV]  kernel=sigmoid, C=1, gamma=0.001, score=0.5756951596292482, total=  18.5s\n",
      "[CV] kernel=sigmoid, C=1, gamma=0.001 ................................\n",
      "[CV]  kernel=sigmoid, C=1, gamma=0.001, score=0.5756951596292482, total=  19.1s\n",
      "[CV] kernel=sigmoid, C=1, gamma=0.001 ................................\n",
      "[CV]  kernel=sigmoid, C=1, gamma=0.001, score=0.5756951596292482, total=  18.7s\n",
      "[CV] kernel=sigmoid, C=1, gamma=0.001 ................................\n",
      "[CV]  kernel=sigmoid, C=1, gamma=0.001, score=0.5756951596292482, total=  18.9s\n",
      "[CV] kernel=sigmoid, C=1, gamma=0.001 ................................\n",
      "[CV]  kernel=sigmoid, C=1, gamma=0.001, score=0.5756327251324308, total=  18.7s\n",
      "[CV] kernel=rbf, C=1, gamma=0.01 .....................................\n",
      "[CV]  kernel=rbf, C=1, gamma=0.01, score=0.6807415036045315, total=  21.7s\n",
      "[CV] kernel=rbf, C=1, gamma=0.01 .....................................\n",
      "[CV]  kernel=rbf, C=1, gamma=0.01, score=0.6685302339267324, total=  21.5s\n",
      "[CV] kernel=rbf, C=1, gamma=0.01 .....................................\n",
      "[CV]  kernel=rbf, C=1, gamma=0.01, score=0.6750036780932764, total=  21.6s\n",
      "[CV] kernel=rbf, C=1, gamma=0.01 .....................................\n",
      "[CV]  kernel=rbf, C=1, gamma=0.01, score=0.6686773576577902, total=  21.8s\n",
      "[CV] kernel=rbf, C=1, gamma=0.01 .....................................\n",
      "[CV]  kernel=rbf, C=1, gamma=0.01, score=0.6712772218952325, total=  21.9s\n",
      "[CV] kernel=poly, C=1, gamma=0.01 ....................................\n",
      "[CV]  kernel=poly, C=1, gamma=0.01, score=0.5756951596292482, total=  15.8s\n",
      "[CV] kernel=poly, C=1, gamma=0.01 ....................................\n",
      "[CV]  kernel=poly, C=1, gamma=0.01, score=0.5756951596292482, total=  16.4s\n",
      "[CV] kernel=poly, C=1, gamma=0.01 ....................................\n",
      "[CV]  kernel=poly, C=1, gamma=0.01, score=0.5756951596292482, total=  16.3s\n",
      "[CV] kernel=poly, C=1, gamma=0.01 ....................................\n",
      "[CV]  kernel=poly, C=1, gamma=0.01, score=0.575842283360306, total=  15.6s\n",
      "[CV] kernel=poly, C=1, gamma=0.01 ....................................\n",
      "[CV]  kernel=poly, C=1, gamma=0.01, score=0.5756327251324308, total=  16.0s\n",
      "[CV] kernel=sigmoid, C=1, gamma=0.01 .................................\n",
      "[CV]  kernel=sigmoid, C=1, gamma=0.01, score=0.5161100485508312, total=  44.0s\n",
      "[CV] kernel=sigmoid, C=1, gamma=0.01 .................................\n",
      "[CV]  kernel=sigmoid, C=1, gamma=0.01, score=0.518758275709872, total=  39.9s\n",
      "[CV] kernel=sigmoid, C=1, gamma=0.01 .................................\n",
      "[CV]  kernel=sigmoid, C=1, gamma=0.01, score=0.5044872737972635, total=  40.2s\n",
      "[CV] kernel=sigmoid, C=1, gamma=0.01 .................................\n",
      "[CV]  kernel=sigmoid, C=1, gamma=0.01, score=0.5175812858614094, total=  36.3s\n",
      "[CV] kernel=sigmoid, C=1, gamma=0.01 .................................\n",
      "[CV]  kernel=sigmoid, C=1, gamma=0.01, score=0.5217775161859918, total=  49.3s\n",
      "[CV] kernel=rbf, C=1, gamma=0.1 ......................................\n",
      "[CV]  kernel=rbf, C=1, gamma=0.1, score=0.7422392231867, total=  19.8s\n",
      "[CV] kernel=rbf, C=1, gamma=0.1 ......................................\n",
      "[CV]  kernel=rbf, C=1, gamma=0.1, score=0.7360600264822716, total=  19.6s\n",
      "[CV] kernel=rbf, C=1, gamma=0.1 ......................................\n",
      "[CV]  kernel=rbf, C=1, gamma=0.1, score=0.7360600264822716, total=  19.7s\n",
      "[CV] kernel=rbf, C=1, gamma=0.1 ......................................\n",
      "[CV]  kernel=rbf, C=1, gamma=0.1, score=0.7313520670884214, total=  19.6s\n",
      "[CV] kernel=rbf, C=1, gamma=0.1 ......................................\n",
      "[CV]  kernel=rbf, C=1, gamma=0.1, score=0.7376397881106533, total=  19.8s\n",
      "[CV] kernel=poly, C=1, gamma=0.1 .....................................\n",
      "[CV]  kernel=poly, C=1, gamma=0.1, score=0.729145211122554, total=  17.2s\n",
      "[CV] kernel=poly, C=1, gamma=0.1 .....................................\n",
      "[CV]  kernel=poly, C=1, gamma=0.1, score=0.7307635721641901, total=  17.4s\n",
      "[CV] kernel=poly, C=1, gamma=0.1 .....................................\n",
      "[CV]  kernel=poly, C=1, gamma=0.1, score=0.7281153450051493, total=  16.2s\n",
      "[CV] kernel=poly, C=1, gamma=0.1 .....................................\n",
      "[CV]  kernel=poly, C=1, gamma=0.1, score=0.7250257466529351, total=  17.1s\n",
      "[CV] kernel=poly, C=1, gamma=0.1 .....................................\n",
      "[CV]  kernel=poly, C=1, gamma=0.1, score=0.7238081224249558, total=  17.3s\n",
      "[CV] kernel=sigmoid, C=1, gamma=0.1 ..................................\n",
      "[CV]  kernel=sigmoid, C=1, gamma=0.1, score=0.5227306164484331, total=  18.3s\n",
      "[CV] kernel=sigmoid, C=1, gamma=0.1 ..................................\n",
      "[CV]  kernel=sigmoid, C=1, gamma=0.1, score=0.5168456672061204, total=  16.8s\n",
      "[CV] kernel=sigmoid, C=1, gamma=0.1 ..................................\n",
      "[CV]  kernel=sigmoid, C=1, gamma=0.1, score=0.5225834927173754, total=  16.4s\n",
      "[CV] kernel=sigmoid, C=1, gamma=0.1 ..................................\n",
      "[CV]  kernel=sigmoid, C=1, gamma=0.1, score=0.5274385758422834, total=  16.8s\n",
      "[CV] kernel=sigmoid, C=1, gamma=0.1 ..................................\n",
      "[CV]  kernel=sigmoid, C=1, gamma=0.1, score=0.5247204237786933, total=  16.6s\n",
      "[CV] kernel=rbf, C=1, gamma=1 ........................................\n",
      "[CV]  kernel=rbf, C=1, gamma=1, score=0.7688686185081653, total=  17.1s\n",
      "[CV] kernel=rbf, C=1, gamma=1 ........................................\n"
     ]
    },
    {
     "name": "stdout",
     "output_type": "stream",
     "text": [
      "[CV]  kernel=rbf, C=1, gamma=1, score=0.7625422980726791, total=  16.9s\n",
      "[CV] kernel=rbf, C=1, gamma=1 ........................................\n",
      "[CV]  kernel=rbf, C=1, gamma=1, score=0.7619538031484479, total=  17.0s\n",
      "[CV] kernel=rbf, C=1, gamma=1 ........................................\n",
      "[CV]  kernel=rbf, C=1, gamma=1, score=0.7593055759894071, total=  17.0s\n",
      "[CV] kernel=rbf, C=1, gamma=1 ........................................\n",
      "[CV]  kernel=rbf, C=1, gamma=1, score=0.7669217186580342, total=  16.9s\n",
      "[CV] kernel=poly, C=1, gamma=1 .......................................\n",
      "[CV]  kernel=poly, C=1, gamma=1, score=0.7743121965573047, total=11.0min\n",
      "[CV] kernel=poly, C=1, gamma=1 .......................................\n",
      "[CV]  kernel=poly, C=1, gamma=1, score=0.7701927320876858, total=11.6min\n",
      "[CV] kernel=poly, C=1, gamma=1 .......................................\n",
      "[CV]  kernel=poly, C=1, gamma=1, score=0.7734294541709578, total=11.4min\n",
      "[CV] kernel=poly, C=1, gamma=1 .......................................\n",
      "[CV]  kernel=poly, C=1, gamma=1, score=0.7729880829777843, total=11.7min\n",
      "[CV] kernel=poly, C=1, gamma=1 .......................................\n",
      "[CV]  kernel=poly, C=1, gamma=1, score=0.7706003531489112, total=10.8min\n",
      "[CV] kernel=sigmoid, C=1, gamma=1 ....................................\n",
      "[CV]  kernel=sigmoid, C=1, gamma=1, score=0.5361188759746948, total=  17.3s\n",
      "[CV] kernel=sigmoid, C=1, gamma=1 ....................................\n",
      "[CV]  kernel=sigmoid, C=1, gamma=1, score=0.526114462262763, total=  17.4s\n",
      "[CV] kernel=sigmoid, C=1, gamma=1 ....................................\n",
      "[CV]  kernel=sigmoid, C=1, gamma=1, score=0.5337648962777696, total=  17.2s\n",
      "[CV] kernel=sigmoid, C=1, gamma=1 ....................................\n",
      "[CV]  kernel=sigmoid, C=1, gamma=1, score=0.5349418861262322, total=  17.4s\n",
      "[CV] kernel=sigmoid, C=1, gamma=1 ....................................\n",
      "[CV]  kernel=sigmoid, C=1, gamma=1, score=0.5364920541494997, total=  17.2s\n",
      "[CV] kernel=rbf, C=10, gamma=auto ....................................\n",
      "[CV]  kernel=rbf, C=10, gamma=auto, score=0.7760776813299985, total=  16.6s\n",
      "[CV] kernel=rbf, C=10, gamma=auto ....................................\n",
      "[CV]  kernel=rbf, C=10, gamma=auto, score=0.7656318964248934, total=  16.3s\n",
      "[CV] kernel=rbf, C=10, gamma=auto ....................................\n",
      "[CV]  kernel=rbf, C=10, gamma=auto, score=0.7685743710460498, total=  16.4s\n",
      "[CV] kernel=rbf, C=10, gamma=auto ....................................\n",
      "[CV]  kernel=rbf, C=10, gamma=auto, score=0.7640135353832573, total=  16.4s\n",
      "[CV] kernel=rbf, C=10, gamma=auto ....................................\n",
      "[CV]  kernel=rbf, C=10, gamma=auto, score=0.7700117716303708, total=  16.5s\n",
      "[CV] kernel=poly, C=10, gamma=auto ...................................\n",
      "[CV]  kernel=poly, C=10, gamma=auto, score=0.768280123583934, total=  43.1s\n",
      "[CV] kernel=poly, C=10, gamma=auto ...................................\n",
      "[CV]  kernel=poly, C=10, gamma=auto, score=0.7623951743416213, total=  42.0s\n",
      "[CV] kernel=poly, C=10, gamma=auto ...................................\n",
      "[CV]  kernel=poly, C=10, gamma=auto, score=0.7653376489627777, total=  42.8s\n",
      "[CV] kernel=poly, C=10, gamma=auto ...................................\n",
      "[CV]  kernel=poly, C=10, gamma=auto, score=0.7679858761218185, total=  43.0s\n",
      "[CV] kernel=poly, C=10, gamma=auto ...................................\n",
      "[CV]  kernel=poly, C=10, gamma=auto, score=0.7576515597410242, total=  42.2s\n",
      "[CV] kernel=sigmoid, C=10, gamma=auto ................................\n",
      "[CV]  kernel=sigmoid, C=10, gamma=auto, score=0.5355303810504635, total=  16.3s\n",
      "[CV] kernel=sigmoid, C=10, gamma=auto ................................\n",
      "[CV]  kernel=sigmoid, C=10, gamma=auto, score=0.5253788436074739, total=  16.2s\n",
      "[CV] kernel=sigmoid, C=10, gamma=auto ................................\n",
      "[CV]  kernel=sigmoid, C=10, gamma=auto, score=0.5328821538914227, total=  16.4s\n",
      "[CV] kernel=sigmoid, C=10, gamma=auto ................................\n",
      "[CV]  kernel=sigmoid, C=10, gamma=auto, score=0.5347947623951743, total=  16.5s\n",
      "[CV] kernel=sigmoid, C=10, gamma=auto ................................\n",
      "[CV]  kernel=sigmoid, C=10, gamma=auto, score=0.5363449087698646, total=  15.9s\n",
      "[CV] kernel=rbf, C=10, gamma=0.001 ...................................\n",
      "[CV]  kernel=rbf, C=10, gamma=0.001, score=0.6873620715021332, total=  21.6s\n",
      "[CV] kernel=rbf, C=10, gamma=0.001 ...................................\n",
      "[CV]  kernel=rbf, C=10, gamma=0.001, score=0.674562306900103, total=  21.5s\n",
      "[CV] kernel=rbf, C=10, gamma=0.001 ...................................\n",
      "[CV]  kernel=rbf, C=10, gamma=0.001, score=0.6783875239076063, total=  21.3s\n",
      "[CV] kernel=rbf, C=10, gamma=0.001 ...................................\n",
      "[CV]  kernel=rbf, C=10, gamma=0.001, score=0.6719140797410622, total=  21.5s\n",
      "[CV] kernel=rbf, C=10, gamma=0.001 ...................................\n",
      "[CV]  kernel=rbf, C=10, gamma=0.001, score=0.6737786933490288, total=  21.4s\n",
      "[CV] kernel=poly, C=10, gamma=0.001 ..................................\n",
      "[CV]  kernel=poly, C=10, gamma=0.001, score=0.5756951596292482, total=  14.5s\n",
      "[CV] kernel=poly, C=10, gamma=0.001 ..................................\n",
      "[CV]  kernel=poly, C=10, gamma=0.001, score=0.5756951596292482, total=  14.4s\n",
      "[CV] kernel=poly, C=10, gamma=0.001 ..................................\n",
      "[CV]  kernel=poly, C=10, gamma=0.001, score=0.5756951596292482, total=  14.8s\n",
      "[CV] kernel=poly, C=10, gamma=0.001 ..................................\n",
      "[CV]  kernel=poly, C=10, gamma=0.001, score=0.5756951596292482, total=  14.9s\n",
      "[CV] kernel=poly, C=10, gamma=0.001 ..................................\n",
      "[CV]  kernel=poly, C=10, gamma=0.001, score=0.5756327251324308, total=  15.3s\n",
      "[CV] kernel=sigmoid, C=10, gamma=0.001 ...............................\n",
      "[CV]  kernel=sigmoid, C=10, gamma=0.001, score=0.6569074591731646, total=  18.6s\n",
      "[CV] kernel=sigmoid, C=10, gamma=0.001 ...............................\n",
      "[CV]  kernel=sigmoid, C=10, gamma=0.001, score=0.6592614388700897, total=  18.9s\n",
      "[CV] kernel=sigmoid, C=10, gamma=0.001 ...............................\n",
      "[CV]  kernel=sigmoid, C=10, gamma=0.001, score=0.6574959540973959, total=  18.6s\n",
      "[CV] kernel=sigmoid, C=10, gamma=0.001 ...............................\n",
      "[CV]  kernel=sigmoid, C=10, gamma=0.001, score=0.6623510372223039, total=  18.9s\n",
      "[CV] kernel=sigmoid, C=10, gamma=0.001 ...............................\n",
      "[CV]  kernel=sigmoid, C=10, gamma=0.001, score=0.6553855208946439, total=  18.9s\n",
      "[CV] kernel=rbf, C=10, gamma=0.01 ....................................\n",
      "[CV]  kernel=rbf, C=10, gamma=0.01, score=0.7462115639252611, total=  20.1s\n",
      "[CV] kernel=rbf, C=10, gamma=0.01 ....................................\n",
      "[CV]  kernel=rbf, C=10, gamma=0.01, score=0.7453288215389142, total=  19.4s\n",
      "[CV] kernel=rbf, C=10, gamma=0.01 ....................................\n",
      "[CV]  kernel=rbf, C=10, gamma=0.01, score=0.7409151096071797, total=  20.1s\n",
      "[CV] kernel=rbf, C=10, gamma=0.01 ....................................\n",
      "[CV]  kernel=rbf, C=10, gamma=0.01, score=0.7384140061791967, total=  19.6s\n",
      "[CV] kernel=rbf, C=10, gamma=0.01 ....................................\n",
      "[CV]  kernel=rbf, C=10, gamma=0.01, score=0.7413184226015304, total=  19.4s\n",
      "[CV] kernel=poly, C=10, gamma=0.01 ...................................\n",
      "[CV]  kernel=poly, C=10, gamma=0.01, score=0.610122112696778, total=  15.8s\n",
      "[CV] kernel=poly, C=10, gamma=0.01 ...................................\n",
      "[CV]  kernel=poly, C=10, gamma=0.01, score=0.6073267618066794, total=  15.4s\n",
      "[CV] kernel=poly, C=10, gamma=0.01 ...................................\n",
      "[CV]  kernel=poly, C=10, gamma=0.01, score=0.6079152567309107, total=  15.6s\n",
      "[CV] kernel=poly, C=10, gamma=0.01 ...................................\n",
      "[CV]  kernel=poly, C=10, gamma=0.01, score=0.6105634838899514, total=  16.3s\n",
      "[CV] kernel=poly, C=10, gamma=0.01 ...................................\n",
      "[CV]  kernel=poly, C=10, gamma=0.01, score=0.6060918187168923, total=  15.8s\n",
      "[CV] kernel=sigmoid, C=10, gamma=0.01 ................................\n",
      "[CV]  kernel=sigmoid, C=10, gamma=0.01, score=0.5681918493452994, total=  30.3s\n",
      "[CV] kernel=sigmoid, C=10, gamma=0.01 ................................\n",
      "[CV]  kernel=sigmoid, C=10, gamma=0.01, score=0.5208180079446815, total=  35.1s\n",
      "[CV] kernel=sigmoid, C=10, gamma=0.01 ................................\n"
     ]
    },
    {
     "name": "stdout",
     "output_type": "stream",
     "text": [
      "[CV]  kernel=sigmoid, C=10, gamma=0.01, score=0.505664263645726, total=  35.2s\n",
      "[CV] kernel=sigmoid, C=10, gamma=0.01 ................................\n",
      "[CV]  kernel=sigmoid, C=10, gamma=0.01, score=0.514638811240253, total=  36.5s\n",
      "[CV] kernel=sigmoid, C=10, gamma=0.01 ................................\n",
      "[CV]  kernel=sigmoid, C=10, gamma=0.01, score=0.5169217186580342, total=  35.3s\n",
      "[CV] kernel=rbf, C=10, gamma=0.1 .....................................\n",
      "[CV]  kernel=rbf, C=10, gamma=0.1, score=0.774900691481536, total=  16.8s\n",
      "[CV] kernel=rbf, C=10, gamma=0.1 .....................................\n",
      "[CV]  kernel=rbf, C=10, gamma=0.1, score=0.7663675150801824, total=  16.7s\n",
      "[CV] kernel=rbf, C=10, gamma=0.1 .....................................\n",
      "[CV]  kernel=rbf, C=10, gamma=0.1, score=0.7669560100044137, total=  17.0s\n",
      "[CV] kernel=rbf, C=10, gamma=0.1 .....................................\n",
      "[CV]  kernel=rbf, C=10, gamma=0.1, score=0.7628365455347947, total=  16.8s\n",
      "[CV] kernel=rbf, C=10, gamma=0.1 .....................................\n",
      "[CV]  kernel=rbf, C=10, gamma=0.1, score=0.76854031783402, total=  17.2s\n",
      "[CV] kernel=poly, C=10, gamma=0.1 ....................................\n",
      "[CV]  kernel=poly, C=10, gamma=0.1, score=0.7621009268795057, total=  25.1s\n",
      "[CV] kernel=poly, C=10, gamma=0.1 ....................................\n",
      "[CV]  kernel=poly, C=10, gamma=0.1, score=0.7591584522583493, total=  25.2s\n",
      "[CV] kernel=poly, C=10, gamma=0.1 ....................................\n",
      "[CV]  kernel=poly, C=10, gamma=0.1, score=0.7587170810651758, total=  24.9s\n",
      "[CV] kernel=poly, C=10, gamma=0.1 ....................................\n",
      "[CV]  kernel=poly, C=10, gamma=0.1, score=0.7600411946446962, total=  25.9s\n",
      "[CV] kernel=poly, C=10, gamma=0.1 ....................................\n",
      "[CV]  kernel=poly, C=10, gamma=0.1, score=0.751765744555621, total=  25.4s\n",
      "[CV] kernel=sigmoid, C=10, gamma=0.1 .................................\n",
      "[CV]  kernel=sigmoid, C=10, gamma=0.1, score=0.5225834927173754, total=  16.6s\n",
      "[CV] kernel=sigmoid, C=10, gamma=0.1 .................................\n",
      "[CV]  kernel=sigmoid, C=10, gamma=0.1, score=0.5159629248197735, total=  16.1s\n",
      "[CV] kernel=sigmoid, C=10, gamma=0.1 .................................\n",
      "[CV]  kernel=sigmoid, C=10, gamma=0.1, score=0.5219949977931441, total=  16.5s\n",
      "[CV] kernel=sigmoid, C=10, gamma=0.1 .................................\n",
      "[CV]  kernel=sigmoid, C=10, gamma=0.1, score=0.5272914521112255, total=  16.6s\n",
      "[CV] kernel=sigmoid, C=10, gamma=0.1 .................................\n",
      "[CV]  kernel=sigmoid, C=10, gamma=0.1, score=0.5242789876397881, total=  16.4s\n",
      "[CV] kernel=rbf, C=10, gamma=1 .......................................\n",
      "[CV]  kernel=rbf, C=10, gamma=1, score=0.7875533323525085, total=  16.2s\n",
      "[CV] kernel=rbf, C=10, gamma=1 .......................................\n",
      "[CV]  kernel=rbf, C=10, gamma=1, score=0.7794615271443284, total=  16.0s\n",
      "[CV] kernel=rbf, C=10, gamma=1 .......................................\n",
      "[CV]  kernel=rbf, C=10, gamma=1, score=0.7849051051934677, total=  16.0s\n",
      "[CV] kernel=rbf, C=10, gamma=1 .......................................\n",
      "[CV]  kernel=rbf, C=10, gamma=1, score=0.7801971457996175, total=  16.1s\n",
      "[CV] kernel=rbf, C=10, gamma=1 .......................................\n",
      "[CV]  kernel=rbf, C=10, gamma=1, score=0.7816362566215421, total=  16.0s\n",
      "[CV] kernel=poly, C=10, gamma=1 ......................................\n",
      "[CV]  kernel=poly, C=10, gamma=1, score=0.778137413564808, total=51.9min\n",
      "[CV] kernel=poly, C=10, gamma=1 ......................................\n",
      "[CV]  kernel=poly, C=10, gamma=1, score=0.7746064440194204, total=52.0min\n",
      "[CV] kernel=poly, C=10, gamma=1 ......................................\n",
      "[CV]  kernel=poly, C=10, gamma=1, score=0.7741650728262469, total=53.5min\n",
      "[CV] kernel=poly, C=10, gamma=1 ......................................\n",
      "[CV]  kernel=poly, C=10, gamma=1, score=0.7751949389436517, total=56.6min\n",
      "[CV] kernel=poly, C=10, gamma=1 ......................................\n",
      "[CV]  kernel=poly, C=10, gamma=1, score=0.7710417892878164, total=56.8min\n",
      "[CV] kernel=sigmoid, C=10, gamma=1 ...................................\n",
      "[CV]  kernel=sigmoid, C=10, gamma=1, score=0.5355303810504635, total=  15.9s\n",
      "[CV] kernel=sigmoid, C=10, gamma=1 ...................................\n",
      "[CV]  kernel=sigmoid, C=10, gamma=1, score=0.5255259673385317, total=  15.4s\n",
      "[CV] kernel=sigmoid, C=10, gamma=1 ...................................\n",
      "[CV]  kernel=sigmoid, C=10, gamma=1, score=0.5331764013535383, total=  15.4s\n",
      "[CV] kernel=sigmoid, C=10, gamma=1 ...................................\n",
      "[CV]  kernel=sigmoid, C=10, gamma=1, score=0.5349418861262322, total=  15.5s\n",
      "[CV] kernel=sigmoid, C=10, gamma=1 ...................................\n",
      "[CV]  kernel=sigmoid, C=10, gamma=1, score=0.5363449087698646, total=  15.3s\n",
      "[CV] kernel=rbf, C=100, gamma=auto ...................................\n",
      "[CV]  kernel=rbf, C=100, gamma=auto, score=0.7843166102692364, total=  17.6s\n",
      "[CV] kernel=rbf, C=100, gamma=auto ...................................\n",
      "[CV]  kernel=rbf, C=100, gamma=auto, score=0.7725467117846109, total=  17.3s\n",
      "[CV] kernel=rbf, C=100, gamma=auto ...................................\n",
      "[CV]  kernel=rbf, C=100, gamma=auto, score=0.7779902898337502, total=  16.9s\n",
      "[CV] kernel=rbf, C=100, gamma=auto ...................................\n",
      "[CV]  kernel=rbf, C=100, gamma=auto, score=0.7738708253641312, total=  17.5s\n",
      "[CV] kernel=rbf, C=100, gamma=auto ...................................\n",
      "[CV]  kernel=rbf, C=100, gamma=auto, score=0.7736904061212478, total=  17.3s\n",
      "[CV] kernel=poly, C=100, gamma=auto ..................................\n",
      "[CV]  kernel=poly, C=100, gamma=auto, score=0.7718110931293217, total= 3.9min\n",
      "[CV] kernel=poly, C=100, gamma=auto ..................................\n",
      "[CV]  kernel=poly, C=100, gamma=auto, score=0.7688686185081653, total= 4.0min\n",
      "[CV] kernel=poly, C=100, gamma=auto ..................................\n",
      "[CV]  kernel=poly, C=100, gamma=auto, score=0.769162865970281, total= 4.2min\n",
      "[CV] kernel=poly, C=100, gamma=auto ..................................\n",
      "[CV]  kernel=poly, C=100, gamma=auto, score=0.7712225982050904, total= 4.0min\n",
      "[CV] kernel=poly, C=100, gamma=auto ..................................\n",
      "[CV]  kernel=poly, C=100, gamma=auto, score=0.7673631547969394, total= 3.8min\n",
      "[CV] kernel=sigmoid, C=100, gamma=auto ...............................\n",
      "[CV]  kernel=sigmoid, C=100, gamma=auto, score=0.5355303810504635, total=  16.5s\n",
      "[CV] kernel=sigmoid, C=100, gamma=auto ...............................\n",
      "[CV]  kernel=sigmoid, C=100, gamma=auto, score=0.5253788436074739, total=  16.0s\n",
      "[CV] kernel=sigmoid, C=100, gamma=auto ...............................\n",
      "[CV]  kernel=sigmoid, C=100, gamma=auto, score=0.5328821538914227, total=  17.1s\n",
      "[CV] kernel=sigmoid, C=100, gamma=auto ...............................\n",
      "[CV]  kernel=sigmoid, C=100, gamma=auto, score=0.5347947623951743, total=  16.1s\n",
      "[CV] kernel=sigmoid, C=100, gamma=auto ...............................\n",
      "[CV]  kernel=sigmoid, C=100, gamma=auto, score=0.5363449087698646, total=  16.3s\n",
      "[CV] kernel=rbf, C=100, gamma=0.001 ..................................\n",
      "[CV]  kernel=rbf, C=100, gamma=0.001, score=0.7475356775047816, total=  19.5s\n",
      "[CV] kernel=rbf, C=100, gamma=0.001 ..................................\n",
      "[CV]  kernel=rbf, C=100, gamma=0.001, score=0.7478299249668972, total=  19.1s\n",
      "[CV] kernel=rbf, C=100, gamma=0.001 ..................................\n",
      "[CV]  kernel=rbf, C=100, gamma=0.001, score=0.740620862145064, total=  19.3s\n",
      "[CV] kernel=rbf, C=100, gamma=0.001 ..................................\n",
      "[CV]  kernel=rbf, C=100, gamma=0.001, score=0.7382668824481389, total=  19.7s\n",
      "[CV] kernel=rbf, C=100, gamma=0.001 ..................................\n",
      "[CV]  kernel=rbf, C=100, gamma=0.001, score=0.742495585638611, total=  19.1s\n",
      "[CV] kernel=poly, C=100, gamma=0.001 .................................\n",
      "[CV]  kernel=poly, C=100, gamma=0.001, score=0.5756951596292482, total=  15.6s\n",
      "[CV] kernel=poly, C=100, gamma=0.001 .................................\n",
      "[CV]  kernel=poly, C=100, gamma=0.001, score=0.5756951596292482, total=  15.6s\n",
      "[CV] kernel=poly, C=100, gamma=0.001 .................................\n",
      "[CV]  kernel=poly, C=100, gamma=0.001, score=0.5756951596292482, total=  15.6s\n",
      "[CV] kernel=poly, C=100, gamma=0.001 .................................\n"
     ]
    },
    {
     "name": "stdout",
     "output_type": "stream",
     "text": [
      "[CV]  kernel=poly, C=100, gamma=0.001, score=0.5756951596292482, total=  15.7s\n",
      "[CV] kernel=poly, C=100, gamma=0.001 .................................\n",
      "[CV]  kernel=poly, C=100, gamma=0.001, score=0.5756327251324308, total=  16.0s\n",
      "[CV] kernel=sigmoid, C=100, gamma=0.001 ..............................\n",
      "[CV]  kernel=sigmoid, C=100, gamma=0.001, score=0.7000147123731058, total=  20.8s\n",
      "[CV] kernel=sigmoid, C=100, gamma=0.001 ..............................\n",
      "[CV]  kernel=sigmoid, C=100, gamma=0.001, score=0.7007503310283949, total=  20.8s\n",
      "[CV] kernel=sigmoid, C=100, gamma=0.001 ..............................\n",
      "[CV]  kernel=sigmoid, C=100, gamma=0.001, score=0.6922171546270414, total=  20.5s\n",
      "[CV] kernel=sigmoid, C=100, gamma=0.001 ..............................\n",
      "[CV]  kernel=sigmoid, C=100, gamma=0.001, score=0.7010445784905105, total=  21.3s\n",
      "[CV] kernel=sigmoid, C=100, gamma=0.001 ..............................\n",
      "[CV]  kernel=sigmoid, C=100, gamma=0.001, score=0.688934667451442, total=  20.7s\n",
      "[CV] kernel=rbf, C=100, gamma=0.01 ...................................\n",
      "[CV]  kernel=rbf, C=100, gamma=0.01, score=0.771663969398264, total=  17.5s\n",
      "[CV] kernel=rbf, C=100, gamma=0.01 ...................................\n",
      "[CV]  kernel=rbf, C=100, gamma=0.01, score=0.767544504928645, total=  17.0s\n",
      "[CV] kernel=rbf, C=100, gamma=0.01 ...................................\n",
      "[CV]  kernel=rbf, C=100, gamma=0.01, score=0.7693099897013388, total=  16.9s\n",
      "[CV] kernel=rbf, C=100, gamma=0.01 ...................................\n",
      "[CV]  kernel=rbf, C=100, gamma=0.01, score=0.768280123583934, total=  18.8s\n",
      "[CV] kernel=rbf, C=100, gamma=0.01 ...................................\n",
      "[CV]  kernel=rbf, C=100, gamma=0.01, score=0.7686874632136551, total=  18.5s\n",
      "[CV] kernel=poly, C=100, gamma=0.01 ..................................\n",
      "[CV]  kernel=poly, C=100, gamma=0.01, score=0.6766220391349125, total=  16.2s\n",
      "[CV] kernel=poly, C=100, gamma=0.01 ..................................\n",
      "[CV]  kernel=poly, C=100, gamma=0.01, score=0.675297925555392, total=  15.9s\n",
      "[CV] kernel=poly, C=100, gamma=0.01 ..................................\n",
      "[CV]  kernel=poly, C=100, gamma=0.01, score=0.665587759305576, total=  16.0s\n",
      "[CV] kernel=poly, C=100, gamma=0.01 ..................................\n",
      "[CV]  kernel=poly, C=100, gamma=0.01, score=0.6698543475062527, total=  15.9s\n",
      "[CV] kernel=poly, C=100, gamma=0.01 ..................................\n",
      "[CV]  kernel=poly, C=100, gamma=0.01, score=0.6706886403766922, total=  16.4s\n",
      "[CV] kernel=sigmoid, C=100, gamma=0.01 ...............................\n",
      "[CV]  kernel=sigmoid, C=100, gamma=0.01, score=0.567750478152126, total=  22.1s\n",
      "[CV] kernel=sigmoid, C=100, gamma=0.01 ...............................\n",
      "[CV]  kernel=sigmoid, C=100, gamma=0.01, score=0.5627482712961601, total=  22.8s\n",
      "[CV] kernel=sigmoid, C=100, gamma=0.01 ...............................\n",
      "[CV]  kernel=sigmoid, C=100, gamma=0.01, score=0.5013976754450493, total=  27.6s\n",
      "[CV] kernel=sigmoid, C=100, gamma=0.01 ...............................\n",
      "[CV]  kernel=sigmoid, C=100, gamma=0.01, score=0.5570104457849051, total=  23.6s\n",
      "[CV] kernel=sigmoid, C=100, gamma=0.01 ...............................\n",
      "[CV]  kernel=sigmoid, C=100, gamma=0.01, score=0.5601824602707475, total=  23.2s\n",
      "[CV] kernel=rbf, C=100, gamma=0.1 ....................................\n",
      "[CV]  kernel=rbf, C=100, gamma=0.1, score=0.7841694865381786, total=  16.9s\n",
      "[CV] kernel=rbf, C=100, gamma=0.1 ....................................\n",
      "[CV]  kernel=rbf, C=100, gamma=0.1, score=0.7710754744740327, total=  16.9s\n",
      "[CV] kernel=rbf, C=100, gamma=0.1 ....................................\n",
      "[CV]  kernel=rbf, C=100, gamma=0.1, score=0.7768132999852876, total=  17.1s\n",
      "[CV] kernel=rbf, C=100, gamma=0.1 ....................................\n",
      "[CV]  kernel=rbf, C=100, gamma=0.1, score=0.7731352067088422, total=  16.7s\n",
      "[CV] kernel=rbf, C=100, gamma=0.1 ....................................\n",
      "[CV]  kernel=rbf, C=100, gamma=0.1, score=0.7733961153619776, total=  16.8s\n",
      "[CV] kernel=poly, C=100, gamma=0.1 ...................................\n",
      "[CV]  kernel=poly, C=100, gamma=0.1, score=0.771663969398264, total= 1.6min\n",
      "[CV] kernel=poly, C=100, gamma=0.1 ...................................\n",
      "[CV]  kernel=poly, C=100, gamma=0.1, score=0.7678387523907606, total= 1.7min\n",
      "[CV] kernel=poly, C=100, gamma=0.1 ...................................\n",
      "[CV]  kernel=poly, C=100, gamma=0.1, score=0.7671031337354716, total= 1.5min\n",
      "[CV] kernel=poly, C=100, gamma=0.1 ...................................\n",
      "[CV]  kernel=poly, C=100, gamma=0.1, score=0.7696042371634545, total= 1.6min\n",
      "[CV] kernel=poly, C=100, gamma=0.1 ...................................\n",
      "[CV]  kernel=poly, C=100, gamma=0.1, score=0.7636845203060624, total= 1.6min\n",
      "[CV] kernel=sigmoid, C=100, gamma=0.1 ................................\n",
      "[CV]  kernel=sigmoid, C=100, gamma=0.1, score=0.5225834927173754, total=  16.5s\n",
      "[CV] kernel=sigmoid, C=100, gamma=0.1 ................................\n",
      "[CV]  kernel=sigmoid, C=100, gamma=0.1, score=0.5159629248197735, total=  16.3s\n",
      "[CV] kernel=sigmoid, C=100, gamma=0.1 ................................\n",
      "[CV]  kernel=sigmoid, C=100, gamma=0.1, score=0.5218478740620862, total=  16.6s\n",
      "[CV] kernel=sigmoid, C=100, gamma=0.1 ................................\n",
      "[CV]  kernel=sigmoid, C=100, gamma=0.1, score=0.5271443283801677, total=  16.4s\n",
      "[CV] kernel=sigmoid, C=100, gamma=0.1 ................................\n",
      "[CV]  kernel=sigmoid, C=100, gamma=0.1, score=0.5241318422601531, total=  16.7s\n",
      "[CV] kernel=rbf, C=100, gamma=1 ......................................\n",
      "[CV]  kernel=rbf, C=100, gamma=1, score=0.7924084154774165, total=  21.9s\n",
      "[CV] kernel=rbf, C=100, gamma=1 ......................................\n",
      "[CV]  kernel=rbf, C=100, gamma=1, score=0.7851993526555834, total=  21.4s\n",
      "[CV] kernel=rbf, C=100, gamma=1 ......................................\n",
      "[CV]  kernel=rbf, C=100, gamma=1, score=0.7891716933941445, total=  22.0s\n",
      "[CV] kernel=rbf, C=100, gamma=1 ......................................\n",
      "[CV]  kernel=rbf, C=100, gamma=1, score=0.7865234662351037, total=  21.4s\n",
      "[CV] kernel=rbf, C=100, gamma=1 ......................................\n",
      "[CV]  kernel=rbf, C=100, gamma=1, score=0.7864920541494997, total=  21.7s\n",
      "[CV] kernel=poly, C=100, gamma=1 .....................................\n",
      "[CV]  kernel=poly, C=100, gamma=1, score=0.7757834338678828, total=157.6min\n",
      "[CV] kernel=poly, C=100, gamma=1 .....................................\n",
      "[CV]  kernel=poly, C=100, gamma=1, score=0.7709283507429748, total=134.5min\n",
      "[CV] kernel=poly, C=100, gamma=1 .....................................\n",
      "[CV]  kernel=poly, C=100, gamma=1, score=0.7694571134323966, total=147.2min\n",
      "[CV] kernel=poly, C=100, gamma=1 .....................................\n",
      "[CV]  kernel=poly, C=100, gamma=1, score=0.7693099897013388, total=158.4min\n",
      "[CV] kernel=poly, C=100, gamma=1 .....................................\n",
      "[CV]  kernel=poly, C=100, gamma=1, score=0.7651559741024132, total=166.0min\n",
      "[CV] kernel=sigmoid, C=100, gamma=1 ..................................\n",
      "[CV]  kernel=sigmoid, C=100, gamma=1, score=0.5352361335883478, total=  15.3s\n",
      "[CV] kernel=sigmoid, C=100, gamma=1 ..................................\n",
      "[CV]  kernel=sigmoid, C=100, gamma=1, score=0.525231719876416, total=  15.2s\n",
      "[CV] kernel=sigmoid, C=100, gamma=1 ..................................\n",
      "[CV]  kernel=sigmoid, C=100, gamma=1, score=0.5330292776224805, total=  15.6s\n",
      "[CV] kernel=sigmoid, C=100, gamma=1 ..................................\n",
      "[CV]  kernel=sigmoid, C=100, gamma=1, score=0.5347947623951743, total=  15.6s\n",
      "[CV] kernel=sigmoid, C=100, gamma=1 ..................................\n",
      "[CV]  kernel=sigmoid, C=100, gamma=1, score=0.5363449087698646, total=  15.4s\n"
     ]
    },
    {
     "name": "stderr",
     "output_type": "stream",
     "text": [
      "[Parallel(n_jobs=1)]: Done 450 out of 450 | elapsed: 1331.9min finished\n"
     ]
    },
    {
     "name": "stdout",
     "output_type": "stream",
     "text": [
      "0.7923728813559322\n"
     ]
    }
   ],
   "source": [
    "param_grid = {\n",
    "    'kernel': ['rbf', 'poly', 'sigmoid'], \n",
    "    'C': [0.001, 0.01, 0.1, 1, 10, 100],\n",
    "    'gamma': ['auto', 0.001, 0.01, 0.1, 1]\n",
    "}\n",
    "\n",
    "grid = GridSearchCV(SVC(), param_grid, cv=5, verbose=10)\n",
    "grid.fit(train_X, train_y)\n",
    "print(grid.score(val_X, val_y))"
   ]
  },
  {
   "cell_type": "markdown",
   "metadata": {
    "hidden": true
   },
   "source": [
    "0.7923728813559322\n",
    "[CV]  kernel=rbf, C=100, gamma=1, score=0.7924084154774165, total=  21.9s"
   ]
  },
  {
   "cell_type": "markdown",
   "metadata": {
    "hidden": true
   },
   "source": [
    "### Model Deployment & Evaluation"
   ]
  },
  {
   "cell_type": "code",
   "execution_count": 21,
   "metadata": {
    "ExecuteTime": {
     "end_time": "2019-05-07T04:10:40.716530Z",
     "start_time": "2019-05-07T04:07:13.725117Z"
    },
    "hidden": true,
    "scrolled": false
   },
   "outputs": [
    {
     "name": "stderr",
     "output_type": "stream",
     "text": [
      "/Users/Feranor/anaconda3/envs/env_CD/lib/python3.5/site-packages/sklearn/svm/base.py:196: FutureWarning: The default value of gamma will change from 'auto' to 'scale' in version 0.22 to account better for unscaled features. Set gamma explicitly to 'auto' or 'scale' to avoid this warning.\n",
      "  \"avoid this warning.\", FutureWarning)\n"
     ]
    },
    {
     "name": "stdout",
     "output_type": "stream",
     "text": [
      "Training set score: 0.750\n",
      "Test set score: 0.756\n"
     ]
    },
    {
     "name": "stderr",
     "output_type": "stream",
     "text": [
      "/Users/Feranor/anaconda3/envs/env_CD/lib/python3.5/site-packages/sklearn/svm/base.py:196: FutureWarning: The default value of gamma will change from 'auto' to 'scale' in version 0.22 to account better for unscaled features. Set gamma explicitly to 'auto' or 'scale' to avoid this warning.\n",
      "  \"avoid this warning.\", FutureWarning)\n",
      "/Users/Feranor/anaconda3/envs/env_CD/lib/python3.5/site-packages/sklearn/svm/base.py:196: FutureWarning: The default value of gamma will change from 'auto' to 'scale' in version 0.22 to account better for unscaled features. Set gamma explicitly to 'auto' or 'scale' to avoid this warning.\n",
      "  \"avoid this warning.\", FutureWarning)\n",
      "/Users/Feranor/anaconda3/envs/env_CD/lib/python3.5/site-packages/sklearn/svm/base.py:196: FutureWarning: The default value of gamma will change from 'auto' to 'scale' in version 0.22 to account better for unscaled features. Set gamma explicitly to 'auto' or 'scale' to avoid this warning.\n",
      "  \"avoid this warning.\", FutureWarning)\n",
      "/Users/Feranor/anaconda3/envs/env_CD/lib/python3.5/site-packages/sklearn/svm/base.py:196: FutureWarning: The default value of gamma will change from 'auto' to 'scale' in version 0.22 to account better for unscaled features. Set gamma explicitly to 'auto' or 'scale' to avoid this warning.\n",
      "  \"avoid this warning.\", FutureWarning)\n",
      "/Users/Feranor/anaconda3/envs/env_CD/lib/python3.5/site-packages/sklearn/svm/base.py:196: FutureWarning: The default value of gamma will change from 'auto' to 'scale' in version 0.22 to account better for unscaled features. Set gamma explicitly to 'auto' or 'scale' to avoid this warning.\n",
      "  \"avoid this warning.\", FutureWarning)\n"
     ]
    },
    {
     "name": "stdout",
     "output_type": "stream",
     "text": [
      "Cross-validation scores: [0.7599029  0.74412446 0.72015008 0.64886339 0.79011256]\n"
     ]
    }
   ],
   "source": [
    "SupVec = SVC()\n",
    "SupVec.fit(train_X, train_y)\n",
    "\n",
    "print(\"Training set score: {:.3f}\".format(SupVec.score(train_X, train_y)))\n",
    "print(\"Test set score: {:.3f}\".format(SupVec.score(val_X, val_y)))\n",
    "\n",
    "scores = cross_val_score(SupVec, X, y, cv=5)\n",
    "print(\"Cross-validation scores: {}\".format(scores))"
   ]
  },
  {
   "cell_type": "markdown",
   "metadata": {},
   "source": [
    "## Logistic Regression"
   ]
  },
  {
   "cell_type": "markdown",
   "metadata": {},
   "source": [
    "### Grid Search"
   ]
  },
  {
   "cell_type": "code",
   "execution_count": 22,
   "metadata": {
    "ExecuteTime": {
     "end_time": "2019-05-07T04:10:55.642184Z",
     "start_time": "2019-05-07T04:10:40.719863Z"
    }
   },
   "outputs": [
    {
     "name": "stderr",
     "output_type": "stream",
     "text": [
      "/Users/Feranor/anaconda3/envs/env_CD/lib/python3.5/site-packages/sklearn/linear_model/logistic.py:432: FutureWarning: Default solver will be changed to 'lbfgs' in 0.22. Specify a solver to silence this warning.\n",
      "  FutureWarning)\n",
      "/Users/Feranor/anaconda3/envs/env_CD/lib/python3.5/site-packages/sklearn/linear_model/logistic.py:432: FutureWarning: Default solver will be changed to 'lbfgs' in 0.22. Specify a solver to silence this warning.\n",
      "  FutureWarning)\n",
      "/Users/Feranor/anaconda3/envs/env_CD/lib/python3.5/site-packages/sklearn/linear_model/logistic.py:432: FutureWarning: Default solver will be changed to 'lbfgs' in 0.22. Specify a solver to silence this warning.\n",
      "  FutureWarning)\n",
      "/Users/Feranor/anaconda3/envs/env_CD/lib/python3.5/site-packages/sklearn/linear_model/logistic.py:432: FutureWarning: Default solver will be changed to 'lbfgs' in 0.22. Specify a solver to silence this warning.\n",
      "  FutureWarning)\n",
      "/Users/Feranor/anaconda3/envs/env_CD/lib/python3.5/site-packages/sklearn/linear_model/logistic.py:432: FutureWarning: Default solver will be changed to 'lbfgs' in 0.22. Specify a solver to silence this warning.\n",
      "  FutureWarning)\n",
      "/Users/Feranor/anaconda3/envs/env_CD/lib/python3.5/site-packages/sklearn/linear_model/logistic.py:432: FutureWarning: Default solver will be changed to 'lbfgs' in 0.22. Specify a solver to silence this warning.\n",
      "  FutureWarning)\n",
      "/Users/Feranor/anaconda3/envs/env_CD/lib/python3.5/site-packages/sklearn/linear_model/logistic.py:432: FutureWarning: Default solver will be changed to 'lbfgs' in 0.22. Specify a solver to silence this warning.\n",
      "  FutureWarning)\n",
      "/Users/Feranor/anaconda3/envs/env_CD/lib/python3.5/site-packages/sklearn/linear_model/logistic.py:432: FutureWarning: Default solver will be changed to 'lbfgs' in 0.22. Specify a solver to silence this warning.\n",
      "  FutureWarning)\n",
      "/Users/Feranor/anaconda3/envs/env_CD/lib/python3.5/site-packages/sklearn/linear_model/logistic.py:432: FutureWarning: Default solver will be changed to 'lbfgs' in 0.22. Specify a solver to silence this warning.\n",
      "  FutureWarning)\n",
      "/Users/Feranor/anaconda3/envs/env_CD/lib/python3.5/site-packages/sklearn/linear_model/logistic.py:432: FutureWarning: Default solver will be changed to 'lbfgs' in 0.22. Specify a solver to silence this warning.\n",
      "  FutureWarning)\n",
      "/Users/Feranor/anaconda3/envs/env_CD/lib/python3.5/site-packages/sklearn/linear_model/logistic.py:432: FutureWarning: Default solver will be changed to 'lbfgs' in 0.22. Specify a solver to silence this warning.\n",
      "  FutureWarning)\n",
      "/Users/Feranor/anaconda3/envs/env_CD/lib/python3.5/site-packages/sklearn/linear_model/logistic.py:432: FutureWarning: Default solver will be changed to 'lbfgs' in 0.22. Specify a solver to silence this warning.\n",
      "  FutureWarning)\n",
      "/Users/Feranor/anaconda3/envs/env_CD/lib/python3.5/site-packages/sklearn/linear_model/logistic.py:432: FutureWarning: Default solver will be changed to 'lbfgs' in 0.22. Specify a solver to silence this warning.\n",
      "  FutureWarning)\n",
      "/Users/Feranor/anaconda3/envs/env_CD/lib/python3.5/site-packages/sklearn/linear_model/logistic.py:432: FutureWarning: Default solver will be changed to 'lbfgs' in 0.22. Specify a solver to silence this warning.\n",
      "  FutureWarning)\n",
      "/Users/Feranor/anaconda3/envs/env_CD/lib/python3.5/site-packages/sklearn/linear_model/logistic.py:432: FutureWarning: Default solver will be changed to 'lbfgs' in 0.22. Specify a solver to silence this warning.\n",
      "  FutureWarning)\n",
      "/Users/Feranor/anaconda3/envs/env_CD/lib/python3.5/site-packages/sklearn/linear_model/logistic.py:432: FutureWarning: Default solver will be changed to 'lbfgs' in 0.22. Specify a solver to silence this warning.\n",
      "  FutureWarning)\n",
      "/Users/Feranor/anaconda3/envs/env_CD/lib/python3.5/site-packages/sklearn/linear_model/logistic.py:432: FutureWarning: Default solver will be changed to 'lbfgs' in 0.22. Specify a solver to silence this warning.\n",
      "  FutureWarning)\n",
      "/Users/Feranor/anaconda3/envs/env_CD/lib/python3.5/site-packages/sklearn/linear_model/logistic.py:432: FutureWarning: Default solver will be changed to 'lbfgs' in 0.22. Specify a solver to silence this warning.\n",
      "  FutureWarning)\n",
      "/Users/Feranor/anaconda3/envs/env_CD/lib/python3.5/site-packages/sklearn/linear_model/logistic.py:432: FutureWarning: Default solver will be changed to 'lbfgs' in 0.22. Specify a solver to silence this warning.\n",
      "  FutureWarning)\n",
      "/Users/Feranor/anaconda3/envs/env_CD/lib/python3.5/site-packages/sklearn/linear_model/logistic.py:432: FutureWarning: Default solver will be changed to 'lbfgs' in 0.22. Specify a solver to silence this warning.\n",
      "  FutureWarning)\n",
      "/Users/Feranor/anaconda3/envs/env_CD/lib/python3.5/site-packages/sklearn/linear_model/logistic.py:432: FutureWarning: Default solver will be changed to 'lbfgs' in 0.22. Specify a solver to silence this warning.\n",
      "  FutureWarning)\n",
      "/Users/Feranor/anaconda3/envs/env_CD/lib/python3.5/site-packages/sklearn/linear_model/logistic.py:432: FutureWarning: Default solver will be changed to 'lbfgs' in 0.22. Specify a solver to silence this warning.\n",
      "  FutureWarning)\n",
      "/Users/Feranor/anaconda3/envs/env_CD/lib/python3.5/site-packages/sklearn/linear_model/logistic.py:432: FutureWarning: Default solver will be changed to 'lbfgs' in 0.22. Specify a solver to silence this warning.\n",
      "  FutureWarning)\n",
      "/Users/Feranor/anaconda3/envs/env_CD/lib/python3.5/site-packages/sklearn/linear_model/logistic.py:432: FutureWarning: Default solver will be changed to 'lbfgs' in 0.22. Specify a solver to silence this warning.\n",
      "  FutureWarning)\n",
      "/Users/Feranor/anaconda3/envs/env_CD/lib/python3.5/site-packages/sklearn/linear_model/logistic.py:432: FutureWarning: Default solver will be changed to 'lbfgs' in 0.22. Specify a solver to silence this warning.\n",
      "  FutureWarning)\n",
      "/Users/Feranor/anaconda3/envs/env_CD/lib/python3.5/site-packages/sklearn/linear_model/logistic.py:432: FutureWarning: Default solver will be changed to 'lbfgs' in 0.22. Specify a solver to silence this warning.\n",
      "  FutureWarning)\n",
      "/Users/Feranor/anaconda3/envs/env_CD/lib/python3.5/site-packages/sklearn/linear_model/logistic.py:432: FutureWarning: Default solver will be changed to 'lbfgs' in 0.22. Specify a solver to silence this warning.\n",
      "  FutureWarning)\n",
      "/Users/Feranor/anaconda3/envs/env_CD/lib/python3.5/site-packages/sklearn/linear_model/logistic.py:432: FutureWarning: Default solver will be changed to 'lbfgs' in 0.22. Specify a solver to silence this warning.\n",
      "  FutureWarning)\n",
      "/Users/Feranor/anaconda3/envs/env_CD/lib/python3.5/site-packages/sklearn/linear_model/logistic.py:432: FutureWarning: Default solver will be changed to 'lbfgs' in 0.22. Specify a solver to silence this warning.\n",
      "  FutureWarning)\n",
      "/Users/Feranor/anaconda3/envs/env_CD/lib/python3.5/site-packages/sklearn/linear_model/logistic.py:432: FutureWarning: Default solver will be changed to 'lbfgs' in 0.22. Specify a solver to silence this warning.\n",
      "  FutureWarning)\n",
      "/Users/Feranor/anaconda3/envs/env_CD/lib/python3.5/site-packages/sklearn/linear_model/logistic.py:432: FutureWarning: Default solver will be changed to 'lbfgs' in 0.22. Specify a solver to silence this warning.\n",
      "  FutureWarning)\n",
      "/Users/Feranor/anaconda3/envs/env_CD/lib/python3.5/site-packages/sklearn/linear_model/logistic.py:432: FutureWarning: Default solver will be changed to 'lbfgs' in 0.22. Specify a solver to silence this warning.\n",
      "  FutureWarning)\n",
      "/Users/Feranor/anaconda3/envs/env_CD/lib/python3.5/site-packages/sklearn/linear_model/logistic.py:432: FutureWarning: Default solver will be changed to 'lbfgs' in 0.22. Specify a solver to silence this warning.\n",
      "  FutureWarning)\n",
      "/Users/Feranor/anaconda3/envs/env_CD/lib/python3.5/site-packages/sklearn/linear_model/logistic.py:432: FutureWarning: Default solver will be changed to 'lbfgs' in 0.22. Specify a solver to silence this warning.\n",
      "  FutureWarning)\n",
      "/Users/Feranor/anaconda3/envs/env_CD/lib/python3.5/site-packages/sklearn/linear_model/logistic.py:432: FutureWarning: Default solver will be changed to 'lbfgs' in 0.22. Specify a solver to silence this warning.\n",
      "  FutureWarning)\n",
      "/Users/Feranor/anaconda3/envs/env_CD/lib/python3.5/site-packages/sklearn/linear_model/logistic.py:432: FutureWarning: Default solver will be changed to 'lbfgs' in 0.22. Specify a solver to silence this warning.\n",
      "  FutureWarning)\n",
      "/Users/Feranor/anaconda3/envs/env_CD/lib/python3.5/site-packages/sklearn/linear_model/logistic.py:432: FutureWarning: Default solver will be changed to 'lbfgs' in 0.22. Specify a solver to silence this warning.\n",
      "  FutureWarning)\n"
     ]
    },
    {
     "name": "stderr",
     "output_type": "stream",
     "text": [
      "/Users/Feranor/anaconda3/envs/env_CD/lib/python3.5/site-packages/sklearn/linear_model/logistic.py:432: FutureWarning: Default solver will be changed to 'lbfgs' in 0.22. Specify a solver to silence this warning.\n",
      "  FutureWarning)\n",
      "/Users/Feranor/anaconda3/envs/env_CD/lib/python3.5/site-packages/sklearn/linear_model/logistic.py:432: FutureWarning: Default solver will be changed to 'lbfgs' in 0.22. Specify a solver to silence this warning.\n",
      "  FutureWarning)\n",
      "/Users/Feranor/anaconda3/envs/env_CD/lib/python3.5/site-packages/sklearn/linear_model/logistic.py:432: FutureWarning: Default solver will be changed to 'lbfgs' in 0.22. Specify a solver to silence this warning.\n",
      "  FutureWarning)\n",
      "/Users/Feranor/anaconda3/envs/env_CD/lib/python3.5/site-packages/sklearn/linear_model/logistic.py:432: FutureWarning: Default solver will be changed to 'lbfgs' in 0.22. Specify a solver to silence this warning.\n",
      "  FutureWarning)\n",
      "/Users/Feranor/anaconda3/envs/env_CD/lib/python3.5/site-packages/sklearn/linear_model/logistic.py:432: FutureWarning: Default solver will be changed to 'lbfgs' in 0.22. Specify a solver to silence this warning.\n",
      "  FutureWarning)\n",
      "/Users/Feranor/anaconda3/envs/env_CD/lib/python3.5/site-packages/sklearn/linear_model/logistic.py:432: FutureWarning: Default solver will be changed to 'lbfgs' in 0.22. Specify a solver to silence this warning.\n",
      "  FutureWarning)\n",
      "/Users/Feranor/anaconda3/envs/env_CD/lib/python3.5/site-packages/sklearn/linear_model/logistic.py:432: FutureWarning: Default solver will be changed to 'lbfgs' in 0.22. Specify a solver to silence this warning.\n",
      "  FutureWarning)\n",
      "/Users/Feranor/anaconda3/envs/env_CD/lib/python3.5/site-packages/sklearn/linear_model/logistic.py:432: FutureWarning: Default solver will be changed to 'lbfgs' in 0.22. Specify a solver to silence this warning.\n",
      "  FutureWarning)\n",
      "/Users/Feranor/anaconda3/envs/env_CD/lib/python3.5/site-packages/sklearn/linear_model/logistic.py:432: FutureWarning: Default solver will be changed to 'lbfgs' in 0.22. Specify a solver to silence this warning.\n",
      "  FutureWarning)\n",
      "/Users/Feranor/anaconda3/envs/env_CD/lib/python3.5/site-packages/sklearn/linear_model/logistic.py:432: FutureWarning: Default solver will be changed to 'lbfgs' in 0.22. Specify a solver to silence this warning.\n",
      "  FutureWarning)\n",
      "/Users/Feranor/anaconda3/envs/env_CD/lib/python3.5/site-packages/sklearn/linear_model/logistic.py:432: FutureWarning: Default solver will be changed to 'lbfgs' in 0.22. Specify a solver to silence this warning.\n",
      "  FutureWarning)\n",
      "/Users/Feranor/anaconda3/envs/env_CD/lib/python3.5/site-packages/sklearn/linear_model/logistic.py:432: FutureWarning: Default solver will be changed to 'lbfgs' in 0.22. Specify a solver to silence this warning.\n",
      "  FutureWarning)\n",
      "/Users/Feranor/anaconda3/envs/env_CD/lib/python3.5/site-packages/sklearn/linear_model/logistic.py:432: FutureWarning: Default solver will be changed to 'lbfgs' in 0.22. Specify a solver to silence this warning.\n",
      "  FutureWarning)\n",
      "/Users/Feranor/anaconda3/envs/env_CD/lib/python3.5/site-packages/sklearn/linear_model/logistic.py:432: FutureWarning: Default solver will be changed to 'lbfgs' in 0.22. Specify a solver to silence this warning.\n",
      "  FutureWarning)\n",
      "/Users/Feranor/anaconda3/envs/env_CD/lib/python3.5/site-packages/sklearn/linear_model/logistic.py:432: FutureWarning: Default solver will be changed to 'lbfgs' in 0.22. Specify a solver to silence this warning.\n",
      "  FutureWarning)\n",
      "/Users/Feranor/anaconda3/envs/env_CD/lib/python3.5/site-packages/sklearn/linear_model/logistic.py:432: FutureWarning: Default solver will be changed to 'lbfgs' in 0.22. Specify a solver to silence this warning.\n",
      "  FutureWarning)\n",
      "/Users/Feranor/anaconda3/envs/env_CD/lib/python3.5/site-packages/sklearn/linear_model/logistic.py:432: FutureWarning: Default solver will be changed to 'lbfgs' in 0.22. Specify a solver to silence this warning.\n",
      "  FutureWarning)\n",
      "/Users/Feranor/anaconda3/envs/env_CD/lib/python3.5/site-packages/sklearn/linear_model/logistic.py:432: FutureWarning: Default solver will be changed to 'lbfgs' in 0.22. Specify a solver to silence this warning.\n",
      "  FutureWarning)\n",
      "/Users/Feranor/anaconda3/envs/env_CD/lib/python3.5/site-packages/sklearn/linear_model/logistic.py:432: FutureWarning: Default solver will be changed to 'lbfgs' in 0.22. Specify a solver to silence this warning.\n",
      "  FutureWarning)\n",
      "/Users/Feranor/anaconda3/envs/env_CD/lib/python3.5/site-packages/sklearn/linear_model/logistic.py:432: FutureWarning: Default solver will be changed to 'lbfgs' in 0.22. Specify a solver to silence this warning.\n",
      "  FutureWarning)\n",
      "/Users/Feranor/anaconda3/envs/env_CD/lib/python3.5/site-packages/sklearn/linear_model/logistic.py:432: FutureWarning: Default solver will be changed to 'lbfgs' in 0.22. Specify a solver to silence this warning.\n",
      "  FutureWarning)\n",
      "/Users/Feranor/anaconda3/envs/env_CD/lib/python3.5/site-packages/sklearn/linear_model/logistic.py:432: FutureWarning: Default solver will be changed to 'lbfgs' in 0.22. Specify a solver to silence this warning.\n",
      "  FutureWarning)\n",
      "/Users/Feranor/anaconda3/envs/env_CD/lib/python3.5/site-packages/sklearn/linear_model/logistic.py:432: FutureWarning: Default solver will be changed to 'lbfgs' in 0.22. Specify a solver to silence this warning.\n",
      "  FutureWarning)\n",
      "/Users/Feranor/anaconda3/envs/env_CD/lib/python3.5/site-packages/sklearn/linear_model/logistic.py:432: FutureWarning: Default solver will be changed to 'lbfgs' in 0.22. Specify a solver to silence this warning.\n",
      "  FutureWarning)\n"
     ]
    },
    {
     "data": {
      "text/plain": [
       "0.7569738700564972"
      ]
     },
     "execution_count": 22,
     "metadata": {},
     "output_type": "execute_result"
    }
   ],
   "source": [
    "param_grid = {\n",
    "    'C': [0.001, 0.01, 0.1, 1, 10, 100],\n",
    "    'penalty':['l1', 'l2']\n",
    "    }\n",
    "\n",
    "grid = GridSearchCV(LogisticRegression(), param_grid, cv=5)\n",
    "grid.fit(train_X, train_y)\n",
    "grid.score(val_X, val_y)"
   ]
  },
  {
   "cell_type": "markdown",
   "metadata": {},
   "source": [
    "### Model Deployment & Evaluation"
   ]
  },
  {
   "cell_type": "code",
   "execution_count": 23,
   "metadata": {
    "ExecuteTime": {
     "end_time": "2019-05-07T04:10:56.579477Z",
     "start_time": "2019-05-07T04:10:55.645791Z"
    },
    "collapsed": true
   },
   "outputs": [
    {
     "name": "stderr",
     "output_type": "stream",
     "text": [
      "/Users/Feranor/anaconda3/envs/env_CD/lib/python3.5/site-packages/sklearn/linear_model/logistic.py:432: FutureWarning: Default solver will be changed to 'lbfgs' in 0.22. Specify a solver to silence this warning.\n",
      "  FutureWarning)\n",
      "/Users/Feranor/anaconda3/envs/env_CD/lib/python3.5/site-packages/sklearn/linear_model/logistic.py:432: FutureWarning: Default solver will be changed to 'lbfgs' in 0.22. Specify a solver to silence this warning.\n",
      "  FutureWarning)\n"
     ]
    },
    {
     "name": "stdout",
     "output_type": "stream",
     "text": [
      "Training set score: 0.752\n",
      "Test set score: 0.752\n"
     ]
    },
    {
     "name": "stderr",
     "output_type": "stream",
     "text": [
      "/Users/Feranor/anaconda3/envs/env_CD/lib/python3.5/site-packages/sklearn/linear_model/logistic.py:432: FutureWarning: Default solver will be changed to 'lbfgs' in 0.22. Specify a solver to silence this warning.\n",
      "  FutureWarning)\n",
      "/Users/Feranor/anaconda3/envs/env_CD/lib/python3.5/site-packages/sklearn/linear_model/logistic.py:432: FutureWarning: Default solver will be changed to 'lbfgs' in 0.22. Specify a solver to silence this warning.\n",
      "  FutureWarning)\n",
      "/Users/Feranor/anaconda3/envs/env_CD/lib/python3.5/site-packages/sklearn/linear_model/logistic.py:432: FutureWarning: Default solver will be changed to 'lbfgs' in 0.22. Specify a solver to silence this warning.\n",
      "  FutureWarning)\n",
      "/Users/Feranor/anaconda3/envs/env_CD/lib/python3.5/site-packages/sklearn/linear_model/logistic.py:432: FutureWarning: Default solver will be changed to 'lbfgs' in 0.22. Specify a solver to silence this warning.\n",
      "  FutureWarning)\n"
     ]
    },
    {
     "name": "stdout",
     "output_type": "stream",
     "text": [
      "Cross-validation scores: [0.73960057 0.77347457 0.72202604 0.63186934 0.79000221]\n"
     ]
    }
   ],
   "source": [
    "logreg = LogisticRegression()\n",
    "logreg.fit(train_X, train_y)\n",
    "\n",
    "print(\"Training set score: {:.3f}\".format(logreg.score(train_X, train_y)))\n",
    "print(\"Test set score: {:.3f}\".format(logreg.score(val_X, val_y)))\n",
    "\n",
    "scores = cross_val_score(logreg, X, y, cv=5)\n",
    "print(\"Cross-validation scores: {}\".format(scores))"
   ]
  }
 ],
 "metadata": {
  "jupytext": {
   "formats": "ipynb,md"
  },
  "kernelspec": {
   "display_name": "Concept Drift",
   "language": "python",
   "name": "env_cd"
  },
  "language_info": {
   "codemirror_mode": {
    "name": "ipython",
    "version": 3
   },
   "file_extension": ".py",
   "mimetype": "text/x-python",
   "name": "python",
   "nbconvert_exporter": "python",
   "pygments_lexer": "ipython3",
   "version": "3.7.3"
  },
  "varInspector": {
   "cols": {
    "lenName": 16,
    "lenType": 16,
    "lenVar": 40
   },
   "kernels_config": {
    "python": {
     "delete_cmd_postfix": "",
     "delete_cmd_prefix": "del ",
     "library": "var_list.py",
     "varRefreshCmd": "print(var_dic_list())"
    },
    "r": {
     "delete_cmd_postfix": ") ",
     "delete_cmd_prefix": "rm(",
     "library": "var_list.r",
     "varRefreshCmd": "cat(var_dic_list()) "
    }
   },
   "types_to_exclude": [
    "module",
    "function",
    "builtin_function_or_method",
    "instance",
    "_Feature"
   ],
   "window_display": false
  }
 },
 "nbformat": 4,
 "nbformat_minor": 2
}
