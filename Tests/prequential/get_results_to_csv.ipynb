{
 "cells": [
  {
   "cell_type": "code",
   "execution_count": 1,
   "metadata": {
    "ExecuteTime": {
     "end_time": "2019-06-17T19:20:06.401553Z",
     "start_time": "2019-06-17T19:20:05.138958Z"
    },
    "collapsed": true
   },
   "outputs": [],
   "source": [
    "import re\n",
    "import pandas as pd\n",
    "from sklearn.metrics import confusion_matrix, precision_score, recall_score, f1_score, cohen_kappa_score"
   ]
  },
  {
   "cell_type": "code",
   "execution_count": null,
   "metadata": {
    "ExecuteTime": {
     "end_time": "2019-06-17T19:25:06.414048Z",
     "start_time": "2019-06-17T19:25:06.285233Z"
    }
   },
   "outputs": [],
   "source": [
    "hede = {\"Average Accuracy\": df.acc.mean(),\n",
    "        \"Precision Score\": precision_score(df.ytrue, df.ypred),\n",
    "        \"Recall Score\": recall_score(df.ytrue, df.ypred),\n",
    "        \"F1-Score\": f1_score(df.ytrue, df.ypred),\n",
    "        \"Kappa\": cohen_kappa_score(df.ytrue, df.ypred)}"
   ]
  },
  {
   "cell_type": "code",
   "execution_count": 99,
   "metadata": {
    "ExecuteTime": {
     "end_time": "2019-06-16T14:28:58.789803Z",
     "start_time": "2019-06-16T14:28:58.785591Z"
    },
    "collapsed": true
   },
   "outputs": [],
   "source": [
    "paths = [\n",
    " 'Elec.Decision Tree.csv',\n",
    " 'Elec.K-Nearest Neighbours.csv',\n",
    " 'Elec.Logistic Regression.csv',\n",
    " 'Elec.Naive Bayes.csv',\n",
    " 'Hyperplane.Decision Tree.csv',\n",
    " 'Hyperplane.K-Nearest Neighbours.csv',\n",
    " 'Hyperplane.Logistic Regression.csv',\n",
    " 'Hyperplane.Naive Bayes.csv',\n",
    " 'RBF.Decision Tree.csv',\n",
    " 'RBF.K-Nearest Neighbours.csv',\n",
    " 'RBF.Logistic Regression.csv',\n",
    " 'RBF.Naive Bayes.csv',\n",
    " 'SEA.Decision Tree.csv',\n",
    " 'SEA.K-Nearest Neighbours.csv',\n",
    " 'SEA.Logistic Regression.csv',\n",
    " 'SEA.Naive Bayes.csv',\n",
    " 'SINE.Decision Tree.csv',\n",
    " 'SINE.K-Nearest Neighbours.csv',\n",
    " 'SINE.Logistic Regression.csv',\n",
    " 'SINE.Naive Bayes.csv']"
   ]
  },
  {
   "cell_type": "code",
   "execution_count": 112,
   "metadata": {
    "ExecuteTime": {
     "end_time": "2019-06-16T14:32:52.615187Z",
     "start_time": "2019-06-16T14:32:50.519720Z"
    },
    "collapsed": true
   },
   "outputs": [],
   "source": [
    "results = pd.DataFrame(columns=hede.keys())\n",
    "for path in paths:\n",
    "    df = pd.read_csv('datasets/'+path)\n",
    "    \n",
    "    new_line = {\"Average Accuracy\": df.acc.mean(),\n",
    "                \"Precision Score\": precision_score(df.ytrue, df.ypred),\n",
    "                \"Recall Score\": recall_score(df.ytrue, df.ypred),\n",
    "                \"F1-Score\": f1_score(df.ytrue, df.ypred),\n",
    "                \"Kappa\": cohen_kappa_score(df.ytrue, df.ypred)\n",
    "               }\n",
    "    new_frame = pd.DataFrame(new_line, index=[re.findall(r'^(.*)\\.', path)[0]])\n",
    "    results = pd.concat([results, new_frame])\n",
    "    \n",
    "results.to_csv('reslts.csv')"
   ]
  },
  {
   "cell_type": "markdown",
   "metadata": {},
   "source": [
    "## Multilabel"
   ]
  },
  {
   "cell_type": "code",
   "execution_count": 10,
   "metadata": {
    "ExecuteTime": {
     "end_time": "2019-06-17T19:24:09.849723Z",
     "start_time": "2019-06-17T19:24:09.845665Z"
    }
   },
   "outputs": [],
   "source": [
    "path_multi = ['Covertype.Decision Tree.csv',\n",
    "              'Covertype.K-Nearest Neighbours.csv',\n",
    "              'Covertype.Logistic Regression.csv',\n",
    "              'Covertype.Naive Bayes.csv',\n",
    "              'GasSensor.Decision Tree.csv',\n",
    "              'GasSensor.K-Nearest Neighbours.csv',\n",
    "              'GasSensor.Logistic Regression.csv',\n",
    "              'GasSensor.Naive Bayes.csv',\n",
    "              'Poker.Decision Tree.csv',\n",
    "              'Poker.K-Nearest Neighbours.csv',\n",
    "              'Poker.Logistic Regression.csv',\n",
    "              'Poker.Naive Bayes.csv'\n",
    "             ]"
   ]
  },
  {
   "cell_type": "code",
   "execution_count": 27,
   "metadata": {
    "ExecuteTime": {
     "end_time": "2019-06-17T19:31:53.179349Z",
     "start_time": "2019-06-17T19:31:52.385891Z"
    }
   },
   "outputs": [],
   "source": [
    "hede = {\"Average Accuracy\": df.acc.mean(),\n",
    "        \"Precision Score\": precision_score(df.ytrue, df.ypred, average='weighted'),\n",
    "        \"Recall Score\": recall_score(df.ytrue, df.ypred,average='weighted'),\n",
    "        \"F1-Score\": f1_score(df.ytrue, df.ypred,average='weighted'),\n",
    "        \"Kappa\": cohen_kappa_score(df.ytrue, df.ypred)}"
   ]
  },
  {
   "cell_type": "code",
   "execution_count": 35,
   "metadata": {
    "ExecuteTime": {
     "end_time": "2019-06-17T19:36:59.979417Z",
     "start_time": "2019-06-17T19:36:49.779851Z"
    }
   },
   "outputs": [],
   "source": [
    "results = pd.DataFrame(columns=hede.keys())\n",
    "for path in path_multi:\n",
    "    df = pd.read_csv('datasets/'+path)\n",
    "    \n",
    "    new_line = {\"Average Accuracy\": df.acc.mean(),\n",
    "                \"Precision Score\": precision_score(df.ytrue, df.ypred, average='weighted'),\n",
    "                \"Recall Score\": recall_score(df.ytrue, df.ypred,average='weighted'),\n",
    "                \"F1-Score\": f1_score(df.ytrue, df.ypred,average='weighted'),\n",
    "                \"Kappa\": cohen_kappa_score(df.ytrue, df.ypred)\n",
    "               }\n",
    "    new_frame = pd.DataFrame(new_line, index=[re.findall(r'^(.*)\\.', path)[0]])\n",
    "    results = pd.concat([results, new_frame])\n",
    "    \n",
    "results.to_csv('reslts_multi.csv')"
   ]
  }
 ],
 "metadata": {
  "kernelspec": {
   "display_name": "Concept Drift",
   "language": "python",
   "name": "env_cd"
  },
  "language_info": {
   "codemirror_mode": {
    "name": "ipython",
    "version": 3
   },
   "file_extension": ".py",
   "mimetype": "text/x-python",
   "name": "python",
   "nbconvert_exporter": "python",
   "pygments_lexer": "ipython3",
   "version": "3.7.3"
  },
  "varInspector": {
   "cols": {
    "lenName": 16,
    "lenType": 16,
    "lenVar": 40
   },
   "kernels_config": {
    "python": {
     "delete_cmd_postfix": "",
     "delete_cmd_prefix": "del ",
     "library": "var_list.py",
     "varRefreshCmd": "print(var_dic_list())"
    },
    "r": {
     "delete_cmd_postfix": ") ",
     "delete_cmd_prefix": "rm(",
     "library": "var_list.r",
     "varRefreshCmd": "cat(var_dic_list()) "
    }
   },
   "types_to_exclude": [
    "module",
    "function",
    "builtin_function_or_method",
    "instance",
    "_Feature"
   ],
   "window_display": false
  }
 },
 "nbformat": 4,
 "nbformat_minor": 2
}
