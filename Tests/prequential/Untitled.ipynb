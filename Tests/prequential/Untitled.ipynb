{
 "cells": [
  {
   "cell_type": "code",
   "execution_count": 20,
   "metadata": {
    "ExecuteTime": {
     "end_time": "2019-06-16T13:31:15.277169Z",
     "start_time": "2019-06-16T13:31:15.272580Z"
    },
    "collapsed": true
   },
   "outputs": [],
   "source": [
    "import re\n",
    "import pandas as pd\n",
    "from sklearn.metrics import confusion_matrix, precision_score, recall_score, f1_score, cohen_kappa_score"
   ]
  },
  {
   "cell_type": "code",
   "execution_count": 71,
   "metadata": {
    "ExecuteTime": {
     "end_time": "2019-06-16T14:11:02.127358Z",
     "start_time": "2019-06-16T14:11:02.123501Z"
    }
   },
   "outputs": [],
   "source": [
    "data_names = ['Covertype', 'Elec', 'GasSensor', 'Hyperplane', 'Poker', 'RBF', 'SEA', 'SINE']\n",
    "\n",
    "model_names = ['Naive Bayes', 'Logistic Regression', 'K-Nearest Neighbours', 'Decision Tree']"
   ]
  },
  {
   "cell_type": "code",
   "execution_count": 75,
   "metadata": {
    "ExecuteTime": {
     "end_time": "2019-06-16T14:14:10.221059Z",
     "start_time": "2019-06-16T14:14:10.167054Z"
    }
   },
   "outputs": [
    {
     "data": {
      "text/plain": [
       "Index(['acc', 'ypred', 'ytrue'], dtype='object')"
      ]
     },
     "execution_count": 75,
     "metadata": {},
     "output_type": "execute_result"
    }
   ],
   "source": [
    "path = 'datasets/SINE.Decision Tree.csv'\n",
    "df = pd.read_csv('datasets/SINE.Decision Tree.csv', index_col=0)\n",
    "df.columns"
   ]
  },
  {
   "cell_type": "code",
   "execution_count": 76,
   "metadata": {
    "ExecuteTime": {
     "end_time": "2019-06-16T14:14:11.552084Z",
     "start_time": "2019-06-16T14:14:11.457083Z"
    }
   },
   "outputs": [],
   "source": [
    "hede = {\"Average Accuracy\": df.acc.mean(),\n",
    "        \"Precision Score\": precision_score(df.ytrue, df.ypred),\n",
    "        \"Recall Score\": recall_score(df.ytrue, df.ypred),\n",
    "        \"F1-Score\": f1_score(df.ytrue, df.ypred),\n",
    "        \"Kappa\": cohen_kappa_score(df.ytrue, df.ypred)}"
   ]
  },
  {
   "cell_type": "code",
   "execution_count": 86,
   "metadata": {
    "ExecuteTime": {
     "end_time": "2019-06-16T14:17:00.227673Z",
     "start_time": "2019-06-16T14:17:00.207288Z"
    }
   },
   "outputs": [
    {
     "data": {
      "text/html": [
       "<div>\n",
       "<style scoped>\n",
       "    .dataframe tbody tr th:only-of-type {\n",
       "        vertical-align: middle;\n",
       "    }\n",
       "\n",
       "    .dataframe tbody tr th {\n",
       "        vertical-align: top;\n",
       "    }\n",
       "\n",
       "    .dataframe thead th {\n",
       "        text-align: right;\n",
       "    }\n",
       "</style>\n",
       "<table border=\"1\" class=\"dataframe\">\n",
       "  <thead>\n",
       "    <tr style=\"text-align: right;\">\n",
       "      <th></th>\n",
       "      <th>Average Accuracy</th>\n",
       "      <th>Precision Score</th>\n",
       "      <th>Recall Score</th>\n",
       "      <th>F1-Score</th>\n",
       "      <th>Kappa</th>\n",
       "    </tr>\n",
       "  </thead>\n",
       "  <tbody>\n",
       "    <tr>\n",
       "      <th>1</th>\n",
       "      <td>0.975832</td>\n",
       "      <td>0.975052</td>\n",
       "      <td>0.963876</td>\n",
       "      <td>0.969432</td>\n",
       "      <td>0.94144</td>\n",
       "    </tr>\n",
       "  </tbody>\n",
       "</table>\n",
       "</div>"
      ],
      "text/plain": [
       "   Average Accuracy  Precision Score  Recall Score  F1-Score    Kappa\n",
       "1          0.975832         0.975052      0.963876  0.969432  0.94144"
      ]
     },
     "execution_count": 86,
     "metadata": {},
     "output_type": "execute_result"
    }
   ],
   "source": [
    "pd.concat([results, pd.DataFrame(hede, index=[1])])"
   ]
  },
  {
   "cell_type": "code",
   "execution_count": null,
   "metadata": {
    "collapsed": true
   },
   "outputs": [],
   "source": []
  },
  {
   "cell_type": "code",
   "execution_count": 65,
   "metadata": {
    "ExecuteTime": {
     "end_time": "2019-06-16T14:06:37.302409Z",
     "start_time": "2019-06-16T14:06:37.294926Z"
    }
   },
   "outputs": [
    {
     "name": "stdout",
     "output_type": "stream",
     "text": [
      "Naive Bayes\n",
      "SINE\n"
     ]
    }
   ],
   "source": [
    "print(re.findall(r'\\.(.*)\\.',path)[0])\n",
    "print(re.findall(r'^(.*?)\\.',path)[0])"
   ]
  },
  {
   "cell_type": "code",
   "execution_count": 40,
   "metadata": {
    "ExecuteTime": {
     "end_time": "2019-06-16T13:41:56.323323Z",
     "start_time": "2019-06-16T13:41:56.305495Z"
    },
    "scrolled": true
   },
   "outputs": [
    {
     "data": {
      "text/html": [
       "<div>\n",
       "<style scoped>\n",
       "    .dataframe tbody tr th:only-of-type {\n",
       "        vertical-align: middle;\n",
       "    }\n",
       "\n",
       "    .dataframe tbody tr th {\n",
       "        vertical-align: top;\n",
       "    }\n",
       "\n",
       "    .dataframe thead th {\n",
       "        text-align: right;\n",
       "    }\n",
       "</style>\n",
       "<table border=\"1\" class=\"dataframe\">\n",
       "  <thead>\n",
       "    <tr style=\"text-align: right;\">\n",
       "      <th></th>\n",
       "      <th></th>\n",
       "      <th>Average Accuracy</th>\n",
       "      <th>Precision Score</th>\n",
       "      <th>Recall Score</th>\n",
       "      <th>F1-Score</th>\n",
       "      <th>Kappa</th>\n",
       "    </tr>\n",
       "  </thead>\n",
       "  <tbody>\n",
       "    <tr>\n",
       "      <th>SINE</th>\n",
       "      <th>Decision Tree</th>\n",
       "      <td>0.975832</td>\n",
       "      <td>0.975052</td>\n",
       "      <td>0.963876</td>\n",
       "      <td>0.969432</td>\n",
       "      <td>0.94144</td>\n",
       "    </tr>\n",
       "  </tbody>\n",
       "</table>\n",
       "</div>"
      ],
      "text/plain": [
       "                    Average Accuracy  Precision Score  Recall Score  F1-Score  \\\n",
       "SINE Decision Tree          0.975832         0.975052      0.963876  0.969432   \n",
       "\n",
       "                      Kappa  \n",
       "SINE Decision Tree  0.94144  "
      ]
     },
     "execution_count": 40,
     "metadata": {},
     "output_type": "execute_result"
    }
   ],
   "source": [
    "pd.DataFrame(hede, index=[re.findall(r'\\/(.*?)\\.',path),re.findall(r'\\.(.*)\\.',path)])"
   ]
  },
  {
   "cell_type": "code",
   "execution_count": 61,
   "metadata": {
    "ExecuteTime": {
     "end_time": "2019-06-16T14:04:49.569545Z",
     "start_time": "2019-06-16T14:04:49.530460Z"
    }
   },
   "outputs": [],
   "source": [
    "paths = ! cd datasets/; ls *.csv"
   ]
  },
  {
   "cell_type": "code",
   "execution_count": 99,
   "metadata": {
    "ExecuteTime": {
     "end_time": "2019-06-16T14:28:58.789803Z",
     "start_time": "2019-06-16T14:28:58.785591Z"
    }
   },
   "outputs": [],
   "source": [
    "paths = [\n",
    " 'Elec.Decision Tree.csv',\n",
    " 'Elec.K-Nearest Neighbours.csv',\n",
    " 'Elec.Logistic Regression.csv',\n",
    " 'Elec.Naive Bayes.csv',\n",
    " 'Hyperplane.Decision Tree.csv',\n",
    " 'Hyperplane.K-Nearest Neighbours.csv',\n",
    " 'Hyperplane.Logistic Regression.csv',\n",
    " 'Hyperplane.Naive Bayes.csv',\n",
    " 'RBF.Decision Tree.csv',\n",
    " 'RBF.K-Nearest Neighbours.csv',\n",
    " 'RBF.Logistic Regression.csv',\n",
    " 'RBF.Naive Bayes.csv',\n",
    " 'SEA.Decision Tree.csv',\n",
    " 'SEA.K-Nearest Neighbours.csv',\n",
    " 'SEA.Logistic Regression.csv',\n",
    " 'SEA.Naive Bayes.csv',\n",
    " 'SINE.Decision Tree.csv',\n",
    " 'SINE.K-Nearest Neighbours.csv',\n",
    " 'SINE.Logistic Regression.csv',\n",
    " 'SINE.Naive Bayes.csv']"
   ]
  },
  {
   "cell_type": "code",
   "execution_count": 112,
   "metadata": {
    "ExecuteTime": {
     "end_time": "2019-06-16T14:32:52.615187Z",
     "start_time": "2019-06-16T14:32:50.519720Z"
    }
   },
   "outputs": [],
   "source": [
    "results = pd.DataFrame(columns=hede.keys())\n",
    "for path in paths:\n",
    "    df = pd.read_csv('datasets/'+path)\n",
    "    \n",
    "    new_line = {\"Average Accuracy\": df.acc.mean(),\n",
    "                \"Precision Score\": precision_score(df.ytrue, df.ypred),\n",
    "                \"Recall Score\": recall_score(df.ytrue, df.ypred),\n",
    "                \"F1-Score\": f1_score(df.ytrue, df.ypred),\n",
    "                \"Kappa\": cohen_kappa_score(df.ytrue, df.ypred)\n",
    "               }\n",
    "    new_frame = pd.DataFrame(new_line, index=[re.findall(r'^(.*)\\.', path)[0]])\n",
    "    results = pd.concat([results, new_frame])\n",
    "    \n",
    "results.to_csv('reslts.csv')"
   ]
  },
  {
   "cell_type": "code",
   "execution_count": 108,
   "metadata": {
    "ExecuteTime": {
     "end_time": "2019-06-16T14:31:22.839903Z",
     "start_time": "2019-06-16T14:31:22.825065Z"
    }
   },
   "outputs": [
    {
     "data": {
      "text/html": [
       "<div>\n",
       "<style scoped>\n",
       "    .dataframe tbody tr th:only-of-type {\n",
       "        vertical-align: middle;\n",
       "    }\n",
       "\n",
       "    .dataframe tbody tr th {\n",
       "        vertical-align: top;\n",
       "    }\n",
       "\n",
       "    .dataframe thead th {\n",
       "        text-align: right;\n",
       "    }\n",
       "</style>\n",
       "<table border=\"1\" class=\"dataframe\">\n",
       "  <thead>\n",
       "    <tr style=\"text-align: right;\">\n",
       "      <th></th>\n",
       "      <th>Average Accuracy</th>\n",
       "      <th>Precision Score</th>\n",
       "      <th>Recall Score</th>\n",
       "      <th>F1-Score</th>\n",
       "      <th>Kappa</th>\n",
       "    </tr>\n",
       "  </thead>\n",
       "  <tbody>\n",
       "    <tr>\n",
       "      <th>(SINE.Naive Bayes,)</th>\n",
       "      <td>0.911382</td>\n",
       "      <td>0.885921</td>\n",
       "      <td>0.854444</td>\n",
       "      <td>0.869898</td>\n",
       "      <td>0.753557</td>\n",
       "    </tr>\n",
       "  </tbody>\n",
       "</table>\n",
       "</div>"
      ],
      "text/plain": [
       "                     Average Accuracy  Precision Score  Recall Score  \\\n",
       "(SINE.Naive Bayes,)          0.911382         0.885921      0.854444   \n",
       "\n",
       "                     F1-Score     Kappa  \n",
       "(SINE.Naive Bayes,)  0.869898  0.753557  "
      ]
     },
     "execution_count": 108,
     "metadata": {},
     "output_type": "execute_result"
    }
   ],
   "source": [
    "pd.concat([results,new_frame])"
   ]
  },
  {
   "cell_type": "code",
   "execution_count": 70,
   "metadata": {
    "ExecuteTime": {
     "end_time": "2019-06-16T14:10:48.866939Z",
     "start_time": "2019-06-16T14:10:48.858990Z"
    }
   },
   "outputs": [
    {
     "data": {
      "text/html": [
       "<div>\n",
       "<style scoped>\n",
       "    .dataframe tbody tr th:only-of-type {\n",
       "        vertical-align: middle;\n",
       "    }\n",
       "\n",
       "    .dataframe tbody tr th {\n",
       "        vertical-align: top;\n",
       "    }\n",
       "\n",
       "    .dataframe thead th {\n",
       "        text-align: right;\n",
       "    }\n",
       "</style>\n",
       "<table border=\"1\" class=\"dataframe\">\n",
       "  <thead>\n",
       "    <tr style=\"text-align: right;\">\n",
       "      <th></th>\n",
       "      <th>Average Accuracy</th>\n",
       "      <th>Precision Score</th>\n",
       "      <th>Recall Score</th>\n",
       "      <th>F1-Score</th>\n",
       "      <th>Kappa</th>\n",
       "    </tr>\n",
       "  </thead>\n",
       "  <tbody>\n",
       "  </tbody>\n",
       "</table>\n",
       "</div>"
      ],
      "text/plain": [
       "Empty DataFrame\n",
       "Columns: [Average Accuracy, Precision Score, Recall Score, F1-Score, Kappa]\n",
       "Index: []"
      ]
     },
     "execution_count": 70,
     "metadata": {},
     "output_type": "execute_result"
    }
   ],
   "source": [
    "results"
   ]
  }
 ],
 "metadata": {
  "kernelspec": {
   "display_name": "Concept Drift",
   "language": "python",
   "name": "env_cd"
  },
  "language_info": {
   "codemirror_mode": {
    "name": "ipython",
    "version": 3
   },
   "file_extension": ".py",
   "mimetype": "text/x-python",
   "name": "python",
   "nbconvert_exporter": "python",
   "pygments_lexer": "ipython3",
   "version": "3.7.3"
  },
  "varInspector": {
   "cols": {
    "lenName": 16,
    "lenType": 16,
    "lenVar": 40
   },
   "kernels_config": {
    "python": {
     "delete_cmd_postfix": "",
     "delete_cmd_prefix": "del ",
     "library": "var_list.py",
     "varRefreshCmd": "print(var_dic_list())"
    },
    "r": {
     "delete_cmd_postfix": ") ",
     "delete_cmd_prefix": "rm(",
     "library": "var_list.r",
     "varRefreshCmd": "cat(var_dic_list()) "
    }
   },
   "types_to_exclude": [
    "module",
    "function",
    "builtin_function_or_method",
    "instance",
    "_Feature"
   ],
   "window_display": false
  }
 },
 "nbformat": 4,
 "nbformat_minor": 2
}
