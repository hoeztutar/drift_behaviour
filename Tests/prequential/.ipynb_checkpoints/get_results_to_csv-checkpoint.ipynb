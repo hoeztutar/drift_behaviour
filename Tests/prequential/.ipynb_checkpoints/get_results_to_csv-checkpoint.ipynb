{
 "cells": [
  {
   "cell_type": "code",
   "execution_count": 1,
   "metadata": {
    "ExecuteTime": {
     "end_time": "2019-06-17T19:20:06.401553Z",
     "start_time": "2019-06-17T19:20:05.138958Z"
    },
    "collapsed": true
   },
   "outputs": [],
   "source": [
    "import re\n",
    "import pandas as pd\n",
    "from sklearn.metrics import confusion_matrix, precision_score, recall_score, f1_score, cohen_kappa_score"
   ]
  },
  {
   "cell_type": "code",
   "execution_count": 71,
   "metadata": {
    "ExecuteTime": {
     "end_time": "2019-06-16T14:11:02.127358Z",
     "start_time": "2019-06-16T14:11:02.123501Z"
    },
    "collapsed": true
   },
   "outputs": [],
   "source": [
    "data_names = ['Covertype', 'Elec', 'GasSensor', 'Hyperplane', 'Poker', 'RBF', 'SEA', 'SINE']\n",
    "\n",
    "model_names = ['Naive Bayes', 'Logistic Regression', 'K-Nearest Neighbours', 'Decision Tree']"
   ]
  },
  {
   "cell_type": "code",
   "execution_count": 75,
   "metadata": {
    "ExecuteTime": {
     "end_time": "2019-06-16T14:14:10.221059Z",
     "start_time": "2019-06-16T14:14:10.167054Z"
    }
   },
   "outputs": [
    {
     "data": {
      "text/plain": [
       "Index(['acc', 'ypred', 'ytrue'], dtype='object')"
      ]
     },
     "execution_count": 75,
     "metadata": {},
     "output_type": "execute_result"
    }
   ],
   "source": [
    "path = 'datasets/SINE.Decision Tree.csv'\n",
    "df = pd.read_csv('datasets/SINE.Decision Tree.csv', index_col=0)\n",
    "df.columns"
   ]
  },
  {
   "cell_type": "code",
   "execution_count": 15,
   "metadata": {
    "ExecuteTime": {
     "end_time": "2019-06-17T19:25:06.414048Z",
     "start_time": "2019-06-17T19:25:06.285233Z"
    }
   },
   "outputs": [
    {
     "ename": "ValueError",
     "evalue": "Target is multiclass but average='binary'. Please choose another average setting.",
     "output_type": "error",
     "traceback": [
      "\u001b[0;31m---------------------------------------------------------------------------\u001b[0m",
      "\u001b[0;31mValueError\u001b[0m                                Traceback (most recent call last)",
      "\u001b[0;32m<ipython-input-15-7518cea393f1>\u001b[0m in \u001b[0;36m<module>\u001b[0;34m\u001b[0m\n\u001b[1;32m      1\u001b[0m hede = {\"Average Accuracy\": df.acc.mean(),\n\u001b[0;32m----> 2\u001b[0;31m         \u001b[0;34m\"Precision Score\"\u001b[0m\u001b[0;34m:\u001b[0m \u001b[0mprecision_score\u001b[0m\u001b[0;34m(\u001b[0m\u001b[0mdf\u001b[0m\u001b[0;34m.\u001b[0m\u001b[0mytrue\u001b[0m\u001b[0;34m,\u001b[0m \u001b[0mdf\u001b[0m\u001b[0;34m.\u001b[0m\u001b[0mypred\u001b[0m\u001b[0;34m)\u001b[0m\u001b[0;34m,\u001b[0m\u001b[0;34m\u001b[0m\u001b[0;34m\u001b[0m\u001b[0m\n\u001b[0m\u001b[1;32m      3\u001b[0m         \u001b[0;34m\"Recall Score\"\u001b[0m\u001b[0;34m:\u001b[0m \u001b[0mrecall_score\u001b[0m\u001b[0;34m(\u001b[0m\u001b[0mdf\u001b[0m\u001b[0;34m.\u001b[0m\u001b[0mytrue\u001b[0m\u001b[0;34m,\u001b[0m \u001b[0mdf\u001b[0m\u001b[0;34m.\u001b[0m\u001b[0mypred\u001b[0m\u001b[0;34m)\u001b[0m\u001b[0;34m,\u001b[0m\u001b[0;34m\u001b[0m\u001b[0;34m\u001b[0m\u001b[0m\n\u001b[1;32m      4\u001b[0m         \u001b[0;34m\"F1-Score\"\u001b[0m\u001b[0;34m:\u001b[0m \u001b[0mf1_score\u001b[0m\u001b[0;34m(\u001b[0m\u001b[0mdf\u001b[0m\u001b[0;34m.\u001b[0m\u001b[0mytrue\u001b[0m\u001b[0;34m,\u001b[0m \u001b[0mdf\u001b[0m\u001b[0;34m.\u001b[0m\u001b[0mypred\u001b[0m\u001b[0;34m)\u001b[0m\u001b[0;34m,\u001b[0m\u001b[0;34m\u001b[0m\u001b[0;34m\u001b[0m\u001b[0m\n\u001b[1;32m      5\u001b[0m         \"Kappa\": cohen_kappa_score(df.ytrue, df.ypred)}\n",
      "\u001b[0;32m~/anaconda3/envs/env_CD/lib/python3.7/site-packages/sklearn/metrics/classification.py\u001b[0m in \u001b[0;36mprecision_score\u001b[0;34m(y_true, y_pred, labels, pos_label, average, sample_weight)\u001b[0m\n\u001b[1;32m   1267\u001b[0m                                                  \u001b[0maverage\u001b[0m\u001b[0;34m=\u001b[0m\u001b[0maverage\u001b[0m\u001b[0;34m,\u001b[0m\u001b[0;34m\u001b[0m\u001b[0;34m\u001b[0m\u001b[0m\n\u001b[1;32m   1268\u001b[0m                                                  \u001b[0mwarn_for\u001b[0m\u001b[0;34m=\u001b[0m\u001b[0;34m(\u001b[0m\u001b[0;34m'precision'\u001b[0m\u001b[0;34m,\u001b[0m\u001b[0;34m)\u001b[0m\u001b[0;34m,\u001b[0m\u001b[0;34m\u001b[0m\u001b[0;34m\u001b[0m\u001b[0m\n\u001b[0;32m-> 1269\u001b[0;31m                                                  sample_weight=sample_weight)\n\u001b[0m\u001b[1;32m   1270\u001b[0m     \u001b[0;32mreturn\u001b[0m \u001b[0mp\u001b[0m\u001b[0;34m\u001b[0m\u001b[0;34m\u001b[0m\u001b[0m\n\u001b[1;32m   1271\u001b[0m \u001b[0;34m\u001b[0m\u001b[0m\n",
      "\u001b[0;32m~/anaconda3/envs/env_CD/lib/python3.7/site-packages/sklearn/metrics/classification.py\u001b[0m in \u001b[0;36mprecision_recall_fscore_support\u001b[0;34m(y_true, y_pred, beta, labels, pos_label, average, warn_for, sample_weight)\u001b[0m\n\u001b[1;32m   1045\u001b[0m         \u001b[0;32melse\u001b[0m\u001b[0;34m:\u001b[0m\u001b[0;34m\u001b[0m\u001b[0;34m\u001b[0m\u001b[0m\n\u001b[1;32m   1046\u001b[0m             raise ValueError(\"Target is %s but average='binary'. Please \"\n\u001b[0;32m-> 1047\u001b[0;31m                              \"choose another average setting.\" % y_type)\n\u001b[0m\u001b[1;32m   1048\u001b[0m     \u001b[0;32melif\u001b[0m \u001b[0mpos_label\u001b[0m \u001b[0;32mnot\u001b[0m \u001b[0;32min\u001b[0m \u001b[0;34m(\u001b[0m\u001b[0;32mNone\u001b[0m\u001b[0;34m,\u001b[0m \u001b[0;36m1\u001b[0m\u001b[0;34m)\u001b[0m\u001b[0;34m:\u001b[0m\u001b[0;34m\u001b[0m\u001b[0;34m\u001b[0m\u001b[0m\n\u001b[1;32m   1049\u001b[0m         warnings.warn(\"Note that pos_label (set to %r) is ignored when \"\n",
      "\u001b[0;31mValueError\u001b[0m: Target is multiclass but average='binary'. Please choose another average setting."
     ]
    }
   ],
   "source": [
    "hede = {\"Average Accuracy\": df.acc.mean(),\n",
    "        \"Precision Score\": precision_score(df.ytrue, df.ypred),\n",
    "        \"Recall Score\": recall_score(df.ytrue, df.ypred),\n",
    "        \"F1-Score\": f1_score(df.ytrue, df.ypred),\n",
    "        \"Kappa\": cohen_kappa_score(df.ytrue, df.ypred)}"
   ]
  },
  {
   "cell_type": "code",
   "execution_count": 86,
   "metadata": {
    "ExecuteTime": {
     "end_time": "2019-06-16T14:17:00.227673Z",
     "start_time": "2019-06-16T14:17:00.207288Z"
    }
   },
   "outputs": [
    {
     "data": {
      "text/html": [
       "<div>\n",
       "<style scoped>\n",
       "    .dataframe tbody tr th:only-of-type {\n",
       "        vertical-align: middle;\n",
       "    }\n",
       "\n",
       "    .dataframe tbody tr th {\n",
       "        vertical-align: top;\n",
       "    }\n",
       "\n",
       "    .dataframe thead th {\n",
       "        text-align: right;\n",
       "    }\n",
       "</style>\n",
       "<table border=\"1\" class=\"dataframe\">\n",
       "  <thead>\n",
       "    <tr style=\"text-align: right;\">\n",
       "      <th></th>\n",
       "      <th>Average Accuracy</th>\n",
       "      <th>Precision Score</th>\n",
       "      <th>Recall Score</th>\n",
       "      <th>F1-Score</th>\n",
       "      <th>Kappa</th>\n",
       "    </tr>\n",
       "  </thead>\n",
       "  <tbody>\n",
       "    <tr>\n",
       "      <th>1</th>\n",
       "      <td>0.975832</td>\n",
       "      <td>0.975052</td>\n",
       "      <td>0.963876</td>\n",
       "      <td>0.969432</td>\n",
       "      <td>0.94144</td>\n",
       "    </tr>\n",
       "  </tbody>\n",
       "</table>\n",
       "</div>"
      ],
      "text/plain": [
       "   Average Accuracy  Precision Score  Recall Score  F1-Score    Kappa\n",
       "1          0.975832         0.975052      0.963876  0.969432  0.94144"
      ]
     },
     "execution_count": 86,
     "metadata": {},
     "output_type": "execute_result"
    }
   ],
   "source": [
    "pd.concat([results, pd.DataFrame(hede, index=[1])])"
   ]
  },
  {
   "cell_type": "code",
   "execution_count": null,
   "metadata": {
    "collapsed": true
   },
   "outputs": [],
   "source": []
  },
  {
   "cell_type": "code",
   "execution_count": 65,
   "metadata": {
    "ExecuteTime": {
     "end_time": "2019-06-16T14:06:37.302409Z",
     "start_time": "2019-06-16T14:06:37.294926Z"
    }
   },
   "outputs": [
    {
     "name": "stdout",
     "output_type": "stream",
     "text": [
      "Naive Bayes\n",
      "SINE\n"
     ]
    }
   ],
   "source": [
    "print(re.findall(r'\\.(.*)\\.',path)[0])\n",
    "print(re.findall(r'^(.*?)\\.',path)[0])"
   ]
  },
  {
   "cell_type": "code",
   "execution_count": 40,
   "metadata": {
    "ExecuteTime": {
     "end_time": "2019-06-16T13:41:56.323323Z",
     "start_time": "2019-06-16T13:41:56.305495Z"
    },
    "scrolled": true
   },
   "outputs": [
    {
     "data": {
      "text/html": [
       "<div>\n",
       "<style scoped>\n",
       "    .dataframe tbody tr th:only-of-type {\n",
       "        vertical-align: middle;\n",
       "    }\n",
       "\n",
       "    .dataframe tbody tr th {\n",
       "        vertical-align: top;\n",
       "    }\n",
       "\n",
       "    .dataframe thead th {\n",
       "        text-align: right;\n",
       "    }\n",
       "</style>\n",
       "<table border=\"1\" class=\"dataframe\">\n",
       "  <thead>\n",
       "    <tr style=\"text-align: right;\">\n",
       "      <th></th>\n",
       "      <th></th>\n",
       "      <th>Average Accuracy</th>\n",
       "      <th>Precision Score</th>\n",
       "      <th>Recall Score</th>\n",
       "      <th>F1-Score</th>\n",
       "      <th>Kappa</th>\n",
       "    </tr>\n",
       "  </thead>\n",
       "  <tbody>\n",
       "    <tr>\n",
       "      <th>SINE</th>\n",
       "      <th>Decision Tree</th>\n",
       "      <td>0.975832</td>\n",
       "      <td>0.975052</td>\n",
       "      <td>0.963876</td>\n",
       "      <td>0.969432</td>\n",
       "      <td>0.94144</td>\n",
       "    </tr>\n",
       "  </tbody>\n",
       "</table>\n",
       "</div>"
      ],
      "text/plain": [
       "                    Average Accuracy  Precision Score  Recall Score  F1-Score  \\\n",
       "SINE Decision Tree          0.975832         0.975052      0.963876  0.969432   \n",
       "\n",
       "                      Kappa  \n",
       "SINE Decision Tree  0.94144  "
      ]
     },
     "execution_count": 40,
     "metadata": {},
     "output_type": "execute_result"
    }
   ],
   "source": [
    "pd.DataFrame(hede, index=[re.findall(r'\\/(.*?)\\.',path),re.findall(r'\\.(.*)\\.',path)])"
   ]
  },
  {
   "cell_type": "code",
   "execution_count": 61,
   "metadata": {
    "ExecuteTime": {
     "end_time": "2019-06-16T14:04:49.569545Z",
     "start_time": "2019-06-16T14:04:49.530460Z"
    },
    "collapsed": true
   },
   "outputs": [],
   "source": [
    "paths = ! cd datasets/; ls *.csv"
   ]
  },
  {
   "cell_type": "code",
   "execution_count": 99,
   "metadata": {
    "ExecuteTime": {
     "end_time": "2019-06-16T14:28:58.789803Z",
     "start_time": "2019-06-16T14:28:58.785591Z"
    },
    "collapsed": true
   },
   "outputs": [],
   "source": [
    "paths = [\n",
    " 'Elec.Decision Tree.csv',\n",
    " 'Elec.K-Nearest Neighbours.csv',\n",
    " 'Elec.Logistic Regression.csv',\n",
    " 'Elec.Naive Bayes.csv',\n",
    " 'Hyperplane.Decision Tree.csv',\n",
    " 'Hyperplane.K-Nearest Neighbours.csv',\n",
    " 'Hyperplane.Logistic Regression.csv',\n",
    " 'Hyperplane.Naive Bayes.csv',\n",
    " 'RBF.Decision Tree.csv',\n",
    " 'RBF.K-Nearest Neighbours.csv',\n",
    " 'RBF.Logistic Regression.csv',\n",
    " 'RBF.Naive Bayes.csv',\n",
    " 'SEA.Decision Tree.csv',\n",
    " 'SEA.K-Nearest Neighbours.csv',\n",
    " 'SEA.Logistic Regression.csv',\n",
    " 'SEA.Naive Bayes.csv',\n",
    " 'SINE.Decision Tree.csv',\n",
    " 'SINE.K-Nearest Neighbours.csv',\n",
    " 'SINE.Logistic Regression.csv',\n",
    " 'SINE.Naive Bayes.csv']"
   ]
  },
  {
   "cell_type": "code",
   "execution_count": 112,
   "metadata": {
    "ExecuteTime": {
     "end_time": "2019-06-16T14:32:52.615187Z",
     "start_time": "2019-06-16T14:32:50.519720Z"
    },
    "collapsed": true
   },
   "outputs": [],
   "source": [
    "results = pd.DataFrame(columns=hede.keys())\n",
    "for path in paths:\n",
    "    df = pd.read_csv('datasets/'+path)\n",
    "    \n",
    "    new_line = {\"Average Accuracy\": df.acc.mean(),\n",
    "                \"Precision Score\": precision_score(df.ytrue, df.ypred),\n",
    "                \"Recall Score\": recall_score(df.ytrue, df.ypred),\n",
    "                \"F1-Score\": f1_score(df.ytrue, df.ypred),\n",
    "                \"Kappa\": cohen_kappa_score(df.ytrue, df.ypred)\n",
    "               }\n",
    "    new_frame = pd.DataFrame(new_line, index=[re.findall(r'^(.*)\\.', path)[0]])\n",
    "    results = pd.concat([results, new_frame])\n",
    "    \n",
    "results.to_csv('reslts.csv')"
   ]
  },
  {
   "cell_type": "code",
   "execution_count": 108,
   "metadata": {
    "ExecuteTime": {
     "end_time": "2019-06-16T14:31:22.839903Z",
     "start_time": "2019-06-16T14:31:22.825065Z"
    }
   },
   "outputs": [
    {
     "data": {
      "text/html": [
       "<div>\n",
       "<style scoped>\n",
       "    .dataframe tbody tr th:only-of-type {\n",
       "        vertical-align: middle;\n",
       "    }\n",
       "\n",
       "    .dataframe tbody tr th {\n",
       "        vertical-align: top;\n",
       "    }\n",
       "\n",
       "    .dataframe thead th {\n",
       "        text-align: right;\n",
       "    }\n",
       "</style>\n",
       "<table border=\"1\" class=\"dataframe\">\n",
       "  <thead>\n",
       "    <tr style=\"text-align: right;\">\n",
       "      <th></th>\n",
       "      <th>Average Accuracy</th>\n",
       "      <th>Precision Score</th>\n",
       "      <th>Recall Score</th>\n",
       "      <th>F1-Score</th>\n",
       "      <th>Kappa</th>\n",
       "    </tr>\n",
       "  </thead>\n",
       "  <tbody>\n",
       "    <tr>\n",
       "      <th>(SINE.Naive Bayes,)</th>\n",
       "      <td>0.911382</td>\n",
       "      <td>0.885921</td>\n",
       "      <td>0.854444</td>\n",
       "      <td>0.869898</td>\n",
       "      <td>0.753557</td>\n",
       "    </tr>\n",
       "  </tbody>\n",
       "</table>\n",
       "</div>"
      ],
      "text/plain": [
       "                     Average Accuracy  Precision Score  Recall Score  \\\n",
       "(SINE.Naive Bayes,)          0.911382         0.885921      0.854444   \n",
       "\n",
       "                     F1-Score     Kappa  \n",
       "(SINE.Naive Bayes,)  0.869898  0.753557  "
      ]
     },
     "execution_count": 108,
     "metadata": {},
     "output_type": "execute_result"
    }
   ],
   "source": [
    "pd.concat([results,new_frame])"
   ]
  },
  {
   "cell_type": "code",
   "execution_count": 70,
   "metadata": {
    "ExecuteTime": {
     "end_time": "2019-06-16T14:10:48.866939Z",
     "start_time": "2019-06-16T14:10:48.858990Z"
    }
   },
   "outputs": [
    {
     "data": {
      "text/html": [
       "<div>\n",
       "<style scoped>\n",
       "    .dataframe tbody tr th:only-of-type {\n",
       "        vertical-align: middle;\n",
       "    }\n",
       "\n",
       "    .dataframe tbody tr th {\n",
       "        vertical-align: top;\n",
       "    }\n",
       "\n",
       "    .dataframe thead th {\n",
       "        text-align: right;\n",
       "    }\n",
       "</style>\n",
       "<table border=\"1\" class=\"dataframe\">\n",
       "  <thead>\n",
       "    <tr style=\"text-align: right;\">\n",
       "      <th></th>\n",
       "      <th>Average Accuracy</th>\n",
       "      <th>Precision Score</th>\n",
       "      <th>Recall Score</th>\n",
       "      <th>F1-Score</th>\n",
       "      <th>Kappa</th>\n",
       "    </tr>\n",
       "  </thead>\n",
       "  <tbody>\n",
       "  </tbody>\n",
       "</table>\n",
       "</div>"
      ],
      "text/plain": [
       "Empty DataFrame\n",
       "Columns: [Average Accuracy, Precision Score, Recall Score, F1-Score, Kappa]\n",
       "Index: []"
      ]
     },
     "execution_count": 70,
     "metadata": {},
     "output_type": "execute_result"
    }
   ],
   "source": [
    "results"
   ]
  },
  {
   "cell_type": "markdown",
   "metadata": {},
   "source": [
    "## Multilabel"
   ]
  },
  {
   "cell_type": "code",
   "execution_count": 9,
   "metadata": {
    "ExecuteTime": {
     "end_time": "2019-06-17T19:22:39.415429Z",
     "start_time": "2019-06-17T19:22:39.382338Z"
    }
   },
   "outputs": [
    {
     "data": {
      "text/plain": [
       "['Covertype.Decision Tree.csv',\n",
       " 'Covertype.K-Nearest Neighbours.csv',\n",
       " 'Covertype.Logistic Regression.csv',\n",
       " 'Covertype.Naive Bayes.csv',\n",
       " 'Elec.Decision Tree.csv',\n",
       " 'Elec.K-Nearest Neighbours.csv',\n",
       " 'Elec.Logistic Regression.csv',\n",
       " 'Elec.Naive Bayes.csv',\n",
       " 'GasSensor.Decision Tree.csv',\n",
       " 'GasSensor.K-Nearest Neighbours.csv',\n",
       " 'GasSensor.Logistic Regression.csv',\n",
       " 'GasSensor.Naive Bayes.csv',\n",
       " 'Hyperplane.Decision Tree.csv',\n",
       " 'Hyperplane.K-Nearest Neighbours.csv',\n",
       " 'Hyperplane.Logistic Regression.csv',\n",
       " 'Hyperplane.Naive Bayes.csv',\n",
       " 'Poker.Decision Tree.csv',\n",
       " 'Poker.K-Nearest Neighbours.csv',\n",
       " 'Poker.Logistic Regression.csv',\n",
       " 'Poker.Naive Bayes.csv',\n",
       " 'RBF.Decision Tree.csv',\n",
       " 'RBF.K-Nearest Neighbours.csv',\n",
       " 'RBF.Logistic Regression.csv',\n",
       " 'RBF.Naive Bayes.csv',\n",
       " 'SEA.Decision Tree.csv',\n",
       " 'SEA.K-Nearest Neighbours.csv',\n",
       " 'SEA.Logistic Regression.csv',\n",
       " 'SEA.Naive Bayes.csv',\n",
       " 'SINE.Decision Tree.csv',\n",
       " 'SINE.K-Nearest Neighbours.csv',\n",
       " 'SINE.Logistic Regression.csv',\n",
       " 'SINE.Naive Bayes.csv']"
      ]
     },
     "execution_count": 9,
     "metadata": {},
     "output_type": "execute_result"
    }
   ],
   "source": [
    "path_multi = !cd datasets/; ls *.csv\n",
    "path_multi"
   ]
  },
  {
   "cell_type": "code",
   "execution_count": 10,
   "metadata": {
    "ExecuteTime": {
     "end_time": "2019-06-17T19:24:09.849723Z",
     "start_time": "2019-06-17T19:24:09.845665Z"
    }
   },
   "outputs": [],
   "source": [
    "path_multi = ['Covertype.Decision Tree.csv',\n",
    "              'Covertype.K-Nearest Neighbours.csv',\n",
    "              'Covertype.Logistic Regression.csv',\n",
    "              'Covertype.Naive Bayes.csv',\n",
    "              'GasSensor.Decision Tree.csv',\n",
    "              'GasSensor.K-Nearest Neighbours.csv',\n",
    "              'GasSensor.Logistic Regression.csv',\n",
    "              'GasSensor.Naive Bayes.csv',\n",
    "              'Poker.Decision Tree.csv',\n",
    "              'Poker.K-Nearest Neighbours.csv',\n",
    "              'Poker.Logistic Regression.csv',\n",
    "              'Poker.Naive Bayes.csv'\n",
    "             ]"
   ]
  },
  {
   "cell_type": "code",
   "execution_count": 14,
   "metadata": {
    "ExecuteTime": {
     "end_time": "2019-06-17T19:25:02.481359Z",
     "start_time": "2019-06-17T19:25:02.144162Z"
    }
   },
   "outputs": [],
   "source": [
    "df = pd.read_csv('datasets/Covertype.Decision Tree.csv', index_col=0)"
   ]
  },
  {
   "cell_type": "code",
   "execution_count": 27,
   "metadata": {
    "ExecuteTime": {
     "end_time": "2019-06-17T19:31:53.179349Z",
     "start_time": "2019-06-17T19:31:52.385891Z"
    }
   },
   "outputs": [],
   "source": [
    "hede = {\"Average Accuracy\": df.acc.mean(),\n",
    "        \"Precision Score\": precision_score(df.ytrue, df.ypred, average='weighted'),\n",
    "        \"Recall Score\": recall_score(df.ytrue, df.ypred,average='weighted'),\n",
    "        \"F1-Score\": f1_score(df.ytrue, df.ypred,average='weighted'),\n",
    "        \"Kappa\": cohen_kappa_score(df.ytrue, df.ypred)}"
   ]
  },
  {
   "cell_type": "code",
   "execution_count": 33,
   "metadata": {
    "ExecuteTime": {
     "end_time": "2019-06-17T19:33:37.171856Z",
     "start_time": "2019-06-17T19:33:37.160369Z"
    }
   },
   "outputs": [
    {
     "data": {
      "text/plain": [
       "Index(['Average Accuracy', 'Precision Score', 'Recall Score', 'F1-Score',\n",
       "       'Kappa'],\n",
       "      dtype='object')"
      ]
     },
     "execution_count": 33,
     "metadata": {},
     "output_type": "execute_result"
    }
   ],
   "source": [
    "pd.DataFrame(hede, index=[1]).columns"
   ]
  },
  {
   "cell_type": "code",
   "execution_count": 35,
   "metadata": {
    "ExecuteTime": {
     "end_time": "2019-06-17T19:36:59.979417Z",
     "start_time": "2019-06-17T19:36:49.779851Z"
    }
   },
   "outputs": [],
   "source": [
    "results = pd.DataFrame(columns=hede.keys())\n",
    "for path in path_multi:\n",
    "    df = pd.read_csv('datasets/'+path)\n",
    "    \n",
    "    new_line = {\"Average Accuracy\": df.acc.mean(),\n",
    "                \"Precision Score\": precision_score(df.ytrue, df.ypred, average='weighted'),\n",
    "                \"Recall Score\": recall_score(df.ytrue, df.ypred,average='weighted'),\n",
    "                \"F1-Score\": f1_score(df.ytrue, df.ypred,average='weighted'),\n",
    "                \"Kappa\": cohen_kappa_score(df.ytrue, df.ypred)\n",
    "               }\n",
    "    new_frame = pd.DataFrame(new_line, index=[re.findall(r'^(.*)\\.', path)[0]])\n",
    "    results = pd.concat([results, new_frame])\n",
    "    \n",
    "results.to_csv('reslts_multi.csv')"
   ]
  }
 ],
 "metadata": {
  "kernelspec": {
   "display_name": "Concept Drift",
   "language": "python",
   "name": "env_cd"
  },
  "language_info": {
   "codemirror_mode": {
    "name": "ipython",
    "version": 3
   },
   "file_extension": ".py",
   "mimetype": "text/x-python",
   "name": "python",
   "nbconvert_exporter": "python",
   "pygments_lexer": "ipython3",
   "version": "3.7.3"
  },
  "varInspector": {
   "cols": {
    "lenName": 16,
    "lenType": 16,
    "lenVar": 40
   },
   "kernels_config": {
    "python": {
     "delete_cmd_postfix": "",
     "delete_cmd_prefix": "del ",
     "library": "var_list.py",
     "varRefreshCmd": "print(var_dic_list())"
    },
    "r": {
     "delete_cmd_postfix": ") ",
     "delete_cmd_prefix": "rm(",
     "library": "var_list.r",
     "varRefreshCmd": "cat(var_dic_list()) "
    }
   },
   "types_to_exclude": [
    "module",
    "function",
    "builtin_function_or_method",
    "instance",
    "_Feature"
   ],
   "window_display": false
  }
 },
 "nbformat": 4,
 "nbformat_minor": 2
}
