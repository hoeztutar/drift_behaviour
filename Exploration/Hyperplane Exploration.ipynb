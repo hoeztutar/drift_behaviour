{
 "cells": [
  {
   "cell_type": "code",
   "execution_count": 1,
   "metadata": {
    "ExecuteTime": {
     "end_time": "2019-06-26T11:37:16.422498Z",
     "start_time": "2019-06-26T11:37:15.087305Z"
    },
    "collapsed": true
   },
   "outputs": [],
   "source": [
    "import pandas as pd\n",
    "pd.set_option('display.max_column', 250)\n",
    "import numpy as np\n",
    "\n",
    "import matplotlib.pyplot as plt\n",
    "import seaborn as sns\n",
    "plt.style.use('seaborn-notebook')\n",
    "from matplotlib import rcParams\n",
    "rcParams['figure.figsize'] = (10, 5)\n",
    "rcParams['figure.dpi'] = 150"
   ]
  },
  {
   "cell_type": "code",
   "execution_count": 2,
   "metadata": {
    "ExecuteTime": {
     "end_time": "2019-06-26T11:37:17.604111Z",
     "start_time": "2019-06-26T11:37:16.453463Z"
    }
   },
   "outputs": [
    {
     "data": {
      "text/html": [
       "<div>\n",
       "<style scoped>\n",
       "    .dataframe tbody tr th:only-of-type {\n",
       "        vertical-align: middle;\n",
       "    }\n",
       "\n",
       "    .dataframe tbody tr th {\n",
       "        vertical-align: top;\n",
       "    }\n",
       "\n",
       "    .dataframe thead th {\n",
       "        text-align: right;\n",
       "    }\n",
       "</style>\n",
       "<table border=\"1\" class=\"dataframe\">\n",
       "  <thead>\n",
       "    <tr style=\"text-align: right;\">\n",
       "      <th></th>\n",
       "      <th>att1</th>\n",
       "      <th>att2</th>\n",
       "      <th>att3</th>\n",
       "      <th>att4</th>\n",
       "      <th>att5</th>\n",
       "      <th>att6</th>\n",
       "      <th>att7</th>\n",
       "      <th>att8</th>\n",
       "      <th>att9</th>\n",
       "      <th>att10</th>\n",
       "      <th>class</th>\n",
       "    </tr>\n",
       "  </thead>\n",
       "  <tbody>\n",
       "    <tr>\n",
       "      <th>0</th>\n",
       "      <td>0.397174</td>\n",
       "      <td>0.347518</td>\n",
       "      <td>0.294057</td>\n",
       "      <td>0.506484</td>\n",
       "      <td>0.115967</td>\n",
       "      <td>0.770536</td>\n",
       "      <td>0.659893</td>\n",
       "      <td>0.156747</td>\n",
       "      <td>0.378202</td>\n",
       "      <td>0.139763</td>\n",
       "      <td>class1</td>\n",
       "    </tr>\n",
       "    <tr>\n",
       "      <th>1</th>\n",
       "      <td>0.004853</td>\n",
       "      <td>0.852254</td>\n",
       "      <td>0.023418</td>\n",
       "      <td>0.705010</td>\n",
       "      <td>0.275030</td>\n",
       "      <td>0.075388</td>\n",
       "      <td>0.610592</td>\n",
       "      <td>0.954931</td>\n",
       "      <td>0.274069</td>\n",
       "      <td>0.190202</td>\n",
       "      <td>class1</td>\n",
       "    </tr>\n",
       "    <tr>\n",
       "      <th>2</th>\n",
       "      <td>0.161043</td>\n",
       "      <td>0.178055</td>\n",
       "      <td>0.540397</td>\n",
       "      <td>0.973834</td>\n",
       "      <td>0.245427</td>\n",
       "      <td>0.394521</td>\n",
       "      <td>0.217602</td>\n",
       "      <td>0.432007</td>\n",
       "      <td>0.233156</td>\n",
       "      <td>0.889909</td>\n",
       "      <td>class1</td>\n",
       "    </tr>\n",
       "    <tr>\n",
       "      <th>3</th>\n",
       "      <td>0.112821</td>\n",
       "      <td>0.228802</td>\n",
       "      <td>0.991882</td>\n",
       "      <td>0.586248</td>\n",
       "      <td>0.962215</td>\n",
       "      <td>0.265155</td>\n",
       "      <td>0.362896</td>\n",
       "      <td>0.878429</td>\n",
       "      <td>0.290732</td>\n",
       "      <td>0.051448</td>\n",
       "      <td>class1</td>\n",
       "    </tr>\n",
       "    <tr>\n",
       "      <th>4</th>\n",
       "      <td>0.630405</td>\n",
       "      <td>0.909584</td>\n",
       "      <td>0.507660</td>\n",
       "      <td>0.491451</td>\n",
       "      <td>0.428784</td>\n",
       "      <td>0.308093</td>\n",
       "      <td>0.717322</td>\n",
       "      <td>0.962415</td>\n",
       "      <td>0.209493</td>\n",
       "      <td>0.172649</td>\n",
       "      <td>class2</td>\n",
       "    </tr>\n",
       "  </tbody>\n",
       "</table>\n",
       "</div>"
      ],
      "text/plain": [
       "       att1      att2      att3      att4      att5      att6      att7  \\\n",
       "0  0.397174  0.347518  0.294057  0.506484  0.115967  0.770536  0.659893   \n",
       "1  0.004853  0.852254  0.023418  0.705010  0.275030  0.075388  0.610592   \n",
       "2  0.161043  0.178055  0.540397  0.973834  0.245427  0.394521  0.217602   \n",
       "3  0.112821  0.228802  0.991882  0.586248  0.962215  0.265155  0.362896   \n",
       "4  0.630405  0.909584  0.507660  0.491451  0.428784  0.308093  0.717322   \n",
       "\n",
       "       att8      att9     att10   class  \n",
       "0  0.156747  0.378202  0.139763  class1  \n",
       "1  0.954931  0.274069  0.190202  class1  \n",
       "2  0.432007  0.233156  0.889909  class1  \n",
       "3  0.878429  0.290732  0.051448  class1  \n",
       "4  0.962415  0.209493  0.172649  class2  "
      ]
     },
     "execution_count": 2,
     "metadata": {},
     "output_type": "execute_result"
    }
   ],
   "source": [
    "import arff\n",
    "data = arff.load(open('../data/Hyperplane.arff'))\n",
    "cnames = [i[0] for i in data['attributes']]\n",
    "df = pd.DataFrame(data['data'], columns=cnames)\n",
    "df.head()"
   ]
  },
  {
   "cell_type": "code",
   "execution_count": 5,
   "metadata": {
    "ExecuteTime": {
     "end_time": "2019-06-17T14:25:50.549702Z",
     "start_time": "2019-06-17T14:25:50.502727Z"
    }
   },
   "outputs": [
    {
     "name": "stdout",
     "output_type": "stream",
     "text": [
      "<class 'pandas.core.frame.DataFrame'>\n",
      "RangeIndex: 50000 entries, 0 to 49999\n",
      "Data columns (total 11 columns):\n",
      "att1     50000 non-null float64\n",
      "att2     50000 non-null float64\n",
      "att3     50000 non-null float64\n",
      "att4     50000 non-null float64\n",
      "att5     50000 non-null float64\n",
      "att6     50000 non-null float64\n",
      "att7     50000 non-null float64\n",
      "att8     50000 non-null float64\n",
      "att9     50000 non-null float64\n",
      "att10    50000 non-null float64\n",
      "class    50000 non-null object\n",
      "dtypes: float64(10), object(1)\n",
      "memory usage: 4.2+ MB\n"
     ]
    }
   ],
   "source": [
    "df.info()"
   ]
  },
  {
   "cell_type": "code",
   "execution_count": 4,
   "metadata": {
    "ExecuteTime": {
     "end_time": "2019-06-17T14:25:41.134893Z",
     "start_time": "2019-06-17T14:25:41.003784Z"
    },
    "scrolled": true
   },
   "outputs": [
    {
     "data": {
      "text/html": [
       "<div>\n",
       "<style scoped>\n",
       "    .dataframe tbody tr th:only-of-type {\n",
       "        vertical-align: middle;\n",
       "    }\n",
       "\n",
       "    .dataframe tbody tr th {\n",
       "        vertical-align: top;\n",
       "    }\n",
       "\n",
       "    .dataframe thead th {\n",
       "        text-align: right;\n",
       "    }\n",
       "</style>\n",
       "<table border=\"1\" class=\"dataframe\">\n",
       "  <thead>\n",
       "    <tr style=\"text-align: right;\">\n",
       "      <th></th>\n",
       "      <th>att1</th>\n",
       "      <th>att2</th>\n",
       "      <th>att3</th>\n",
       "      <th>att4</th>\n",
       "      <th>att5</th>\n",
       "      <th>att6</th>\n",
       "      <th>att7</th>\n",
       "      <th>att8</th>\n",
       "      <th>att9</th>\n",
       "      <th>att10</th>\n",
       "    </tr>\n",
       "  </thead>\n",
       "  <tbody>\n",
       "    <tr>\n",
       "      <th>count</th>\n",
       "      <td>50000.000000</td>\n",
       "      <td>50000.000000</td>\n",
       "      <td>50000.000000</td>\n",
       "      <td>50000.000000</td>\n",
       "      <td>50000.000000</td>\n",
       "      <td>50000.000000</td>\n",
       "      <td>50000.000000</td>\n",
       "      <td>50000.000000</td>\n",
       "      <td>50000.000000</td>\n",
       "      <td>50000.000000</td>\n",
       "    </tr>\n",
       "    <tr>\n",
       "      <th>mean</th>\n",
       "      <td>0.497826</td>\n",
       "      <td>0.498992</td>\n",
       "      <td>0.501466</td>\n",
       "      <td>0.498572</td>\n",
       "      <td>0.501146</td>\n",
       "      <td>0.497482</td>\n",
       "      <td>0.499257</td>\n",
       "      <td>0.499242</td>\n",
       "      <td>0.499457</td>\n",
       "      <td>0.501582</td>\n",
       "    </tr>\n",
       "    <tr>\n",
       "      <th>std</th>\n",
       "      <td>0.288800</td>\n",
       "      <td>0.288432</td>\n",
       "      <td>0.288350</td>\n",
       "      <td>0.288380</td>\n",
       "      <td>0.288833</td>\n",
       "      <td>0.288775</td>\n",
       "      <td>0.288475</td>\n",
       "      <td>0.287115</td>\n",
       "      <td>0.288250</td>\n",
       "      <td>0.288268</td>\n",
       "    </tr>\n",
       "    <tr>\n",
       "      <th>min</th>\n",
       "      <td>0.000022</td>\n",
       "      <td>0.000011</td>\n",
       "      <td>0.000007</td>\n",
       "      <td>0.000002</td>\n",
       "      <td>0.000017</td>\n",
       "      <td>0.000031</td>\n",
       "      <td>0.000021</td>\n",
       "      <td>0.000005</td>\n",
       "      <td>0.000013</td>\n",
       "      <td>0.000007</td>\n",
       "    </tr>\n",
       "    <tr>\n",
       "      <th>25%</th>\n",
       "      <td>0.246655</td>\n",
       "      <td>0.248157</td>\n",
       "      <td>0.252598</td>\n",
       "      <td>0.248785</td>\n",
       "      <td>0.251776</td>\n",
       "      <td>0.246994</td>\n",
       "      <td>0.248803</td>\n",
       "      <td>0.250618</td>\n",
       "      <td>0.249362</td>\n",
       "      <td>0.252940</td>\n",
       "    </tr>\n",
       "    <tr>\n",
       "      <th>50%</th>\n",
       "      <td>0.494405</td>\n",
       "      <td>0.499553</td>\n",
       "      <td>0.502864</td>\n",
       "      <td>0.498359</td>\n",
       "      <td>0.500993</td>\n",
       "      <td>0.497847</td>\n",
       "      <td>0.498836</td>\n",
       "      <td>0.497964</td>\n",
       "      <td>0.499566</td>\n",
       "      <td>0.502633</td>\n",
       "    </tr>\n",
       "    <tr>\n",
       "      <th>75%</th>\n",
       "      <td>0.746498</td>\n",
       "      <td>0.748472</td>\n",
       "      <td>0.749753</td>\n",
       "      <td>0.747738</td>\n",
       "      <td>0.751474</td>\n",
       "      <td>0.748228</td>\n",
       "      <td>0.748229</td>\n",
       "      <td>0.746166</td>\n",
       "      <td>0.749975</td>\n",
       "      <td>0.749603</td>\n",
       "    </tr>\n",
       "    <tr>\n",
       "      <th>max</th>\n",
       "      <td>0.999975</td>\n",
       "      <td>0.999994</td>\n",
       "      <td>0.999988</td>\n",
       "      <td>0.999975</td>\n",
       "      <td>0.999975</td>\n",
       "      <td>0.999991</td>\n",
       "      <td>0.999993</td>\n",
       "      <td>0.999979</td>\n",
       "      <td>0.999984</td>\n",
       "      <td>0.999988</td>\n",
       "    </tr>\n",
       "  </tbody>\n",
       "</table>\n",
       "</div>"
      ],
      "text/plain": [
       "               att1          att2          att3          att4          att5  \\\n",
       "count  50000.000000  50000.000000  50000.000000  50000.000000  50000.000000   \n",
       "mean       0.497826      0.498992      0.501466      0.498572      0.501146   \n",
       "std        0.288800      0.288432      0.288350      0.288380      0.288833   \n",
       "min        0.000022      0.000011      0.000007      0.000002      0.000017   \n",
       "25%        0.246655      0.248157      0.252598      0.248785      0.251776   \n",
       "50%        0.494405      0.499553      0.502864      0.498359      0.500993   \n",
       "75%        0.746498      0.748472      0.749753      0.747738      0.751474   \n",
       "max        0.999975      0.999994      0.999988      0.999975      0.999975   \n",
       "\n",
       "               att6          att7          att8          att9         att10  \n",
       "count  50000.000000  50000.000000  50000.000000  50000.000000  50000.000000  \n",
       "mean       0.497482      0.499257      0.499242      0.499457      0.501582  \n",
       "std        0.288775      0.288475      0.287115      0.288250      0.288268  \n",
       "min        0.000031      0.000021      0.000005      0.000013      0.000007  \n",
       "25%        0.246994      0.248803      0.250618      0.249362      0.252940  \n",
       "50%        0.497847      0.498836      0.497964      0.499566      0.502633  \n",
       "75%        0.748228      0.748229      0.746166      0.749975      0.749603  \n",
       "max        0.999991      0.999993      0.999979      0.999984      0.999988  "
      ]
     },
     "execution_count": 4,
     "metadata": {},
     "output_type": "execute_result"
    }
   ],
   "source": [
    "df.describe()"
   ]
  },
  {
   "cell_type": "code",
   "execution_count": 6,
   "metadata": {
    "ExecuteTime": {
     "end_time": "2019-06-17T14:26:01.570968Z",
     "start_time": "2019-06-17T14:26:01.549129Z"
    }
   },
   "outputs": [
    {
     "data": {
      "text/plain": [
       "class\n",
       "class1    24956\n",
       "class2    25044\n",
       "Name: class, dtype: int64"
      ]
     },
     "execution_count": 6,
     "metadata": {},
     "output_type": "execute_result"
    }
   ],
   "source": [
    "df.groupby('class')['class'].count()"
   ]
  },
  {
   "cell_type": "code",
   "execution_count": 4,
   "metadata": {
    "ExecuteTime": {
     "end_time": "2019-06-26T11:37:37.006118Z",
     "start_time": "2019-06-26T11:37:34.917577Z"
    }
   },
   "outputs": [
    {
     "data": {
      "image/png": "[encoded data removed]",
      "text/plain": [
       "<Figure size 1080x720 with 4 Axes>"
      ]
     },
     "metadata": {
      "needs_background": "light"
     },
     "output_type": "display_data"
    }
   ],
   "source": [
    "f, axes = plt.subplots(2, 2, sharex=True, sharey=True, figsize=(15,10))\n",
    "\n",
    "for i in range(2):\n",
    "    sns.distplot(df[df['class']=='class1'].loc[:10000,'att'+str(i+1)], ax=axes[0,i], label='class1')\n",
    "    sns.distplot(df[df['class']=='class2'].loc[:10000,'att'+str(i+1)], ax=axes[0,i], label='class2')\n",
    "    sns.distplot(df[df['class']=='class1'].loc[40000:,'att'+str(i+1)], ax=axes[1,i], label='class1')\n",
    "    sns.distplot(df[df['class']=='class2'].loc[40000:,'att'+str(i+1)], ax=axes[1,i], label='class2')\n",
    "\n",
    "plt.legend()\n",
    "plt.savefig('hyp_dist.png', dpi=300)"
   ]
  }
 ],
 "metadata": {
  "kernelspec": {
   "display_name": "Concept Drift",
   "language": "python",
   "name": "env_cd"
  },
  "language_info": {
   "codemirror_mode": {
    "name": "ipython",
    "version": 3
   },
   "file_extension": ".py",
   "mimetype": "text/x-python",
   "name": "python",
   "nbconvert_exporter": "python",
   "pygments_lexer": "ipython3",
   "version": "3.7.3"
  },
  "varInspector": {
   "cols": {
    "lenName": 16,
    "lenType": 16,
    "lenVar": 40
   },
   "kernels_config": {
    "python": {
     "delete_cmd_postfix": "",
     "delete_cmd_prefix": "del ",
     "library": "var_list.py",
     "varRefreshCmd": "print(var_dic_list())"
    },
    "r": {
     "delete_cmd_postfix": ") ",
     "delete_cmd_prefix": "rm(",
     "library": "var_list.r",
     "varRefreshCmd": "cat(var_dic_list()) "
    }
   },
   "types_to_exclude": [
    "module",
    "function",
    "builtin_function_or_method",
    "instance",
    "_Feature"
   ],
   "window_display": false
  }
 },
 "nbformat": 4,
 "nbformat_minor": 2
}
