{
 "cells": [
  {
   "cell_type": "code",
   "execution_count": 1,
   "metadata": {
    "ExecuteTime": {
     "end_time": "2019-06-08T09:05:30.113589Z",
     "start_time": "2019-06-08T09:05:28.509513Z"
    },
    "collapsed": true
   },
   "outputs": [],
   "source": [
    "import pandas as pd\n",
    "pd.set_option('display.max_column', 250)\n",
    "import numpy as np\n",
    "\n",
    "import matplotlib.pyplot as plt\n",
    "import seaborn as sns\n",
    "plt.style.use('seaborn-notebook')\n",
    "from matplotlib import rcParams\n",
    "rcParams['figure.figsize'] = (6, 4)\n",
    "rcParams['figure.dpi'] = 150"
   ]
  },
  {
   "cell_type": "code",
   "execution_count": 3,
   "metadata": {
    "ExecuteTime": {
     "end_time": "2019-06-08T09:05:50.815396Z",
     "start_time": "2019-06-08T09:05:49.933422Z"
    }
   },
   "outputs": [
    {
     "data": {
      "text/html": [
       "<div>\n",
       "<style scoped>\n",
       "    .dataframe tbody tr th:only-of-type {\n",
       "        vertical-align: middle;\n",
       "    }\n",
       "\n",
       "    .dataframe tbody tr th {\n",
       "        vertical-align: top;\n",
       "    }\n",
       "\n",
       "    .dataframe thead th {\n",
       "        text-align: right;\n",
       "    }\n",
       "</style>\n",
       "<table border=\"1\" class=\"dataframe\">\n",
       "  <thead>\n",
       "    <tr style=\"text-align: right;\">\n",
       "      <th></th>\n",
       "      <th>att1</th>\n",
       "      <th>att2</th>\n",
       "      <th>att3</th>\n",
       "      <th>att4</th>\n",
       "      <th>att5</th>\n",
       "      <th>att6</th>\n",
       "      <th>att7</th>\n",
       "      <th>att8</th>\n",
       "      <th>att9</th>\n",
       "      <th>att10</th>\n",
       "      <th>class</th>\n",
       "    </tr>\n",
       "  </thead>\n",
       "  <tbody>\n",
       "    <tr>\n",
       "      <th>0</th>\n",
       "      <td>0.249236</td>\n",
       "      <td>1.041160</td>\n",
       "      <td>0.123459</td>\n",
       "      <td>0.294866</td>\n",
       "      <td>0.492433</td>\n",
       "      <td>0.258829</td>\n",
       "      <td>0.244698</td>\n",
       "      <td>0.409868</td>\n",
       "      <td>0.606464</td>\n",
       "      <td>0.308719</td>\n",
       "      <td>class2</td>\n",
       "    </tr>\n",
       "    <tr>\n",
       "      <th>1</th>\n",
       "      <td>0.697460</td>\n",
       "      <td>0.655077</td>\n",
       "      <td>0.390740</td>\n",
       "      <td>0.379296</td>\n",
       "      <td>0.499011</td>\n",
       "      <td>0.950763</td>\n",
       "      <td>0.769168</td>\n",
       "      <td>0.731948</td>\n",
       "      <td>0.818317</td>\n",
       "      <td>0.805957</td>\n",
       "      <td>class2</td>\n",
       "    </tr>\n",
       "    <tr>\n",
       "      <th>2</th>\n",
       "      <td>0.315775</td>\n",
       "      <td>0.555033</td>\n",
       "      <td>0.437252</td>\n",
       "      <td>0.597836</td>\n",
       "      <td>0.822930</td>\n",
       "      <td>0.104913</td>\n",
       "      <td>0.747029</td>\n",
       "      <td>0.512942</td>\n",
       "      <td>0.482010</td>\n",
       "      <td>0.112829</td>\n",
       "      <td>class2</td>\n",
       "    </tr>\n",
       "    <tr>\n",
       "      <th>3</th>\n",
       "      <td>0.526692</td>\n",
       "      <td>0.127093</td>\n",
       "      <td>0.608988</td>\n",
       "      <td>-0.014112</td>\n",
       "      <td>0.915098</td>\n",
       "      <td>0.793375</td>\n",
       "      <td>0.948794</td>\n",
       "      <td>0.112425</td>\n",
       "      <td>0.088916</td>\n",
       "      <td>0.700397</td>\n",
       "      <td>class1</td>\n",
       "    </tr>\n",
       "    <tr>\n",
       "      <th>4</th>\n",
       "      <td>0.408540</td>\n",
       "      <td>0.536533</td>\n",
       "      <td>0.301184</td>\n",
       "      <td>0.585808</td>\n",
       "      <td>0.299471</td>\n",
       "      <td>0.987396</td>\n",
       "      <td>0.138013</td>\n",
       "      <td>0.418470</td>\n",
       "      <td>-0.047781</td>\n",
       "      <td>0.834338</td>\n",
       "      <td>class1</td>\n",
       "    </tr>\n",
       "  </tbody>\n",
       "</table>\n",
       "</div>"
      ],
      "text/plain": [
       "       att1      att2      att3      att4      att5      att6      att7  \\\n",
       "0  0.249236  1.041160  0.123459  0.294866  0.492433  0.258829  0.244698   \n",
       "1  0.697460  0.655077  0.390740  0.379296  0.499011  0.950763  0.769168   \n",
       "2  0.315775  0.555033  0.437252  0.597836  0.822930  0.104913  0.747029   \n",
       "3  0.526692  0.127093  0.608988 -0.014112  0.915098  0.793375  0.948794   \n",
       "4  0.408540  0.536533  0.301184  0.585808  0.299471  0.987396  0.138013   \n",
       "\n",
       "       att8      att9     att10   class  \n",
       "0  0.409868  0.606464  0.308719  class2  \n",
       "1  0.731948  0.818317  0.805957  class2  \n",
       "2  0.512942  0.482010  0.112829  class2  \n",
       "3  0.112425  0.088916  0.700397  class1  \n",
       "4  0.418470 -0.047781  0.834338  class1  "
      ]
     },
     "execution_count": 3,
     "metadata": {},
     "output_type": "execute_result"
    }
   ],
   "source": [
    "import arff\n",
    "data = arff.load(open('../data/RBF.arff'))\n",
    "cnames = [i[0] for i in data['attributes']]\n",
    "df = pd.DataFrame(data['data'], columns=cnames)\n",
    "df.head()"
   ]
  },
  {
   "cell_type": "code",
   "execution_count": 4,
   "metadata": {
    "ExecuteTime": {
     "end_time": "2019-06-08T09:05:54.736746Z",
     "start_time": "2019-06-08T09:05:54.614659Z"
    },
    "scrolled": true
   },
   "outputs": [
    {
     "data": {
      "text/html": [
       "<div>\n",
       "<style scoped>\n",
       "    .dataframe tbody tr th:only-of-type {\n",
       "        vertical-align: middle;\n",
       "    }\n",
       "\n",
       "    .dataframe tbody tr th {\n",
       "        vertical-align: top;\n",
       "    }\n",
       "\n",
       "    .dataframe thead th {\n",
       "        text-align: right;\n",
       "    }\n",
       "</style>\n",
       "<table border=\"1\" class=\"dataframe\">\n",
       "  <thead>\n",
       "    <tr style=\"text-align: right;\">\n",
       "      <th></th>\n",
       "      <th>att1</th>\n",
       "      <th>att2</th>\n",
       "      <th>att3</th>\n",
       "      <th>att4</th>\n",
       "      <th>att5</th>\n",
       "      <th>att6</th>\n",
       "      <th>att7</th>\n",
       "      <th>att8</th>\n",
       "      <th>att9</th>\n",
       "      <th>att10</th>\n",
       "    </tr>\n",
       "  </thead>\n",
       "  <tbody>\n",
       "    <tr>\n",
       "      <th>count</th>\n",
       "      <td>50000.000000</td>\n",
       "      <td>50000.000000</td>\n",
       "      <td>50000.000000</td>\n",
       "      <td>50000.000000</td>\n",
       "      <td>50000.000000</td>\n",
       "      <td>50000.000000</td>\n",
       "      <td>50000.000000</td>\n",
       "      <td>50000.000000</td>\n",
       "      <td>50000.000000</td>\n",
       "      <td>50000.000000</td>\n",
       "    </tr>\n",
       "    <tr>\n",
       "      <th>mean</th>\n",
       "      <td>0.506085</td>\n",
       "      <td>0.514123</td>\n",
       "      <td>0.498927</td>\n",
       "      <td>0.508756</td>\n",
       "      <td>0.480694</td>\n",
       "      <td>0.509604</td>\n",
       "      <td>0.501413</td>\n",
       "      <td>0.534122</td>\n",
       "      <td>0.494289</td>\n",
       "      <td>0.511460</td>\n",
       "    </tr>\n",
       "    <tr>\n",
       "      <th>std</th>\n",
       "      <td>0.344157</td>\n",
       "      <td>0.348055</td>\n",
       "      <td>0.344847</td>\n",
       "      <td>0.348407</td>\n",
       "      <td>0.340913</td>\n",
       "      <td>0.356393</td>\n",
       "      <td>0.358515</td>\n",
       "      <td>0.355438</td>\n",
       "      <td>0.346017</td>\n",
       "      <td>0.345217</td>\n",
       "    </tr>\n",
       "    <tr>\n",
       "      <th>min</th>\n",
       "      <td>-1.179587</td>\n",
       "      <td>-1.139089</td>\n",
       "      <td>-1.609693</td>\n",
       "      <td>-1.288257</td>\n",
       "      <td>-1.297713</td>\n",
       "      <td>-1.375325</td>\n",
       "      <td>-1.207452</td>\n",
       "      <td>-1.552437</td>\n",
       "      <td>-1.257884</td>\n",
       "      <td>-1.097906</td>\n",
       "    </tr>\n",
       "    <tr>\n",
       "      <th>25%</th>\n",
       "      <td>0.249691</td>\n",
       "      <td>0.248892</td>\n",
       "      <td>0.237339</td>\n",
       "      <td>0.247556</td>\n",
       "      <td>0.233768</td>\n",
       "      <td>0.231753</td>\n",
       "      <td>0.219131</td>\n",
       "      <td>0.266343</td>\n",
       "      <td>0.234327</td>\n",
       "      <td>0.250429</td>\n",
       "    </tr>\n",
       "    <tr>\n",
       "      <th>50%</th>\n",
       "      <td>0.502150</td>\n",
       "      <td>0.519754</td>\n",
       "      <td>0.502101</td>\n",
       "      <td>0.502844</td>\n",
       "      <td>0.458065</td>\n",
       "      <td>0.517009</td>\n",
       "      <td>0.497395</td>\n",
       "      <td>0.534136</td>\n",
       "      <td>0.487824</td>\n",
       "      <td>0.522222</td>\n",
       "    </tr>\n",
       "    <tr>\n",
       "      <th>75%</th>\n",
       "      <td>0.776179</td>\n",
       "      <td>0.772265</td>\n",
       "      <td>0.766914</td>\n",
       "      <td>0.771240</td>\n",
       "      <td>0.735447</td>\n",
       "      <td>0.791999</td>\n",
       "      <td>0.786391</td>\n",
       "      <td>0.816321</td>\n",
       "      <td>0.758943</td>\n",
       "      <td>0.780541</td>\n",
       "    </tr>\n",
       "    <tr>\n",
       "      <th>max</th>\n",
       "      <td>2.536609</td>\n",
       "      <td>2.288699</td>\n",
       "      <td>2.324599</td>\n",
       "      <td>2.264245</td>\n",
       "      <td>2.186929</td>\n",
       "      <td>2.309362</td>\n",
       "      <td>2.265891</td>\n",
       "      <td>2.236981</td>\n",
       "      <td>2.507053</td>\n",
       "      <td>2.281663</td>\n",
       "    </tr>\n",
       "  </tbody>\n",
       "</table>\n",
       "</div>"
      ],
      "text/plain": [
       "               att1          att2          att3          att4          att5  \\\n",
       "count  50000.000000  50000.000000  50000.000000  50000.000000  50000.000000   \n",
       "mean       0.506085      0.514123      0.498927      0.508756      0.480694   \n",
       "std        0.344157      0.348055      0.344847      0.348407      0.340913   \n",
       "min       -1.179587     -1.139089     -1.609693     -1.288257     -1.297713   \n",
       "25%        0.249691      0.248892      0.237339      0.247556      0.233768   \n",
       "50%        0.502150      0.519754      0.502101      0.502844      0.458065   \n",
       "75%        0.776179      0.772265      0.766914      0.771240      0.735447   \n",
       "max        2.536609      2.288699      2.324599      2.264245      2.186929   \n",
       "\n",
       "               att6          att7          att8          att9         att10  \n",
       "count  50000.000000  50000.000000  50000.000000  50000.000000  50000.000000  \n",
       "mean       0.509604      0.501413      0.534122      0.494289      0.511460  \n",
       "std        0.356393      0.358515      0.355438      0.346017      0.345217  \n",
       "min       -1.375325     -1.207452     -1.552437     -1.257884     -1.097906  \n",
       "25%        0.231753      0.219131      0.266343      0.234327      0.250429  \n",
       "50%        0.517009      0.497395      0.534136      0.487824      0.522222  \n",
       "75%        0.791999      0.786391      0.816321      0.758943      0.780541  \n",
       "max        2.309362      2.265891      2.236981      2.507053      2.281663  "
      ]
     },
     "execution_count": 4,
     "metadata": {},
     "output_type": "execute_result"
    }
   ],
   "source": [
    "df.describe()"
   ]
  },
  {
   "cell_type": "code",
   "execution_count": 5,
   "metadata": {
    "ExecuteTime": {
     "end_time": "2019-06-08T09:05:59.165926Z",
     "start_time": "2019-06-08T09:05:59.127977Z"
    }
   },
   "outputs": [
    {
     "data": {
      "text/plain": [
       "class\n",
       "class1    25044\n",
       "class2    24956\n",
       "Name: class, dtype: int64"
      ]
     },
     "execution_count": 5,
     "metadata": {},
     "output_type": "execute_result"
    }
   ],
   "source": [
    "df.groupby('class')['class'].count()"
   ]
  },
  {
   "cell_type": "code",
   "execution_count": 6,
   "metadata": {
    "ExecuteTime": {
     "end_time": "2019-06-08T09:06:02.525732Z",
     "start_time": "2019-06-08T09:06:01.389807Z"
    }
   },
   "outputs": [
    {
     "data": {
      "image/png": "[encoded data removed]",
      "text/plain": [
       "<Figure size 432x288 with 4 Axes>"
      ]
     },
     "metadata": {
      "needs_background": "light"
     },
     "output_type": "display_data"
    }
   ],
   "source": [
    "f, axes = plt.subplots(2, 2)\n",
    "\n",
    "for i in range(2):\n",
    "    sns.distplot(df.iloc[:25000,i], ax=axes[0,i])\n",
    "    sns.distplot(df.iloc[25000:,i], ax=axes[1,i])"
   ]
  },
  {
   "cell_type": "code",
   "execution_count": null,
   "metadata": {
    "collapsed": true
   },
   "outputs": [],
   "source": []
  }
 ],
 "metadata": {
  "jupytext": {
   "formats": "ipynb,md"
  },
  "kernelspec": {
   "display_name": "Concept Drift",
   "language": "python",
   "name": "env_cd"
  },
  "language_info": {
   "codemirror_mode": {
    "name": "ipython",
    "version": 3
   },
   "file_extension": ".py",
   "mimetype": "text/x-python",
   "name": "python",
   "nbconvert_exporter": "python",
   "pygments_lexer": "ipython3",
   "version": "3.7.3"
  },
  "varInspector": {
   "cols": {
    "lenName": 16,
    "lenType": 16,
    "lenVar": 40
   },
   "kernels_config": {
    "python": {
     "delete_cmd_postfix": "",
     "delete_cmd_prefix": "del ",
     "library": "var_list.py",
     "varRefreshCmd": "print(var_dic_list())"
    },
    "r": {
     "delete_cmd_postfix": ") ",
     "delete_cmd_prefix": "rm(",
     "library": "var_list.r",
     "varRefreshCmd": "cat(var_dic_list()) "
    }
   },
   "types_to_exclude": [
    "module",
    "function",
    "builtin_function_or_method",
    "instance",
    "_Feature"
   ],
   "window_display": false
  }
 },
 "nbformat": 4,
 "nbformat_minor": 2
}
