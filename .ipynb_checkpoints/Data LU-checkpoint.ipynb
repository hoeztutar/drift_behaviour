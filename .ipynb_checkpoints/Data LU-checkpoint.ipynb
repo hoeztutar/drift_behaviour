{
 "cells": [
  {
   "cell_type": "markdown",
   "metadata": {},
   "source": [
    "# Data Luxembourg"
   ]
  },
  {
   "cell_type": "markdown",
   "metadata": {},
   "source": [
    "## Importing Necessary Libraries and Reading Data"
   ]
  },
  {
   "cell_type": "code",
   "execution_count": 2,
   "metadata": {
    "collapsed": true
   },
   "outputs": [],
   "source": [
    "from mat4py import loadmat\n",
    "from datetime import datetime, timedelta\n",
    "\n",
    "import pandas as pd\n",
    "import numpy as np\n",
    "\n",
    "import matplotlib.pyplot as plt\n",
    "import seaborn as sns\n",
    "%matplotlib inline\n",
    "plt.style.use('seaborn-notebook')\n",
    "pd.set_option('display.max_column', 250)\n",
    "from matplotlib import rcParams\n",
    "rcParams['figure.figsize'] = (5, 3)\n",
    "rcParams['figure.dpi'] = 150"
   ]
  },
  {
   "cell_type": "code",
   "execution_count": 3,
   "metadata": {},
   "outputs": [
    {
     "name": "stdout",
     "output_type": "stream",
     "text": [
      "(1901, 31) (1901, 1) (1901, 1)\n"
     ]
    }
   ],
   "source": [
    "data = loadmat(\"data/dataLU.mat\")\n",
    "#print(data)\n",
    "X = pd.DataFrame(data['dataLU']['X']).transpose()\n",
    "y = pd.DataFrame(data['dataLU']['y'], columns=['label'])\n",
    "t = pd.DataFrame(data['dataLU']['t'], columns=['date'])\n",
    "print(X.shape, y.shape, t.shape)"
   ]
  },
  {
   "cell_type": "code",
   "execution_count": 4,
   "metadata": {},
   "outputs": [
    {
     "data": {
      "text/plain": [
       "datetime.datetime(3, 6, 10, 14, 0)"
      ]
     },
     "execution_count": 4,
     "metadata": {},
     "output_type": "execute_result"
    }
   ],
   "source": [
    "matlab_datenum = 1257.5833333333333\n",
    "python_datetime = datetime.fromordinal(int(matlab_datenum)) + timedelta(days=matlab_datenum%1) - timedelta(days = 366)\n",
    "python_datetime"
   ]
  },
  {
   "cell_type": "code",
   "execution_count": 5,
   "metadata": {
    "scrolled": false
   },
   "outputs": [
    {
     "data": {
      "text/plain": [
       "0       0003-05-09 10:00:00\n",
       "1       0003-05-10 17:00:00\n",
       "2       0003-05-11 16:00:00\n",
       "3       0003-05-11 19:00:00\n",
       "4       0003-05-12 10:00:00\n",
       "5       0003-05-12 19:00:00\n",
       "6       0003-05-13 10:00:00\n",
       "7       0003-05-13 11:00:00\n",
       "8       0003-05-13 11:00:00\n",
       "9       0003-05-13 13:00:00\n",
       "10      0003-05-13 14:00:00\n",
       "11      0003-05-13 15:00:00\n",
       "12      0003-05-13 15:00:00\n",
       "13      0003-05-13 17:00:00\n",
       "14      0003-05-13 17:00:00\n",
       "15      0003-05-13 17:00:00\n",
       "16      0003-05-13 18:00:00\n",
       "17      0003-05-13 19:00:00\n",
       "18      0003-05-13 19:00:00\n",
       "19      0003-05-14 09:00:00\n",
       "20      0003-05-14 09:00:00\n",
       "21      0003-05-14 10:00:00\n",
       "22      0003-05-14 16:00:00\n",
       "23      0003-05-14 17:00:00\n",
       "24      0003-05-14 18:00:00\n",
       "25      0003-05-14 18:00:00\n",
       "26      0003-05-14 18:00:00\n",
       "27      0003-05-14 18:00:00\n",
       "28      0003-05-14 19:00:00\n",
       "29      0003-05-15 11:00:00\n",
       "               ...         \n",
       "1871    0005-02-01 21:00:00\n",
       "1872    0005-02-02 15:00:00\n",
       "1873    0005-02-02 16:00:00\n",
       "1874    0005-02-02 16:00:00\n",
       "1875    0005-02-02 18:00:00\n",
       "1876    0005-02-02 18:00:00\n",
       "1877    0005-02-02 19:00:00\n",
       "1878    0005-02-03 11:00:00\n",
       "1879    0005-02-03 11:00:00\n",
       "1880    0005-02-03 15:00:00\n",
       "1881    0005-02-03 19:00:00\n",
       "1882    0005-02-03 20:00:00\n",
       "1883    0005-02-04 15:00:00\n",
       "1884    0005-02-04 18:00:00\n",
       "1885    0005-02-05 10:00:00\n",
       "1886    0005-02-05 12:00:00\n",
       "1887    0005-02-05 14:00:00\n",
       "1888    0005-02-05 16:00:00\n",
       "1889    0005-02-07 14:00:00\n",
       "1890    0005-02-07 18:00:00\n",
       "1891    0005-02-07 20:00:00\n",
       "1892    0005-02-08 19:00:00\n",
       "1893    0005-02-10 18:00:00\n",
       "1894    0005-02-11 20:00:00\n",
       "1895    0005-02-14 18:00:00\n",
       "1896    0005-02-17 13:00:00\n",
       "1897    0005-02-21 11:00:00\n",
       "1898    0005-02-21 17:00:00\n",
       "1899    0005-02-21 18:00:00\n",
       "1900    0005-02-21 20:00:00\n",
       "Name: date, Length: 1901, dtype: object"
      ]
     },
     "execution_count": 5,
     "metadata": {},
     "output_type": "execute_result"
    }
   ],
   "source": [
    "t['date'].apply(lambda matlab_datenum: datetime.fromordinal(int(matlab_datenum)) + timedelta(days=matlab_datenum%1) - timedelta(days = 366))"
   ]
  },
  {
   "cell_type": "code",
   "execution_count": 6,
   "metadata": {},
   "outputs": [
    {
     "data": {
      "text/plain": [
       "datetime.datetime(3, 6, 10, 14, 0)"
      ]
     },
     "execution_count": 6,
     "metadata": {},
     "output_type": "execute_result"
    }
   ],
   "source": [
    "python_datetime"
   ]
  },
  {
   "cell_type": "markdown",
   "metadata": {},
   "source": [
    "## Info on Dataset"
   ]
  },
  {
   "cell_type": "markdown",
   "metadata": {},
   "source": [
    "**Name**: Luxembourg Dataset\n",
    "\n",
    "**Author/Complier:** Indrė Žliobaitė\n",
    "\n",
    "**Source**: https://sites.google.com/site/zliobaite/resources-1\n",
    "\n",
    "**Brief Explanation:** Luxembourg dataset is constructing using European Social Survey data. Each instance is an individual. The attributes are formed from answers to the survey questionnaire. The labels indicate high or low internet usage. The dataset has time stamps, the questionnaires are collected over 5 years period. It is expected that internet usage is changing over time (concept drift). "
   ]
  },
  {
   "cell_type": "code",
   "execution_count": 13,
   "metadata": {},
   "outputs": [
    {
     "name": "stdout",
     "output_type": "stream",
     "text": [
      "Shape:  (1901, 31)\n",
      "No of Class:  label    2\n",
      "dtype: int64\n",
      "Class balance: \n",
      " label\n",
      "0    977\n",
      "1    924\n",
      "Name: label, dtype: int64\n"
     ]
    }
   ],
   "source": [
    "print(\"Shape: \", X.shape)\n",
    "print(\"No of Class: \", y.nunique())\n",
    "print(\"Class balance: \\n\", y.groupby('label')['label'].count())"
   ]
  },
  {
   "cell_type": "markdown",
   "metadata": {},
   "source": [
    "## Fit a Classifier"
   ]
  },
  {
   "cell_type": "code",
   "execution_count": 14,
   "metadata": {
    "collapsed": true
   },
   "outputs": [],
   "source": [
    "from sklearn.model_selection import train_test_split"
   ]
  },
  {
   "cell_type": "code",
   "execution_count": 15,
   "metadata": {
    "collapsed": true
   },
   "outputs": [],
   "source": [
    "train_X, val_X, train_y, val_y = train_test_split(X, y, random_state=0)"
   ]
  },
  {
   "cell_type": "code",
   "execution_count": 17,
   "metadata": {
    "scrolled": true
   },
   "outputs": [
    {
     "name": "stdout",
     "output_type": "stream",
     "text": [
      "Training Score: 1.000000 Test Score: 1.000000\n"
     ]
    },
    {
     "name": "stderr",
     "output_type": "stream",
     "text": [
      "/Users/Feranor/anaconda3/envs/env_CD/lib/python3.5/site-packages/sklearn/utils/validation.py:752: DataConversionWarning: A column-vector y was passed when a 1d array was expected. Please change the shape of y to (n_samples, ), for example using ravel().\n",
      "  y = column_or_1d(y, warn=True)\n"
     ]
    }
   ],
   "source": [
    "from sklearn.svm import LinearSVC\n",
    "\n",
    "SVM = LinearSVC()\n",
    "SVM.fit(train_X, train_y)\n",
    "print(\"Training Score: {0:3f}\".format(SVM.score(train_X, train_y)),\n",
    "      \"Test Score: {0:3f}\".format(SVM.score(val_X, val_y)))"
   ]
  },
  {
   "cell_type": "code",
   "execution_count": 21,
   "metadata": {},
   "outputs": [
    {
     "name": "stdout",
     "output_type": "stream",
     "text": [
      "Score for Y1: 1.000000 Score for Y2: 1.000000 Score for Y3: 1.000000 Score for Y4: 1.000000\n"
     ]
    }
   ],
   "source": [
    "svm_year1 = LinearSVC().fit(X[:380],y.label[:380])\n",
    "print(\"Score for Y1: {0:3f}\".format(svm_year1.score(X[:380],y.label[:380])),\n",
    "      \"Score for Y2: {0:3f}\".format(svm_year1.score(X[380:760],y.label[380:760])),\n",
    "      \"Score for Y3: {0:3f}\".format(svm_year1.score(X[760:1140],y.label[760:1140])),\n",
    "      \"Score for Y4: {0:3f}\".format(svm_year1.score(X[1140:],y.label[1140:])))"
   ]
  },
  {
   "cell_type": "code",
   "execution_count": 7,
   "metadata": {
    "scrolled": true
   },
   "outputs": [
    {
     "name": "stderr",
     "output_type": "stream",
     "text": [
      "/Users/Feranor/anaconda3/envs/env_CD/lib/python3.5/site-packages/sklearn/linear_model/logistic.py:432: FutureWarning: Default solver will be changed to 'lbfgs' in 0.22. Specify a solver to silence this warning.\n",
      "  FutureWarning)\n"
     ]
    }
   ],
   "source": [
    "from sklearn.linear_model import LogisticRegression\n",
    "logreg = LogisticRegression().fit(X[:100], y.label[:100])"
   ]
  },
  {
   "cell_type": "code",
   "execution_count": null,
   "metadata": {
    "collapsed": true
   },
   "outputs": [],
   "source": []
  },
  {
   "cell_type": "code",
   "execution_count": null,
   "metadata": {
    "collapsed": true
   },
   "outputs": [],
   "source": []
  },
  {
   "cell_type": "code",
   "execution_count": 8,
   "metadata": {},
   "outputs": [
    {
     "data": {
      "text/plain": [
       "0.9544697390338701"
      ]
     },
     "execution_count": 8,
     "metadata": {},
     "output_type": "execute_result"
    }
   ],
   "source": [
    "logreg.score(X[:-100], y.label[:-100])"
   ]
  }
 ],
 "metadata": {
  "jupytext": {
   "formats": "ipynb,md"
  },
  "kernelspec": {
   "display_name": "Concept Drift",
   "language": "python",
   "name": "env_cd"
  },
  "language_info": {
   "codemirror_mode": {
    "name": "ipython",
    "version": 3
   },
   "file_extension": ".py",
   "mimetype": "text/x-python",
   "name": "python",
   "nbconvert_exporter": "python",
   "pygments_lexer": "ipython3",
   "version": "3.5.6"
  },
  "varInspector": {
   "cols": {
    "lenName": 16,
    "lenType": 16,
    "lenVar": 40
   },
   "kernels_config": {
    "python": {
     "delete_cmd_postfix": "",
     "delete_cmd_prefix": "del ",
     "library": "var_list.py",
     "varRefreshCmd": "print(var_dic_list())"
    },
    "r": {
     "delete_cmd_postfix": ") ",
     "delete_cmd_prefix": "rm(",
     "library": "var_list.r",
     "varRefreshCmd": "cat(var_dic_list()) "
    }
   },
   "types_to_exclude": [
    "module",
    "function",
    "builtin_function_or_method",
    "instance",
    "_Feature"
   ],
   "window_display": false
  }
 },
 "nbformat": 4,
 "nbformat_minor": 2
}
